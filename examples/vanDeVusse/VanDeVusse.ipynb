{
 "cells": [
  {
   "cell_type": "code",
   "execution_count": null,
   "outputs": [
    {
     "name": "stderr",
     "text": [
      "Using backend: tensorflow\n"
     ],
     "output_type": "stream"
    }
   ],
   "source": [
    "import numpy as np\n",
    "from multi_step import *\n",
    "from utils import objective, stage"
   ],
   "metadata": {
    "collapsed": false,
    "pycharm": {
     "name": "#%%\n",
     "is_executing": true
    }
   }
  },
  {
   "cell_type": "markdown",
   "source": [
    "Case study based on the van de Vusse reactions in a semi-batch process\n",
    "\n",
    "A -> B -> C\n",
    "2A -> D\n",
    "\n",
    "https://pubs.acs.org/doi/pdf/10.1021/i160048a008"
   ],
   "metadata": {
    "collapsed": false,
    "pycharm": {
     "name": "#%% md\n"
    }
   }
  },
  {
   "cell_type": "code",
   "execution_count": null,
   "outputs": [],
   "source": [
    "# Generate conditions to be used for generating data\n",
    "\n",
    "# Define the condition ranges [lower,upper,step (if applicable)]\n",
    "#[P1, P2, P3, V0, sigmaF]\n",
    "condition_ranges = [[0, 10],[0, 10],[0,10],[0,1],[0,0.5]]\n",
    "\n",
    "# Generate all condition permutations\n",
    "# conditions = toy.allConditions(condition_ranges)\n",
    "\n",
    "# Generate values to explore the search space using low discrepancy\n",
    "# quasi-random numbers and discrete methods\n",
    "num_points = 1000\n",
    "conditions =  toy.sobolSequenceConditions(condition_ranges, num_points)"
   ],
   "metadata": {
    "collapsed": false,
    "pycharm": {
     "name": "#%%\n",
     "is_executing": true
    }
   }
  },
  {
   "cell_type": "code",
   "execution_count": null,
   "outputs": [],
   "source": [
    "# Generate the yields of the various materials\n",
    "yieldList = []\n",
    "costList = []\n",
    "for conditions_run in conditions:\n",
    "    yields, costs = toy.experimentalRun(1,conditions_run)\n",
    "    yieldList.append(yields)\n",
    "    costList.append(costs)\n",
    "yieldList = np.array(yieldList)"
   ],
   "metadata": {
    "collapsed": false,
    "pycharm": {
     "name": "#%%\n",
     "is_executing": true
    }
   }
  },
  {
   "cell_type": "code",
   "execution_count": null,
   "outputs": [],
   "source": [
    "# Fit the first stage data\n",
    "x1 = conditions[:,:3]\n",
    "y1 = yieldList[:,2:5]\n",
    "toy.fit_stage_1([x1,y1], epochs=5)"
   ],
   "metadata": {
    "collapsed": false,
    "pycharm": {
     "name": "#%%\n",
     "is_executing": true
    }
   }
  },
  {
   "cell_type": "code",
   "execution_count": null,
   "outputs": [],
   "source": [
    "# Fit the second stage data\n",
    "\n",
    "x2 = np.concatenate((np.expand_dims(yieldList[:,3],axis=1),conditions[:,3:6]),axis=1)\n",
    "y2 = yieldList[:,5:9]\n",
    "toy.fit_stage_2([x2,y2], epochs=5)"
   ],
   "metadata": {
    "collapsed": false,
    "pycharm": {
     "name": "#%%\n",
     "is_executing": true
    }
   }
  },
  {
   "cell_type": "code",
   "execution_count": null,
   "outputs": [],
   "source": [
    "# Fit the third stage data\n",
    "x3 = np.concatenate((np.expand_dims(yieldList[:,4],axis=1),yieldList[:,7:9],conditions[:,6:]),axis=1)\n",
    "y3 = yieldList[:,9:]\n",
    "toy.fit_stage_3([x3,y3], epochs=5)"
   ],
   "metadata": {
    "collapsed": false,
    "pycharm": {
     "name": "#%%\n",
     "is_executing": true
    }
   }
  },
  {
   "cell_type": "code",
   "execution_count": null,
   "outputs": [],
   "source": [
    "#Plot stage 1\n",
    "# num_plot_points = 20\n",
    "# plot_var = 0\n",
    "# plot_x = np.hstack((np.expand_dims(np.linspace(2,10,num_plot_points),1),np.full((num_plot_points,1),7),np.full((num_plot_points,1),5)))\n",
    "# plot_y = np.array([toy.stage_1(0.4, *row) for row in plot_x])\n",
    "# toy.stage_1_model.visualise(plot_x,plot_y,plot_x,plot_var,'Stage_1')"
   ],
   "metadata": {
    "collapsed": false,
    "pycharm": {
     "name": "#%%\n",
     "is_executing": true
    }
   }
  },
  {
   "cell_type": "code",
   "execution_count": null,
   "outputs": [],
   "source": [
    "# # Save the models\n",
    "# toy.stage_1_model.save('../examples/Toy_problem/Saved_Models/stage_1_model')\n",
    "# toy.stage_2_model.save('../examples/Toy_problem/Saved_Models/stage_2_model')\n",
    "# toy.stage_3_model.save('../examples/Toy_problem/Saved_Models/stage_3_model')"
   ],
   "metadata": {
    "collapsed": false,
    "pycharm": {
     "name": "#%%\n",
     "is_executing": true
    }
   }
  },
  {
   "cell_type": "code",
   "execution_count": null,
   "outputs": [],
   "source": [
    "# Generate the multi-step class\n",
    "multi_step = multi_step('adam')"
   ],
   "metadata": {
    "collapsed": false,
    "pycharm": {
     "name": "#%%\n",
     "is_executing": true
    }
   }
  },
  {
   "cell_type": "code",
   "execution_count": null,
   "outputs": [],
   "source": [
    "# Load the models from a save\n",
    "# import tensorflow as tf\n",
    "# toy = ts.Toy()\n",
    "# \n",
    "# toy.stage_1_model = tf.keras.models.load_model('../examples/Toy_problem/Saved_Models/stage_1_model.h5')\n",
    "# toy.stage_2_model = tf.keras.models.load_model('../examples/Toy_problem/Saved_Models/stage_2_model.h5')\n",
    "# toy.stage_3_model = tf.keras.models.load_model('../examples/Toy_problem/Saved_Models/stage_3_model.h5')"
   ],
   "metadata": {
    "collapsed": false,
    "pycharm": {
     "name": "#%%\n",
     "is_executing": true
    }
   }
  },
  {
   "cell_type": "code",
   "execution_count": null,
   "outputs": [],
   "source": [
    "# Load the models into the framework\n",
    "\n",
    "#Define the stages\n",
    "# stageID, stageModel, conditionRanges, followingStages (followingStageID, feedingVariables)\n",
    "stage1 = stage(0, toy.stage_1_model, condition_ranges[0:3], [[1, [1]], [2, [2]]])\n",
    "stage2 = stage(1, toy.stage_2_model, condition_ranges[3:6], [[2,[2,3]]])\n",
    "stage3 = stage(2, toy.stage_3_model, condition_ranges[6:])\n",
    "\n",
    "stages = [stage1, stage2, stage3]\n",
    "\n",
    "multi_step.loadModels(stages)"
   ],
   "metadata": {
    "collapsed": false,
    "pycharm": {
     "name": "#%%\n",
     "is_executing": true
    }
   }
  },
  {
   "cell_type": "code",
   "execution_count": null,
   "outputs": [],
   "source": [
    "# Define the objective functions\n",
    "def objectiveFunction1(var1, var2, var3):\n",
    "    return (var1+var2)**2+(var2+var3)**2\n",
    "    \n",
    "def objectiveFunction2(var1, var2, var3, var4):\n",
    "    return (var1+var4)**2-var3**2+var2**2\n",
    "\n",
    "# Define the objective objects including the objective functions and the IDs of relevant variables/outputs\n",
    "# Define objective variables with form: [stage, 'input'/'output', stage variable]\n",
    "objective1 = objective(objectiveFunction1, [[stage1,'inputs',1],[stage2,'inputs',1],[stage3,'inputs',1]])\n",
    "objective2 = objective(objectiveFunction2,[[stage1,'outputs',1],[stage2,'outputs',0],[stage3,'inputs',1],[stage2,'outputs',1]])\n",
    "\n",
    "objectives = [objective1, objective2]"
   ],
   "metadata": {
    "collapsed": false,
    "pycharm": {
     "name": "#%%\n",
     "is_executing": true
    }
   }
  },
  {
   "cell_type": "code",
   "execution_count": null,
   "outputs": [],
   "source": [
    "# Define the objectives for the framework\n",
    "multi_step.defineObjectives(objectives)"
   ],
   "metadata": {
    "collapsed": false,
    "pycharm": {
     "name": "#%%\n",
     "is_executing": true
    }
   }
  },
  {
   "cell_type": "code",
   "execution_count": null,
   "outputs": [],
   "source": [
    "# Optimise the process\n",
    "# numObjectives, numObjectiveSamples, preferenceCodeDim, hyperparameterGeneratorDim, epochs=5, h_dim=5, n_layers=4, network_type='GATConv', **kwargs\n",
    "multi_step.train(2, 4, 10, 100, epochs=100, h_dim=5, n_layers=4, network_type='GATConv', num_heads=3)"
   ],
   "metadata": {
    "collapsed": false,
    "pycharm": {
     "name": "#%%\n",
     "is_executing": true
    }
   }
  },
  {
   "cell_type": "code",
   "execution_count": null,
   "outputs": [],
   "source": [],
   "metadata": {
    "collapsed": false,
    "pycharm": {
     "name": "#%%\n",
     "is_executing": true
    }
   }
  }
 ],
 "metadata": {
  "language_info": {
   "codemirror_mode": {
    "name": "ipython",
    "version": 2
   },
   "file_extension": ".py",
   "mimetype": "text/x-python",
   "name": "python",
   "nbconvert_exporter": "python",
   "pygments_lexer": "ipython2",
   "version": "2.7.6"
  },
  "kernelspec": {
   "name": "multi-step",
   "language": "python",
   "display_name": "multi-step"
  },
  "pycharm": {
   "stem_cell": {
    "cell_type": "raw",
    "source": [],
    "metadata": {
     "collapsed": false
    }
   }
  }
 },
 "nbformat": 4,
 "nbformat_minor": 0
}