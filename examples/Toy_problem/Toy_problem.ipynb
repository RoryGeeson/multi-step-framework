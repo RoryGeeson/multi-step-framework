{
 "cells": [
  {
   "cell_type": "code",
   "execution_count": 1,
   "metadata": {
    "collapsed": true,
    "pycharm": {
     "is_executing": false
    }
   },
   "outputs": [],
   "source": [
    "# import Toy_System as ts\n",
    "import Toy_System as ts"
   ]
  },
  {
   "cell_type": "code",
   "execution_count": 2,
   "outputs": [],
   "source": [
    "# Generate the toy problem class object\n",
    "\n",
    "toy = ts.Toy()"
   ],
   "metadata": {
    "collapsed": false,
    "pycharm": {
     "name": "#%%\n",
     "is_executing": false
    }
   }
  },
  {
   "cell_type": "code",
   "execution_count": 3,
   "outputs": [],
   "source": [
    "# Generate conditions to be used for generating data\n",
    "\n",
    "# Define the condition ranges [lower,upper,step (if applicable)]\n",
    "#[split, T1, P1, solvent, t_out1, T2, P2, t_out2, T3, P3, t_out3]\n",
    "condition_ranges = [[1,5,1],[2,10],[2,10],[1,3,1],[2,10],[2,10],[2,10],[2,10],[2,10],[2,10],[2,10]]\n",
    "\n",
    "# Generate all condition permutations\n",
    "# conditions = toy.allConditions(condition_ranges)\n",
    "\n",
    "# Generate values to explore the search space using low discrepancy\n",
    "# quasi-random numbers and discrete methods\n",
    "num_points = 10\n",
    "conditions =  toy.sobolSequenceConditions(condition_ranges, num_points)"
   ],
   "metadata": {
    "collapsed": false,
    "pycharm": {
     "name": "#%%\n",
     "is_executing": false
    }
   }
  },
  {
   "cell_type": "code",
   "execution_count": 4,
   "outputs": [
    {
     "name": "stdout",
     "text": [
      "[4, 21.53216157932368, 123.24742987749873, 1.5, 8.585814486631532, 21.53216157932368, 123.24742987749873, 8.585814486631532, 21.53216157932368, 123.24742987749873, 8.585814486631532]\n[6, 13.784380259964422, 238.8564458334226, 1.5, 12.125732532083184, 13.784380259964422, 238.8564458334226, 5.278031643091577, 13.784380259964422, 238.8564458334226, 5.278031643091577]\n[3, 29.547465920277997, 48.50293012833273, 1.5, 5.278031643091577, 29.547465920277997, 48.50293012833273, 12.125732532083184, 29.547465920277997, 48.50293012833273, 12.125732532083184]\n[3, 17.619284146320286, 175.69341632705766, 1, 13.966610165238235, 33.63473536961898, 25.027005065686364, 10.330412131161864, 10.045108566305142, 313.17549127894546, 6.898648307306074]\n[6, 33.63473536961898, 25.027005065686364, 1.5, 6.898648307306074, 17.619284146320286, 175.69341632705766, 3.7371928188465517, 25.511094924820412, 81.0328298346381, 13.966610165238235]\n[6, 10.045108566305142, 81.0328298346381, 1.5, 3.7371928188465517, 25.511094924820412, 313.17549127894546, 13.966610165238235, 17.619284146320286, 25.027005065686364, 3.7371928188465517]\n[3, 25.511094924820412, 313.17549127894546, 2, 10.330412131161864, 10.045108566305142, 81.0328298346381, 6.898648307306074, 33.63473536961898, 175.69341632705766, 10.330412131161864]\n[3, 15.691158880732228, 63.5943858178412, 1.5, 9.45139748215648, 11.901346607542326, 16.454777554177966, 14.90281555209247, 11.901346607542326, 16.454777554177966, 11.222084023041335]\n[6, 31.585086674518145, 274.5955688890066, 1, 3.002811084953578, 27.522548420436838, 148.15991355395985, 7.734553136131993, 27.522548420436838, 148.15991355395985, 4.496573049932038]\n[7, 8.21968669788913, 148.15991355395985, 2, 6.07932017334276, 19.56681834735872, 274.5955688890066, 11.222084023041335, 19.56681834735872, 274.5955688890066, 14.90281555209247]\n"
     ],
     "output_type": "stream"
    }
   ],
   "source": [
    "# Generate the yields of the various materials\n",
    "yieldList = []\n",
    "costList = []\n",
    "for conditions_run in conditions:\n",
    "    yields, costs = toy.experimentalRun(1,conditions_run)\n",
    "    yieldList.append(yields)\n",
    "    costList.append(costs)"
   ],
   "metadata": {
    "collapsed": false,
    "pycharm": {
     "name": "#%%\n",
     "is_executing": false
    }
   }
  },
  {
   "cell_type": "code",
   "execution_count": 5,
   "outputs": [],
   "source": [
    "# Fit the first stage data\n"
   ],
   "metadata": {
    "collapsed": false,
    "pycharm": {
     "name": "#%%\n",
     "is_executing": false
    }
   }
  },
  {
   "cell_type": "code",
   "execution_count": 5,
   "outputs": [],
   "source": [],
   "metadata": {
    "collapsed": false,
    "pycharm": {
     "name": "#%%\n",
     "is_executing": false
    }
   }
  }
 ],
 "metadata": {
  "kernelspec": {
   "name": "python3",
   "language": "python",
   "display_name": "Python 3"
  },
  "language_info": {
   "codemirror_mode": {
    "name": "ipython",
    "version": 2
   },
   "file_extension": ".py",
   "mimetype": "text/x-python",
   "name": "python",
   "nbconvert_exporter": "python",
   "pygments_lexer": "ipython2",
   "version": "2.7.6"
  },
  "pycharm": {
   "stem_cell": {
    "cell_type": "raw",
    "source": [],
    "metadata": {
     "collapsed": false
    }
   }
  }
 },
 "nbformat": 4,
 "nbformat_minor": 0
}