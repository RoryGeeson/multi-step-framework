{
 "cells": [
  {
   "cell_type": "code",
   "execution_count": 1,
   "metadata": {
    "collapsed": true,
    "pycharm": {
     "is_executing": false
    }
   },
   "outputs": [
    {
     "name": "stderr",
     "text": [
      "Using backend: tensorflow\n"
     ],
     "output_type": "stream"
    }
   ],
   "source": [
    "import Toy_System_Fully_Continuous as ts\n",
    "import numpy as np\n",
    "from multi_step import *\n",
    "from utils import objective, stage"
   ]
  },
  {
   "cell_type": "code",
   "execution_count": 2,
   "outputs": [],
   "source": [
    "# Generate the toy problem class object\n",
    "\n",
    "toy = ts.Toy()"
   ],
   "metadata": {
    "collapsed": false,
    "pycharm": {
     "name": "#%%\n",
     "is_executing": false
    }
   }
  },
  {
   "cell_type": "code",
   "execution_count": 3,
   "outputs": [],
   "source": [
    "# Generate conditions to be used for generating data\n",
    "\n",
    "# Define the condition ranges [lower,upper,step (if applicable)]\n",
    "#[T1, P1, t_out1, T2, P2, t_out2, T3, P3, t_out3]\n",
    "condition_ranges = [[2,10],[2,10],[2,10],[2,10],[2,10],[2,10],[2,10],[2,10],[2,10]]\n",
    "\n",
    "# Generate all condition permutations\n",
    "# conditions = toy.allConditions(condition_ranges)\n",
    "\n",
    "# Generate values to explore the search space using low discrepancy\n",
    "# quasi-random numbers and discrete methods\n",
    "num_points = 1000\n",
    "conditions =  toy.sobolSequenceConditions(condition_ranges, num_points)"
   ],
   "metadata": {
    "collapsed": false,
    "pycharm": {
     "name": "#%%\n",
     "is_executing": false
    }
   }
  },
  {
   "cell_type": "code",
   "execution_count": 4,
   "outputs": [],
   "source": [
    "# Generate the yields of the various materials\n",
    "yieldList = []\n",
    "costList = []\n",
    "for conditions_run in conditions:\n",
    "    yields, costs = toy.experimentalRun(1,conditions_run)\n",
    "    yieldList.append(yields)\n",
    "    costList.append(costs)\n",
    "yieldList = np.array(yieldList)"
   ],
   "metadata": {
    "collapsed": false,
    "pycharm": {
     "name": "#%%\n",
     "is_executing": false
    }
   }
  },
  {
   "cell_type": "code",
   "execution_count": 5,
   "outputs": [
    {
     "name": "stdout",
     "text": [
      "epoch:  0 , loss =  3.2195964\n"
     ],
     "output_type": "stream"
    }
   ],
   "source": [
    "# Fit the first stage data\n",
    "x1 = conditions[:,:3]\n",
    "y1 = yieldList[:,2:5]\n",
    "toy.fit_stage_1([x1,y1], epochs=5)"
   ],
   "metadata": {
    "collapsed": false,
    "pycharm": {
     "name": "#%%\n",
     "is_executing": false
    }
   }
  },
  {
   "cell_type": "code",
   "execution_count": 6,
   "outputs": [
    {
     "name": "stdout",
     "text": [
      "epoch:  0 , loss =  13.4511175\n"
     ],
     "output_type": "stream"
    }
   ],
   "source": [
    "# Fit the second stage data\n",
    "\n",
    "# x2 = np.concatenate((np.expand_dims(yieldList[:,1],axis=1),np.expand_dims(yieldList[:,3],axis=1),conditions[:,3:6]),axis=1)\n",
    "x2 = np.concatenate((np.expand_dims(yieldList[:,3],axis=1),conditions[:,3:6]),axis=1)\n",
    "y2 = yieldList[:,5:9]\n",
    "toy.fit_stage_2([x2,y2], epochs=5)"
   ],
   "metadata": {
    "collapsed": false,
    "pycharm": {
     "name": "#%%\n",
     "is_executing": false
    }
   }
  },
  {
   "cell_type": "code",
   "execution_count": 7,
   "outputs": [
    {
     "name": "stdout",
     "text": [
      "epoch:  0 , loss =  5.3018913\n"
     ],
     "output_type": "stream"
    }
   ],
   "source": [
    "# Fit the third stage data\n",
    "x3 = np.concatenate((np.expand_dims(yieldList[:,4],axis=1),yieldList[:,7:9],conditions[:,6:]),axis=1)\n",
    "y3 = yieldList[:,9:]\n",
    "toy.fit_stage_3([x3,y3], epochs=5)"
   ],
   "metadata": {
    "collapsed": false,
    "pycharm": {
     "name": "#%%\n",
     "is_executing": false
    }
   }
  },
  {
   "cell_type": "code",
   "execution_count": 8,
   "outputs": [],
   "source": [
    "#Plot stage 1\n",
    "# num_plot_points = 20\n",
    "# plot_var = 0\n",
    "# plot_x = np.hstack((np.expand_dims(np.linspace(2,10,num_plot_points),1),np.full((num_plot_points,1),7),np.full((num_plot_points,1),5)))\n",
    "# plot_y = np.array([toy.stage_1(0.4, *row) for row in plot_x])\n",
    "# toy.stage_1_model.visualise(plot_x,plot_y,plot_x,plot_var,'Stage_1')"
   ],
   "metadata": {
    "collapsed": false,
    "pycharm": {
     "name": "#%%\n",
     "is_executing": false
    }
   }
  },
  {
   "cell_type": "code",
   "execution_count": 9,
   "outputs": [],
   "source": [
    "# Save the models\n",
    "# toy.stage_1_model.save('../examples/Toy_problem/Saved_Models/stage_1_model')\n",
    "# toy.stage_2_model.save('../examples/Toy_problem/Saved_Models/stage_2_model')\n",
    "# toy.stage_3_model.save('../examples/Toy_problem/Saved_Models/stage_3_model')"
   ],
   "metadata": {
    "collapsed": false,
    "pycharm": {
     "name": "#%%\n",
     "is_executing": false
    }
   }
  },
  {
   "cell_type": "code",
   "execution_count": 10,
   "outputs": [],
   "source": [
    "# Generate the multi-step class\n",
    "multi_step = multi_step('adam')"
   ],
   "metadata": {
    "collapsed": false,
    "pycharm": {
     "name": "#%%\n",
     "is_executing": false
    }
   }
  },
  {
   "cell_type": "code",
   "execution_count": 11,
   "outputs": [],
   "source": [
    "# Load the models from a save\n",
    "# import tensorflow as tf\n",
    "# toy = ts.Toy()\n",
    "# \n",
    "# toy.stage_1_model = tf.keras.models.load_model('../examples/Toy_problem/Saved_Models/stage_1_model.h5')\n",
    "# toy.stage_2_model = tf.keras.models.load_model('../examples/Toy_problem/Saved_Models/stage_2_model.h5')\n",
    "# toy.stage_3_model = tf.keras.models.load_model('../examples/Toy_problem/Saved_Models/stage_3_model.h5')"
   ],
   "metadata": {
    "collapsed": false,
    "pycharm": {
     "name": "#%%\n",
     "is_executing": false
    }
   }
  },
  {
   "cell_type": "code",
   "execution_count": 12,
   "outputs": [
    {
     "name": "stderr",
     "text": [
      "C:\\Users\\geeso\\Anaconda3\\envs\\multi-step\\lib\\site-packages\\dgl\\base.py:45: DGLWarning: Recommend creating graphs by `dgl.graph(data)` instead of `dgl.DGLGraph(data)`.\n  return warnings.warn(message, category=category, stacklevel=1)\n"
     ],
     "output_type": "stream"
    }
   ],
   "source": [
    "# Load the models into the framework\n",
    "\n",
    "#Define the stages\n",
    "stage1 = stage(0, toy.stage_1_model, condition_ranges[0:3], [[1, [1]], [2, [2]]])\n",
    "stage2 = stage(1, toy.stage_2_model, condition_ranges[3:6], [[2,[2,3]]])\n",
    "stage3 = stage(2, toy.stage_3_model, condition_ranges[6:])\n",
    "\n",
    "stages = [stage1, stage2, stage3]\n",
    "# list of models\n",
    "# stages = [toy.stage_1_model, toy.stage_2_model, toy.stage_3_model]\n",
    "# IDs for the models\n",
    "# stageIDs = [1,2,3]\n",
    "# Connectivity of the models\n",
    "# stageConnectivity = np.array([[stageIDs[0],stageIDs[1]],[stageIDs[0],stageIDs[2]],[stageIDs[1],stageIDs[2]]])\n",
    "# Stage input ranges\n",
    "# inputRanges = condition_ranges\n",
    "\n",
    "# multi_step.loadModels(stages, stageIDs, stageConnectivity)\n",
    "multi_step.loadModels(stages)"
   ],
   "metadata": {
    "collapsed": false,
    "pycharm": {
     "name": "#%%\n",
     "is_executing": false
    }
   }
  },
  {
   "cell_type": "code",
   "execution_count": 13,
   "outputs": [],
   "source": [
    "# Define the objective functions\n",
    "def objectiveFunction1(var1, var2, var3):\n",
    "    return (var1+var2)**2+(var2+var3)**2\n",
    "    \n",
    "def objectiveFunction2(var1, var2, var3, var4):\n",
    "    return (var1-var4)**0.5-var3**2+var2**1.5\n",
    "\n",
    "# Define the objective objects including the objective functions and the IDs of relevant variables/outputs\n",
    "# Define objective variables with form: [stage, 'input'/'output', stage variable]\n",
    "# objective1 = objective(objectiveFunction1(), [[stageIDs[0],1],[stageIDs[1],1],[stageIDs[2],1]])\n",
    "# objective2 = objective(objectiveFunction2(),[[stageIDs[0],2],[stageIDs[1],2],[stageIDs[2],2]])\n",
    "objective1 = objective(objectiveFunction1, [[stage1,'inputs',1],[stage2,'inputs',1],[stage3,'inputs',1]])\n",
    "objective2 = objective(objectiveFunction2,[[stage1,'inputs',2],[stage2,'inputs',2],[stage3,'inputs',2],[stage2,'outputs',1]])\n",
    "\n",
    "objectives = [objective1, objective2]"
   ],
   "metadata": {
    "collapsed": false,
    "pycharm": {
     "name": "#%%\n",
     "is_executing": false
    }
   }
  },
  {
   "cell_type": "code",
   "execution_count": 14,
   "outputs": [],
   "source": [
    "# Define the objectives for the framework\n",
    "multi_step.defineObjectives(objectives)"
   ],
   "metadata": {
    "collapsed": false,
    "pycharm": {
     "name": "#%%\n",
     "is_executing": false
    }
   }
  },
  {
   "cell_type": "code",
   "execution_count": 15,
   "outputs": [
    {
     "name": "stdout",
     "text": [
      "WARNING:tensorflow:Layer multi_hyper_net is casting an input tensor from dtype float64 to the layer's dtype of float32, which is new behavior in TensorFlow 2.  The layer has dtype float32 because its dtype defaults to floatx.\n\nIf you intended to run this layer in float32, you can safely ignore this warning. If in doubt, this warning is likely only an issue if you are porting a TensorFlow 1.X model to TensorFlow 2.\n\nTo change all layers to have dtype float64 by default, call `tf.keras.backend.set_floatx('float64')`. To change just this layer, pass dtype='float64' to the layer constructor. If you are the author of this layer, you can disable autocasting by passing autocast=False to the base Layer constructor.\n\n",
      "h_inputs tf.Tensor(\n[[10.279274   2.9869761  4.02736   -2.56145    3.0321972]\n [-1.727952  -5.72339    3.035945  -9.814321   1.1254742]\n [11.448074   7.255926   4.112301  -6.144896   3.0389445]\n [ 0.         0.         0.         0.         0.       ]\n [ 0.         0.         0.         0.         0.       ]], shape=(5, 5), dtype=float32)\nobjectives:  tf.Tensor(\n[[0.]\n [0.]\n [0.]\n [0.]\n [0.]], shape=(5, 1), dtype=float32)\nconcat:  tf.Tensor(\n[[10.279274   2.9869761  4.02736   -2.56145    3.0321972  0.       ]\n [-1.727952  -5.72339    3.035945  -9.814321   1.1254742  0.       ]\n [11.448074   7.255926   4.112301  -6.144896   3.0389445  0.       ]\n [ 0.         0.         0.         0.         0.         0.       ]\n [ 0.         0.         0.         0.         0.         0.       ]], shape=(5, 6), dtype=float32)\n"
     ],
     "output_type": "stream"
    },
    {
     "traceback": [
      "\u001b[1;31m---------------------------------------------------------------------------\u001b[0m",
      "\u001b[1;31mDGLError\u001b[0m                                  Traceback (most recent call last)",
      "\u001b[1;32m<ipython-input-15-d9106b2d2d8d>\u001b[0m in \u001b[0;36m<module>\u001b[1;34m\u001b[0m\n\u001b[0;32m      1\u001b[0m \u001b[1;31m# Optimise the process\u001b[0m\u001b[1;33m\u001b[0m\u001b[1;33m\u001b[0m\u001b[1;33m\u001b[0m\u001b[0m\n\u001b[0;32m      2\u001b[0m \u001b[1;31m# numObjectives, preferenceCodeDim, hyperparameterGeneratorDim, epochs=5, h_dim=5, n_layers=4, network_type='GATConv', **kwargs\u001b[0m\u001b[1;33m\u001b[0m\u001b[1;33m\u001b[0m\u001b[1;33m\u001b[0m\u001b[0m\n\u001b[1;32m----> 3\u001b[1;33m \u001b[0mmulti_step\u001b[0m\u001b[1;33m.\u001b[0m\u001b[0moptimise\u001b[0m\u001b[1;33m(\u001b[0m\u001b[1;36m2\u001b[0m\u001b[1;33m,\u001b[0m \u001b[1;36m4\u001b[0m\u001b[1;33m,\u001b[0m \u001b[1;36m5\u001b[0m\u001b[1;33m,\u001b[0m \u001b[1;36m5\u001b[0m\u001b[1;33m,\u001b[0m \u001b[1;36m5\u001b[0m\u001b[1;33m,\u001b[0m \u001b[1;36m4\u001b[0m\u001b[1;33m,\u001b[0m \u001b[1;34m'GATConv'\u001b[0m\u001b[1;33m,\u001b[0m \u001b[0mnum_heads\u001b[0m\u001b[1;33m=\u001b[0m\u001b[1;36m3\u001b[0m\u001b[1;33m)\u001b[0m\u001b[1;33m\u001b[0m\u001b[1;33m\u001b[0m\u001b[0m\n\u001b[0m\u001b[0;32m      4\u001b[0m \u001b[1;33m\u001b[0m\u001b[0m\n",
      "\u001b[1;32m~\\OneDrive - University of Cambridge\\Year_1\\Pietro\\multi-step\\examples\\Toy_problem\\multi_step.py\u001b[0m in \u001b[0;36moptimise\u001b[1;34m(self, numObjectives, preferenceEncodeDim, hyperparameterGeneratorDim, epochs, h_dim, n_layers, network_type, **kwargs)\u001b[0m\n\u001b[0;32m    204\u001b[0m \u001b[1;33m\u001b[0m\u001b[0m\n\u001b[0;32m    205\u001b[0m         \u001b[1;32mfor\u001b[0m \u001b[0mepoch\u001b[0m \u001b[1;32min\u001b[0m \u001b[0mrange\u001b[0m\u001b[1;33m(\u001b[0m\u001b[0mepochs\u001b[0m\u001b[1;33m)\u001b[0m\u001b[1;33m:\u001b[0m\u001b[1;33m\u001b[0m\u001b[1;33m\u001b[0m\u001b[0m\n\u001b[1;32m--> 206\u001b[1;33m             \u001b[0mloss\u001b[0m \u001b[1;33m=\u001b[0m \u001b[0mself\u001b[0m\u001b[1;33m.\u001b[0m\u001b[0mepoch\u001b[0m\u001b[1;33m(\u001b[0m\u001b[0mobjectiveWeightings\u001b[0m\u001b[1;33m,\u001b[0m \u001b[0mtrainableVariables\u001b[0m\u001b[1;33m)\u001b[0m\u001b[1;33m\u001b[0m\u001b[1;33m\u001b[0m\u001b[0m\n\u001b[0m\u001b[0;32m    207\u001b[0m             \u001b[1;32mif\u001b[0m \u001b[0mepoch\u001b[0m \u001b[1;33m%\u001b[0m \u001b[1;36m1\u001b[0m \u001b[1;33m==\u001b[0m \u001b[1;36m0\u001b[0m\u001b[1;33m:\u001b[0m\u001b[1;33m\u001b[0m\u001b[1;33m\u001b[0m\u001b[0m\n\u001b[0;32m    208\u001b[0m                 \u001b[0mprint\u001b[0m\u001b[1;33m(\u001b[0m\u001b[1;34m'Epoch: '\u001b[0m\u001b[1;33m,\u001b[0m \u001b[0mepoch\u001b[0m\u001b[1;33m,\u001b[0m\u001b[1;34m', Loss: '\u001b[0m\u001b[1;33m,\u001b[0m\u001b[0mloss\u001b[0m\u001b[1;33m)\u001b[0m\u001b[1;33m\u001b[0m\u001b[1;33m\u001b[0m\u001b[0m\n",
      "\u001b[1;32m~\\OneDrive - University of Cambridge\\Year_1\\Pietro\\multi-step\\examples\\Toy_problem\\multi_step.py\u001b[0m in \u001b[0;36mepoch\u001b[1;34m(self, objectiveWeightings, trainableVariables)\u001b[0m\n\u001b[0;32m    168\u001b[0m             \u001b[0mhyperparametersDict\u001b[0m \u001b[1;33m=\u001b[0m \u001b[0mself\u001b[0m\u001b[1;33m.\u001b[0m\u001b[0mmultiHyperNet\u001b[0m\u001b[1;33m(\u001b[0m\u001b[0mobjectiveWeightings\u001b[0m\u001b[1;33m)\u001b[0m\u001b[1;33m\u001b[0m\u001b[1;33m\u001b[0m\u001b[0m\n\u001b[0;32m    169\u001b[0m             \u001b[1;31m# conditions = self.multiNet(self.stageGraph, hyperparametersDict)\u001b[0m\u001b[1;33m\u001b[0m\u001b[1;33m\u001b[0m\u001b[1;33m\u001b[0m\u001b[0m\n\u001b[1;32m--> 170\u001b[1;33m             \u001b[0mself\u001b[0m\u001b[1;33m.\u001b[0m\u001b[0mmultiNet\u001b[0m\u001b[1;33m(\u001b[0m\u001b[0mself\u001b[0m\u001b[1;33m.\u001b[0m\u001b[0mstageGraph\u001b[0m\u001b[1;33m,\u001b[0m \u001b[0mhyperparametersDict\u001b[0m\u001b[1;33m)\u001b[0m\u001b[1;33m\u001b[0m\u001b[1;33m\u001b[0m\u001b[0m\n\u001b[0m\u001b[0;32m    171\u001b[0m             \u001b[0mobjectiveValue\u001b[0m \u001b[1;33m=\u001b[0m \u001b[0mself\u001b[0m\u001b[1;33m.\u001b[0m\u001b[0mcalculateModelOutputs\u001b[0m\u001b[1;33m(\u001b[0m\u001b[0mobjectiveWeightings\u001b[0m\u001b[1;33m,\u001b[0m \u001b[1;34m'generated'\u001b[0m\u001b[1;33m)\u001b[0m\u001b[1;33m\u001b[0m\u001b[1;33m\u001b[0m\u001b[0m\n\u001b[0;32m    172\u001b[0m             \u001b[0mloss\u001b[0m \u001b[1;33m=\u001b[0m \u001b[0mobjectiveValue\u001b[0m\u001b[1;33m\u001b[0m\u001b[1;33m\u001b[0m\u001b[0m\n",
      "\u001b[1;32m~\\Anaconda3\\envs\\multi-step\\lib\\site-packages\\tensorflow\\python\\keras\\engine\\base_layer.py\u001b[0m in \u001b[0;36m__call__\u001b[1;34m(self, *args, **kwargs)\u001b[0m\n\u001b[0;32m    983\u001b[0m \u001b[1;33m\u001b[0m\u001b[0m\n\u001b[0;32m    984\u001b[0m         \u001b[1;32mwith\u001b[0m \u001b[0mops\u001b[0m\u001b[1;33m.\u001b[0m\u001b[0menable_auto_cast_variables\u001b[0m\u001b[1;33m(\u001b[0m\u001b[0mself\u001b[0m\u001b[1;33m.\u001b[0m\u001b[0m_compute_dtype_object\u001b[0m\u001b[1;33m)\u001b[0m\u001b[1;33m:\u001b[0m\u001b[1;33m\u001b[0m\u001b[1;33m\u001b[0m\u001b[0m\n\u001b[1;32m--> 985\u001b[1;33m           \u001b[0moutputs\u001b[0m \u001b[1;33m=\u001b[0m \u001b[0mcall_fn\u001b[0m\u001b[1;33m(\u001b[0m\u001b[0minputs\u001b[0m\u001b[1;33m,\u001b[0m \u001b[1;33m*\u001b[0m\u001b[0margs\u001b[0m\u001b[1;33m,\u001b[0m \u001b[1;33m**\u001b[0m\u001b[0mkwargs\u001b[0m\u001b[1;33m)\u001b[0m\u001b[1;33m\u001b[0m\u001b[1;33m\u001b[0m\u001b[0m\n\u001b[0m\u001b[0;32m    986\u001b[0m \u001b[1;33m\u001b[0m\u001b[0m\n\u001b[0;32m    987\u001b[0m         \u001b[1;32mif\u001b[0m \u001b[0mself\u001b[0m\u001b[1;33m.\u001b[0m\u001b[0m_activity_regularizer\u001b[0m\u001b[1;33m:\u001b[0m\u001b[1;33m\u001b[0m\u001b[1;33m\u001b[0m\u001b[0m\n",
      "\u001b[1;32m~\\OneDrive - University of Cambridge\\Year_1\\Pietro\\multi-step\\examples\\Toy_problem\\models.py\u001b[0m in \u001b[0;36mcall\u001b[1;34m(self, stageGraph, hyperparametersDict)\u001b[0m\n\u001b[0;32m     75\u001b[0m         \u001b[0mprint\u001b[0m\u001b[1;33m(\u001b[0m\u001b[1;34m'objectives: '\u001b[0m\u001b[1;33m,\u001b[0m\u001b[0mstageGraph\u001b[0m\u001b[1;33m.\u001b[0m\u001b[0mndata\u001b[0m\u001b[1;33m[\u001b[0m\u001b[1;34m'objectives'\u001b[0m\u001b[1;33m]\u001b[0m\u001b[1;33m)\u001b[0m\u001b[1;33m\u001b[0m\u001b[1;33m\u001b[0m\u001b[0m\n\u001b[0;32m     76\u001b[0m         \u001b[0mprint\u001b[0m\u001b[1;33m(\u001b[0m\u001b[1;34m'concat: '\u001b[0m\u001b[1;33m,\u001b[0m\u001b[0mtf\u001b[0m\u001b[1;33m.\u001b[0m\u001b[0mconcat\u001b[0m\u001b[1;33m(\u001b[0m\u001b[1;33m[\u001b[0m\u001b[0mstageGraph\u001b[0m\u001b[1;33m.\u001b[0m\u001b[0mndata\u001b[0m\u001b[1;33m[\u001b[0m\u001b[1;34m'h_inputs'\u001b[0m\u001b[1;33m]\u001b[0m\u001b[1;33m,\u001b[0m \u001b[0mstageGraph\u001b[0m\u001b[1;33m.\u001b[0m\u001b[0mndata\u001b[0m\u001b[1;33m[\u001b[0m\u001b[1;34m'objectives'\u001b[0m\u001b[1;33m]\u001b[0m\u001b[1;33m]\u001b[0m\u001b[1;33m,\u001b[0m \u001b[1;36m1\u001b[0m\u001b[1;33m)\u001b[0m\u001b[1;33m)\u001b[0m\u001b[1;33m\u001b[0m\u001b[1;33m\u001b[0m\u001b[0m\n\u001b[1;32m---> 77\u001b[1;33m         \u001b[0mstageGraph\u001b[0m\u001b[1;33m.\u001b[0m\u001b[0mndata\u001b[0m\u001b[1;33m[\u001b[0m\u001b[1;34m'h_inputs_objectives'\u001b[0m\u001b[1;33m]\u001b[0m \u001b[1;33m=\u001b[0m \u001b[0mtf\u001b[0m\u001b[1;33m.\u001b[0m\u001b[0mconcat\u001b[0m\u001b[1;33m(\u001b[0m\u001b[1;33m[\u001b[0m\u001b[0mstageGraph\u001b[0m\u001b[1;33m.\u001b[0m\u001b[0mndata\u001b[0m\u001b[1;33m[\u001b[0m\u001b[1;34m'h_inputs'\u001b[0m\u001b[1;33m]\u001b[0m\u001b[1;33m,\u001b[0m \u001b[0mstageGraph\u001b[0m\u001b[1;33m.\u001b[0m\u001b[0mndata\u001b[0m\u001b[1;33m[\u001b[0m\u001b[1;34m'objectives'\u001b[0m\u001b[1;33m]\u001b[0m\u001b[1;33m]\u001b[0m\u001b[1;33m,\u001b[0m \u001b[1;36m1\u001b[0m\u001b[1;33m)\u001b[0m\u001b[1;33m\u001b[0m\u001b[1;33m\u001b[0m\u001b[0m\n\u001b[0m\u001b[0;32m     78\u001b[0m         \u001b[0mh\u001b[0m \u001b[1;33m=\u001b[0m \u001b[0mself\u001b[0m\u001b[1;33m.\u001b[0m\u001b[0mtypeLayer\u001b[0m\u001b[1;33m[\u001b[0m\u001b[1;36m0\u001b[0m\u001b[1;33m]\u001b[0m\u001b[1;33m(\u001b[0m\u001b[0mstageGraph\u001b[0m\u001b[1;33m,\u001b[0m \u001b[0mstageGraph\u001b[0m\u001b[1;33m.\u001b[0m\u001b[0mndata\u001b[0m\u001b[1;33m[\u001b[0m\u001b[1;34m'h_inputs_objectives'\u001b[0m\u001b[1;33m]\u001b[0m\u001b[1;33m)\u001b[0m\u001b[1;33m\u001b[0m\u001b[1;33m\u001b[0m\u001b[0m\n\u001b[0;32m     79\u001b[0m         \u001b[1;32mfor\u001b[0m \u001b[0mindex\u001b[0m\u001b[1;33m,\u001b[0m \u001b[0mlayer\u001b[0m \u001b[1;32min\u001b[0m \u001b[0menumerate\u001b[0m\u001b[1;33m(\u001b[0m\u001b[0mself\u001b[0m\u001b[1;33m.\u001b[0m\u001b[0mtypeLayer\u001b[0m\u001b[1;33m[\u001b[0m\u001b[1;36m1\u001b[0m\u001b[1;33m:\u001b[0m\u001b[1;33m]\u001b[0m\u001b[1;33m)\u001b[0m\u001b[1;33m:\u001b[0m\u001b[1;33m\u001b[0m\u001b[1;33m\u001b[0m\u001b[0m\n",
      "\u001b[1;32m~\\Anaconda3\\envs\\multi-step\\lib\\site-packages\\dgl\\view.py\u001b[0m in \u001b[0;36m__setitem__\u001b[1;34m(self, key, val)\u001b[0m\n\u001b[0;32m     79\u001b[0m                 \u001b[1;34m'The HeteroNodeDataView has only one node type. '\u001b[0m\u001b[0;31m \u001b[0m\u001b[0;31m\\\u001b[0m\u001b[1;33m\u001b[0m\u001b[1;33m\u001b[0m\u001b[0m\n\u001b[0;32m     80\u001b[0m                 \u001b[1;34m'please pass a tensor directly'\u001b[0m\u001b[1;33m\u001b[0m\u001b[1;33m\u001b[0m\u001b[0m\n\u001b[1;32m---> 81\u001b[1;33m             \u001b[0mself\u001b[0m\u001b[1;33m.\u001b[0m\u001b[0m_graph\u001b[0m\u001b[1;33m.\u001b[0m\u001b[0m_set_n_repr\u001b[0m\u001b[1;33m(\u001b[0m\u001b[0mself\u001b[0m\u001b[1;33m.\u001b[0m\u001b[0m_ntid\u001b[0m\u001b[1;33m,\u001b[0m \u001b[0mself\u001b[0m\u001b[1;33m.\u001b[0m\u001b[0m_nodes\u001b[0m\u001b[1;33m,\u001b[0m \u001b[1;33m{\u001b[0m\u001b[0mkey\u001b[0m \u001b[1;33m:\u001b[0m \u001b[0mval\u001b[0m\u001b[1;33m}\u001b[0m\u001b[1;33m)\u001b[0m\u001b[1;33m\u001b[0m\u001b[1;33m\u001b[0m\u001b[0m\n\u001b[0m\u001b[0;32m     82\u001b[0m \u001b[1;33m\u001b[0m\u001b[0m\n\u001b[0;32m     83\u001b[0m     \u001b[1;32mdef\u001b[0m \u001b[0m__delitem__\u001b[0m\u001b[1;33m(\u001b[0m\u001b[0mself\u001b[0m\u001b[1;33m,\u001b[0m \u001b[0mkey\u001b[0m\u001b[1;33m)\u001b[0m\u001b[1;33m:\u001b[0m\u001b[1;33m\u001b[0m\u001b[1;33m\u001b[0m\u001b[0m\n",
      "\u001b[1;32m~\\Anaconda3\\envs\\multi-step\\lib\\site-packages\\dgl\\heterograph.py\u001b[0m in \u001b[0;36m_set_n_repr\u001b[1;34m(self, ntid, u, data)\u001b[0m\n\u001b[0;32m   3805\u001b[0m             \u001b[1;32mif\u001b[0m \u001b[0mnfeats\u001b[0m \u001b[1;33m!=\u001b[0m \u001b[0mnum_nodes\u001b[0m\u001b[1;33m:\u001b[0m\u001b[1;33m\u001b[0m\u001b[1;33m\u001b[0m\u001b[0m\n\u001b[0;32m   3806\u001b[0m                 raise DGLError('Expect number of features to match number of nodes (len(u)).'\n\u001b[1;32m-> 3807\u001b[1;33m                                ' Got %d and %d instead.' % (nfeats, num_nodes))\n\u001b[0m\u001b[0;32m   3808\u001b[0m             \u001b[1;32mif\u001b[0m \u001b[0mF\u001b[0m\u001b[1;33m.\u001b[0m\u001b[0mcontext\u001b[0m\u001b[1;33m(\u001b[0m\u001b[0mval\u001b[0m\u001b[1;33m)\u001b[0m \u001b[1;33m!=\u001b[0m \u001b[0mself\u001b[0m\u001b[1;33m.\u001b[0m\u001b[0mdevice\u001b[0m\u001b[1;33m:\u001b[0m\u001b[1;33m\u001b[0m\u001b[1;33m\u001b[0m\u001b[0m\n\u001b[0;32m   3809\u001b[0m                 raise DGLError('Cannot assign node feature \"{}\" on device {} to a graph on'\n",
      "\u001b[1;31mDGLError\u001b[0m: Expect number of features to match number of nodes (len(u)). Got 5 and 6 instead."
     ],
     "ename": "DGLError",
     "evalue": "Expect number of features to match number of nodes (len(u)). Got 5 and 6 instead.",
     "output_type": "error"
    }
   ],
   "source": [
    "# Optimise the process\n",
    "# numObjectives, preferenceCodeDim, hyperparameterGeneratorDim, epochs=5, h_dim=5, n_layers=4, network_type='GATConv', **kwargs\n",
    "multi_step.optimise(2, 4, 5, 5, 5, 4, 'GATConv', num_heads=3)"
   ],
   "metadata": {
    "collapsed": false,
    "pycharm": {
     "name": "#%%\n",
     "is_executing": false
    }
   }
  },
  {
   "cell_type": "code",
   "execution_count": null,
   "outputs": [],
   "source": [
    "# import networkx as nx\n",
    "# G = multi_step.stageGraph.to_networkx()\n",
    "# nx.draw(G)"
   ],
   "metadata": {
    "collapsed": false,
    "pycharm": {
     "name": "#%%\n",
     "is_executing": false
    }
   }
  },
  {
   "cell_type": "code",
   "execution_count": null,
   "outputs": [],
   "source": [
    "\n"
   ],
   "metadata": {
    "collapsed": false,
    "pycharm": {
     "name": "#%%\n",
     "is_executing": false
    }
   }
  }
 ],
 "metadata": {
  "kernelspec": {
   "name": "multi-step",
   "language": "python",
   "display_name": "multi-step"
  },
  "language_info": {
   "codemirror_mode": {
    "name": "ipython",
    "version": 2
   },
   "file_extension": ".py",
   "mimetype": "text/x-python",
   "name": "python",
   "nbconvert_exporter": "python",
   "pygments_lexer": "ipython2",
   "version": "2.7.6"
  },
  "pycharm": {
   "stem_cell": {
    "cell_type": "raw",
    "source": [],
    "metadata": {
     "collapsed": false
    }
   }
  }
 },
 "nbformat": 4,
 "nbformat_minor": 0
}