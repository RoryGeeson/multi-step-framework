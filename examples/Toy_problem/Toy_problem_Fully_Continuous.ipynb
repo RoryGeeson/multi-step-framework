{
 "cells": [
  {
   "cell_type": "code",
   "execution_count": 1,
   "metadata": {
    "collapsed": true,
    "pycharm": {
     "is_executing": false
    }
   },
   "outputs": [
    {
     "name": "stderr",
     "text": [
      "Using backend: tensorflow\n"
     ],
     "output_type": "stream"
    }
   ],
   "source": [
    "import Toy_System_Fully_Continuous as ts\n",
    "import numpy as np\n",
    "from multi_step import *\n",
    "from utils import objective, stage"
   ]
  },
  {
   "cell_type": "code",
   "execution_count": 2,
   "outputs": [],
   "source": [
    "# Generate the toy problem class object\n",
    "\n",
    "toy = ts.Toy()"
   ],
   "metadata": {
    "collapsed": false,
    "pycharm": {
     "name": "#%%\n",
     "is_executing": false
    }
   }
  },
  {
   "cell_type": "code",
   "execution_count": 3,
   "outputs": [],
   "source": [
    "# Generate conditions to be used for generating data\n",
    "\n",
    "# Define the condition ranges [lower,upper,step (if applicable)]\n",
    "#[T1, P1, t_out1, T2, P2, t_out2, T3, P3, t_out3]\n",
    "condition_ranges = [[2,10],[2,10],[2,10],[2,10],[2,10],[2,10],[2,10],[2,10],[2,10]]\n",
    "\n",
    "# Generate all condition permutations\n",
    "# conditions = toy.allConditions(condition_ranges)\n",
    "\n",
    "# Generate values to explore the search space using low discrepancy\n",
    "# quasi-random numbers and discrete methods\n",
    "num_points = 1000\n",
    "conditions =  toy.sobolSequenceConditions(condition_ranges, num_points)"
   ],
   "metadata": {
    "collapsed": false,
    "pycharm": {
     "name": "#%%\n",
     "is_executing": false
    }
   }
  },
  {
   "cell_type": "code",
   "execution_count": 4,
   "outputs": [],
   "source": [
    "# Generate the yields of the various materials\n",
    "yieldList = []\n",
    "costList = []\n",
    "for conditions_run in conditions:\n",
    "    yields, costs = toy.experimentalRun(1,conditions_run)\n",
    "    yieldList.append(yields)\n",
    "    costList.append(costs)\n",
    "yieldList = np.array(yieldList)"
   ],
   "metadata": {
    "collapsed": false,
    "pycharm": {
     "name": "#%%\n",
     "is_executing": false
    }
   }
  },
  {
   "cell_type": "code",
   "execution_count": 5,
   "outputs": [
    {
     "name": "stdout",
     "text": [
      "epoch:  0 , loss =  6.9983377\n"
     ],
     "output_type": "stream"
    }
   ],
   "source": [
    "# Fit the first stage data\n",
    "x1 = conditions[:,:3]\n",
    "y1 = yieldList[:,2:5]\n",
    "toy.fit_stage_1([x1,y1], epochs=5)"
   ],
   "metadata": {
    "collapsed": false,
    "pycharm": {
     "name": "#%%\n",
     "is_executing": false
    }
   }
  },
  {
   "cell_type": "code",
   "execution_count": 6,
   "outputs": [
    {
     "name": "stdout",
     "text": [
      "epoch:  0 , loss =  8.475381\n"
     ],
     "output_type": "stream"
    }
   ],
   "source": [
    "# Fit the second stage data\n",
    "\n",
    "x2 = np.concatenate((np.expand_dims(yieldList[:,3],axis=1),conditions[:,3:6]),axis=1)\n",
    "y2 = yieldList[:,5:9]\n",
    "toy.fit_stage_2([x2,y2], epochs=5)"
   ],
   "metadata": {
    "collapsed": false,
    "pycharm": {
     "name": "#%%\n",
     "is_executing": false
    }
   }
  },
  {
   "cell_type": "code",
   "execution_count": 7,
   "outputs": [
    {
     "name": "stdout",
     "text": [
      "epoch: ",
      " 0 , loss =  5.163458\n"
     ],
     "output_type": "stream"
    }
   ],
   "source": [
    "# Fit the third stage data\n",
    "x3 = np.concatenate((np.expand_dims(yieldList[:,4],axis=1),yieldList[:,7:9],conditions[:,6:]),axis=1)\n",
    "y3 = yieldList[:,9:]\n",
    "toy.fit_stage_3([x3,y3], epochs=5)"
   ],
   "metadata": {
    "collapsed": false,
    "pycharm": {
     "name": "#%%\n",
     "is_executing": false
    }
   }
  },
  {
   "cell_type": "code",
   "execution_count": 8,
   "outputs": [],
   "source": [
    "#Plot stage 1\n",
    "# num_plot_points = 20\n",
    "# plot_var = 0\n",
    "# plot_x = np.hstack((np.expand_dims(np.linspace(2,10,num_plot_points),1),np.full((num_plot_points,1),7),np.full((num_plot_points,1),5)))\n",
    "# plot_y = np.array([toy.stage_1(0.4, *row) for row in plot_x])\n",
    "# toy.stage_1_model.visualise(plot_x,plot_y,plot_x,plot_var,'Stage_1')"
   ],
   "metadata": {
    "collapsed": false,
    "pycharm": {
     "name": "#%%\n",
     "is_executing": false
    }
   }
  },
  {
   "cell_type": "code",
   "execution_count": 9,
   "outputs": [],
   "source": [
    "# Save the models\n",
    "# toy.stage_1_model.save('../examples/Toy_problem/Saved_Models/stage_1_model')\n",
    "# toy.stage_2_model.save('../examples/Toy_problem/Saved_Models/stage_2_model')\n",
    "# toy.stage_3_model.save('../examples/Toy_problem/Saved_Models/stage_3_model')"
   ],
   "metadata": {
    "collapsed": false,
    "pycharm": {
     "name": "#%%\n",
     "is_executing": false
    }
   }
  },
  {
   "cell_type": "code",
   "execution_count": 10,
   "outputs": [],
   "source": [
    "# Generate the multi-step class\n",
    "multi_step = multi_step('adam')"
   ],
   "metadata": {
    "collapsed": false,
    "pycharm": {
     "name": "#%%\n",
     "is_executing": false
    }
   }
  },
  {
   "cell_type": "code",
   "execution_count": 11,
   "outputs": [],
   "source": [
    "# Load the models from a save\n",
    "# import tensorflow as tf\n",
    "# toy = ts.Toy()\n",
    "# \n",
    "# toy.stage_1_model = tf.keras.models.load_model('../examples/Toy_problem/Saved_Models/stage_1_model.h5')\n",
    "# toy.stage_2_model = tf.keras.models.load_model('../examples/Toy_problem/Saved_Models/stage_2_model.h5')\n",
    "# toy.stage_3_model = tf.keras.models.load_model('../examples/Toy_problem/Saved_Models/stage_3_model.h5')"
   ],
   "metadata": {
    "collapsed": false,
    "pycharm": {
     "name": "#%%\n",
     "is_executing": false
    }
   }
  },
  {
   "cell_type": "code",
   "execution_count": 12,
   "outputs": [
    {
     "name": "stderr",
     "text": [
      "C:\\Users\\geeso\\Anaconda3\\envs\\multi-step\\lib\\site-packages\\dgl\\base.py:45: DGLWarning: Recommend creating graphs by `dgl.graph(data)` instead of `dgl.DGLGraph(data)`.\n  return warnings.warn(message, category=category, stacklevel=1)\n"
     ],
     "output_type": "stream"
    }
   ],
   "source": [
    "# Load the models into the framework\n",
    "\n",
    "#Define the stages\n",
    "# stageID, stageModel, conditionRanges, followingStages (followingStageID, feedingVariables)\n",
    "stage1 = stage(0, toy.stage_1_model, condition_ranges[0:3], [[1, [1]], [2, [2]]])\n",
    "stage2 = stage(1, toy.stage_2_model, condition_ranges[3:6], [[2,[2,3]]])\n",
    "stage3 = stage(2, toy.stage_3_model, condition_ranges[6:])\n",
    "\n",
    "stages = [stage1, stage2, stage3]\n",
    "\n",
    "multi_step.loadModels(stages)"
   ],
   "metadata": {
    "collapsed": false,
    "pycharm": {
     "name": "#%%\n",
     "is_executing": false
    }
   }
  },
  {
   "cell_type": "code",
   "execution_count": 13,
   "outputs": [],
   "source": [
    "# Define the objective functions\n",
    "def objectiveFunction1(var1, var2, var3):\n",
    "    return (var1+var2)**2+(var2+var3)**2\n",
    "    \n",
    "def objectiveFunction2(var1, var2, var3, var4):\n",
    "    return (var1+var4)**2-var3**2+var2**2\n",
    "\n",
    "# Define the objective objects including the objective functions and the IDs of relevant variables/outputs\n",
    "# Define objective variables with form: [stage, 'input'/'output', stage variable]\n",
    "objective1 = objective(objectiveFunction1, [[stage1,'inputs',1],[stage2,'inputs',1],[stage3,'inputs',1]])\n",
    "objective2 = objective(objectiveFunction2,[[stage1,'outputs',1],[stage2,'outputs',0],[stage3,'inputs',1],[stage2,'outputs',1]])\n",
    "\n",
    "objectives = [objective1, objective2]"
   ],
   "metadata": {
    "collapsed": false,
    "pycharm": {
     "name": "#%%\n",
     "is_executing": false
    }
   }
  },
  {
   "cell_type": "code",
   "execution_count": 14,
   "outputs": [],
   "source": [
    "# Define the objectives for the framework\n",
    "multi_step.defineObjectives(objectives)"
   ],
   "metadata": {
    "collapsed": false,
    "pycharm": {
     "name": "#%%\n",
     "is_executing": false
    }
   }
  },
  {
   "cell_type": "code",
   "execution_count": null,
   "outputs": [
    {
     "name": "stdout",
     "text": [
      "Weightings: [0.6128444  0.38715556], Epoch: 0, Loss: -163.74339294433594\n",
      "Weightings: [0.6128444  0.38715556], Epoch: 10, Loss: -452.4247741699219\n",
      "Weightings: [0.6128444  0.38715556], Epoch: 20, Loss: -138.3848114013672\n",
      "Weightings: [0.6128444  0.38715556], Epoch: 30, Loss: -138.15211486816406\n",
      "Weightings: [0.6128444  0.38715556], Epoch: 40, Loss: -138.21026611328125\n",
      "Weightings: [0.0339484 0.9660516], Epoch: 0, Loss: 85.81096649169922\n",
      "Weightings: [0.0339484 0.9660516], Epoch: 10, Loss: 90.06233215332031\n",
      "Weightings: [0.0339484 0.9660516], Epoch: 20, Loss: 67.1224594116211\n",
      "Weightings: [0.0339484 0.9660516], Epoch: 30, Loss: -16.67315101623535\n",
      "Weightings: [0.0339484 0.9660516], Epoch: 40, Loss: -16.742063522338867\n",
      "Weightings: [0.6692051  0.33079487], Epoch: 0, Loss: -363.4464416503906\n",
      "Weightings: [0.6692051  0.33079487], Epoch: 10, Loss: -363.4673767089844\n",
      "Weightings: [0.6692051  0.33079487], Epoch: 20, Loss: -363.4741516113281\n",
      "Weightings: [0.6692051  0.33079487], Epoch: 30, Loss: -363.42010498046875\n",
      "Weightings: [0.6692051  0.33079487], Epoch: 40, Loss: -363.51959228515625\n",
      "Weightings: [0.33378646 0.6662135 ], Epoch: 0, Loss: -180.458740234375\n",
      "Weightings: [0.33378646 0.6662135 ], Epoch: 10, Loss: -30.139266967773438\n"
     ],
     "output_type": "stream"
    }
   ],
   "source": [
    "# Optimise the process\n",
    "# numObjectives, numObjectiveSamples, preferenceCodeDim, hyperparameterGeneratorDim, epochs=5, h_dim=5, n_layers=4, network_type='GATConv', **kwargs\n",
    "multi_step.train(2, 10, 10, 100, epochs=50, h_dim=5, n_layers=4, network_type='GATConv', num_heads=3)"
   ],
   "metadata": {
    "collapsed": false,
    "pycharm": {
     "name": "#%%\n",
     "is_executing": true
    }
   }
  },
  {
   "cell_type": "code",
   "execution_count": null,
   "outputs": [],
   "source": [
    "\n"
   ],
   "metadata": {
    "collapsed": false,
    "pycharm": {
     "name": "#%%\n",
     "is_executing": true
    }
   }
  }
 ],
 "metadata": {
  "kernelspec": {
   "name": "multi-step",
   "language": "python",
   "display_name": "multi-step"
  },
  "language_info": {
   "codemirror_mode": {
    "name": "ipython",
    "version": 2
   },
   "file_extension": ".py",
   "mimetype": "text/x-python",
   "name": "python",
   "nbconvert_exporter": "python",
   "pygments_lexer": "ipython2",
   "version": "2.7.6"
  },
  "pycharm": {
   "stem_cell": {
    "cell_type": "raw",
    "source": [],
    "metadata": {
     "collapsed": false
    }
   }
  }
 },
 "nbformat": 4,
 "nbformat_minor": 0
}