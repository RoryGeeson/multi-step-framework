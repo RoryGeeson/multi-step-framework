{
 "cells": [
  {
   "cell_type": "code",
   "execution_count": 1,
   "metadata": {
    "collapsed": true
   },
   "outputs": [
    {
     "name": "stdout",
     "output_type": "stream",
     "text": [
      "Setting the default backend to \"tensorflow\". You can change it in the ~/.dgl/config.json file or export the DGLBACKEND environment variable.  Valid options are: pytorch, mxnet, tensorflow (all lowercase)\n"
     ]
    },
    {
     "name": "stderr",
     "output_type": "stream",
     "text": [
      "Using backend: tensorflow\n"
     ]
    }
   ],
   "source": [
    "import Toy_System_Fully_Continuous as ts\n",
    "import numpy as np\n",
    "from multi_step import multi_step, utils"
   ]
  },
  {
   "cell_type": "code",
   "execution_count": 2,
   "outputs": [],
   "source": [
    "# Generate the toy problem class object\n",
    "\n",
    "toy = ts.Toy()"
   ],
   "metadata": {
    "collapsed": false,
    "pycharm": {
     "name": "#%%\n"
    }
   }
  },
  {
   "cell_type": "code",
   "execution_count": 3,
   "outputs": [],
   "source": [
    "# Generate conditions to be used for generating data\n",
    "\n",
    "# Define the condition ranges [lower,upper,step (if applicable)]\n",
    "#[T1, P1, t_out1, T2, P2, t_out2, T3, P3, t_out3]\n",
    "condition_ranges = [[2,10],[2,10],[2,10],[2,10],[2,10],[2,10],[2,10],[2,10],[2,10]]\n",
    "\n",
    "# Generate all condition permutations\n",
    "# conditions = toy.allConditions(condition_ranges)\n",
    "\n",
    "# Generate values to explore the search space using low discrepancy\n",
    "# quasi-random numbers and discrete methods\n",
    "num_points = 1000\n",
    "conditions =  toy.sobolSequenceConditions(condition_ranges, num_points)"
   ],
   "metadata": {
    "collapsed": false,
    "pycharm": {
     "name": "#%%\n"
    }
   }
  },
  {
   "cell_type": "code",
   "execution_count": 4,
   "outputs": [],
   "source": [
    "# Generate the yields of the various materials\n",
    "yieldList = []\n",
    "costList = []\n",
    "for conditions_run in conditions:\n",
    "    yields, costs = toy.experimentalRun(1,conditions_run)\n",
    "    yieldList.append(yields)\n",
    "    costList.append(costs)\n",
    "yieldList = np.array(yieldList)"
   ],
   "metadata": {
    "collapsed": false,
    "pycharm": {
     "name": "#%%\n"
    }
   }
  },
  {
   "cell_type": "code",
   "execution_count": 5,
   "outputs": [
    {
     "name": "stdout",
     "output_type": "stream",
     "text": [
      "epoch:  0 , loss =  44.01074\n"
     ]
    }
   ],
   "source": [
    "# Fit the first stage data\n",
    "x1 = conditions[:,:3]\n",
    "y1 = yieldList[:,2:5]\n",
    "toy.fit_stage_1([x1,y1], epochs=20)"
   ],
   "metadata": {
    "collapsed": false,
    "pycharm": {
     "name": "#%%\n"
    }
   }
  },
  {
   "cell_type": "code",
   "execution_count": 6,
   "outputs": [
    {
     "name": "stdout",
     "output_type": "stream",
     "text": [
      "epoch:  0 , loss =  7.635749\n"
     ]
    }
   ],
   "source": [
    "# Fit the second stage data\n",
    "\n",
    "x2 = np.concatenate((np.expand_dims(yieldList[:,3],axis=1),conditions[:,3:6]),axis=1)\n",
    "y2 = yieldList[:,5:9]\n",
    "toy.fit_stage_2([x2,y2], epochs=20)"
   ],
   "metadata": {
    "collapsed": false,
    "pycharm": {
     "name": "#%%\n"
    }
   }
  },
  {
   "cell_type": "code",
   "execution_count": 7,
   "outputs": [
    {
     "name": "stdout",
     "output_type": "stream",
     "text": [
      "epoch:  0 , loss =  4.5696006\n"
     ]
    }
   ],
   "source": [
    "# Fit the third stage data\n",
    "x3 = np.concatenate((np.expand_dims(yieldList[:,4],axis=1),yieldList[:,7:9],conditions[:,6:]),axis=1)\n",
    "y3 = yieldList[:,9:]\n",
    "toy.fit_stage_3([x3,y3], epochs=20)"
   ],
   "metadata": {
    "collapsed": false,
    "pycharm": {
     "name": "#%%\n"
    }
   }
  },
  {
   "cell_type": "code",
   "execution_count": 8,
   "outputs": [],
   "source": [
    "# #Plot stage 1\n",
    "# num_plot_points = 20\n",
    "# plot_var = 0\n",
    "# plot_x = np.hstack((np.expand_dims(np.linspace(2,10,num_plot_points),1),np.full((num_plot_points,1),7),np.full((num_plot_points,1),5)))\n",
    "# plot_y = np.array([toy.stage_1(0.4, *row) for row in plot_x])\n",
    "# toy.stage_1_model.visualise(plot_x,plot_y,plot_x,plot_var,'Stage_1')"
   ],
   "metadata": {
    "collapsed": false,
    "pycharm": {
     "name": "#%%\n"
    }
   }
  },
  {
   "cell_type": "code",
   "execution_count": 9,
   "outputs": [],
   "source": [
    "# # Save the models\n",
    "# toy.stage_1_model.save('../examples/Toy_problem/Saved_Models/stage_1_model')\n",
    "# toy.stage_2_model.save('../examples/Toy_problem/Saved_Models/stage_2_model')\n",
    "# toy.stage_3_model.save('../examples/Toy_problem/Saved_Models/stage_3_model')"
   ],
   "metadata": {
    "collapsed": false,
    "pycharm": {
     "name": "#%%\n"
    }
   }
  },
  {
   "cell_type": "code",
   "execution_count": 10,
   "outputs": [],
   "source": [
    "# Generate the multi_step class\n",
    "multi_step_graph = multi_step.multi_step_graph('adam')"
   ],
   "metadata": {
    "collapsed": false,
    "pycharm": {
     "name": "#%%\n"
    }
   }
  },
  {
   "cell_type": "code",
   "execution_count": 11,
   "outputs": [],
   "source": [
    "# Load the models from a save\n",
    "# import tensorflow as tf\n",
    "# toy = ts.Toy()\n",
    "# \n",
    "# toy.stage_1_model = tf.keras.models.load_model('../examples/Toy_problem/Saved_Models/stage_1_model.h5')\n",
    "# toy.stage_2_model = tf.keras.models.load_model('../examples/Toy_problem/Saved_Models/stage_2_model.h5')\n",
    "# toy.stage_3_model = tf.keras.models.load_model('../examples/Toy_problem/Saved_Models/stage_3_model.h5')"
   ],
   "metadata": {
    "collapsed": false,
    "pycharm": {
     "name": "#%%\n"
    }
   }
  },
  {
   "cell_type": "code",
   "execution_count": 12,
   "outputs": [
    {
     "name": "stderr",
     "output_type": "stream",
     "text": [
      "c:\\users\\geeso\\onedrive - university of cambridge\\year_1\\pietro\\multi-step-framework\\venv\\lib\\site-packages\\dgl\\base.py:45: DGLWarning: Recommend creating graphs by `dgl.graph(data)` instead of `dgl.DGLGraph(data)`.\n",
      "  return warnings.warn(message, category=category, stacklevel=1)\n"
     ]
    }
   ],
   "source": [
    "# Load the models into the framework\n",
    "\n",
    "#Define the stages\n",
    "# stageID, stageModel, conditionRanges, followingStages (followingStageID, feedingVariables)\n",
    "stage1 = utils.stage(0, toy.stage_1_model, condition_ranges[0:3], [[1, [1]], [2, [2]]])\n",
    "stage2 = utils.stage(1, toy.stage_2_model, condition_ranges[3:6], [[2,[2,3]]])\n",
    "stage3 = utils.stage(2, toy.stage_3_model, condition_ranges[6:])\n",
    "\n",
    "stages = [stage1, stage2, stage3]\n",
    "\n",
    "multi_step_graph.loadModels(stages)"
   ],
   "metadata": {
    "collapsed": false,
    "pycharm": {
     "name": "#%%\n"
    }
   }
  },
  {
   "cell_type": "code",
   "execution_count": 13,
   "outputs": [],
   "source": [
    "# Define the objective functions\n",
    "def objectiveFunction1(var1, var2, var3):\n",
    "    return (var1+var2)**2+(var2+var3)**2\n",
    "    \n",
    "def objectiveFunction2(var1, var2, var3, var4):\n",
    "    return (var1+var4)**2-var3**2+var2**2\n",
    "\n",
    "# Define the objective objects including the objective functions and the IDs of relevant variables/outputs\n",
    "# Define objective variables with form: [stage, 'input'/'output', stage variable]\n",
    "objective1 = utils.objective(objectiveFunction1, [[stage1,'inputs',1],[stage2,'inputs',1],[stage3,'inputs',1]])\n",
    "objective2 = utils.objective(objectiveFunction2,[[stage1,'outputs',1],[stage2,'outputs',0],[stage3,'inputs',1],[stage2,'outputs',1]])\n",
    "\n",
    "objectives = [objective1, objective2]"
   ],
   "metadata": {
    "collapsed": false,
    "pycharm": {
     "name": "#%%\n"
    }
   }
  },
  {
   "cell_type": "code",
   "execution_count": 14,
   "outputs": [],
   "source": [
    "# Define the objectives for the framework\n",
    "multi_step_graph.defineObjectives(objectives)"
   ],
   "metadata": {
    "collapsed": false,
    "pycharm": {
     "name": "#%%\n"
    }
   }
  },
  {
   "cell_type": "code",
   "execution_count": 15,
   "outputs": [
    {
     "name": "stdout",
     "output_type": "stream",
     "text": [
      "Weightings: [0.977147   0.02285304], Epoch: 0, Loss: -307.7583312988281\n",
      "dict_values([<tf.Tensor: shape=(3,), dtype=float32, numpy=array([6.1415057, 6.1086507, 5.8332434], dtype=float32)>, <tf.Tensor: shape=(3,), dtype=float32, numpy=array([6.035313 , 6.4506083, 6.2296114], dtype=float32)>, <tf.Tensor: shape=(3,), dtype=float32, numpy=array([5.8653727, 6.1223173, 6.062579 ], dtype=float32)>])\n",
      "Weightings: [0.977147   0.02285304], Epoch: 10, Loss: -779.4685668945312\n",
      "dict_values([<tf.Tensor: shape=(3,), dtype=float32, numpy=array([10., 10.,  2.], dtype=float32)>, <tf.Tensor: shape=(3,), dtype=float32, numpy=array([10., 10., 10.], dtype=float32)>, <tf.Tensor: shape=(3,), dtype=float32, numpy=array([10., 10., 10.], dtype=float32)>])\n",
      "Weightings: [0.977147   0.02285304], Epoch: 20, Loss: -779.4699096679688\n",
      "dict_values([<tf.Tensor: shape=(3,), dtype=float32, numpy=array([10., 10.,  2.], dtype=float32)>, <tf.Tensor: shape=(3,), dtype=float32, numpy=array([10., 10., 10.], dtype=float32)>, <tf.Tensor: shape=(3,), dtype=float32, numpy=array([10., 10.,  2.], dtype=float32)>])\n",
      "Weightings: [0.977147   0.02285304], Epoch: 30, Loss: -779.4703979492188\n",
      "dict_values([<tf.Tensor: shape=(3,), dtype=float32, numpy=array([10., 10.,  2.], dtype=float32)>, <tf.Tensor: shape=(3,), dtype=float32, numpy=array([10., 10., 10.], dtype=float32)>, <tf.Tensor: shape=(3,), dtype=float32, numpy=array([10., 10.,  2.], dtype=float32)>])\n",
      "Weightings: [0.977147   0.02285304], Epoch: 40, Loss: -779.4678344726562\n",
      "dict_values([<tf.Tensor: shape=(3,), dtype=float32, numpy=array([10., 10.,  2.], dtype=float32)>, <tf.Tensor: shape=(3,), dtype=float32, numpy=array([10., 10., 10.], dtype=float32)>, <tf.Tensor: shape=(3,), dtype=float32, numpy=array([10., 10.,  2.], dtype=float32)>])\n",
      "Weightings: [0.977147   0.02285304], Epoch: 50, Loss: -779.4661254882812\n",
      "dict_values([<tf.Tensor: shape=(3,), dtype=float32, numpy=array([10., 10.,  2.], dtype=float32)>, <tf.Tensor: shape=(3,), dtype=float32, numpy=array([10., 10., 10.], dtype=float32)>, <tf.Tensor: shape=(3,), dtype=float32, numpy=array([10., 10., 10.], dtype=float32)>])\n"
     ]
    },
    {
     "ename": "KeyboardInterrupt",
     "evalue": "",
     "output_type": "error",
     "traceback": [
      "\u001B[1;31m---------------------------------------------------------------------------\u001B[0m",
      "\u001B[1;31mKeyboardInterrupt\u001B[0m                         Traceback (most recent call last)",
      "\u001B[1;32m<ipython-input-15-999d8fa79720>\u001B[0m in \u001B[0;36m<module>\u001B[1;34m\u001B[0m\n\u001B[0;32m      1\u001B[0m \u001B[1;31m# Optimise the process\u001B[0m\u001B[1;33m\u001B[0m\u001B[1;33m\u001B[0m\u001B[1;33m\u001B[0m\u001B[0m\n\u001B[0;32m      2\u001B[0m \u001B[1;31m# numObjectives, numObjectiveSamples, preferenceCodeDim, hyperparameterGeneratorDim, epochs=5, h_dim=5, n_layers=4, network_type='GATConv', **kwargs\u001B[0m\u001B[1;33m\u001B[0m\u001B[1;33m\u001B[0m\u001B[1;33m\u001B[0m\u001B[0m\n\u001B[1;32m----> 3\u001B[1;33m \u001B[0mmulti_step_graph\u001B[0m\u001B[1;33m.\u001B[0m\u001B[0mtrain\u001B[0m\u001B[1;33m(\u001B[0m\u001B[1;36m2\u001B[0m\u001B[1;33m,\u001B[0m \u001B[1;36m4\u001B[0m\u001B[1;33m,\u001B[0m \u001B[1;36m10\u001B[0m\u001B[1;33m,\u001B[0m \u001B[1;36m100\u001B[0m\u001B[1;33m,\u001B[0m \u001B[0mepochs\u001B[0m\u001B[1;33m=\u001B[0m\u001B[1;36m100\u001B[0m\u001B[1;33m,\u001B[0m \u001B[0mh_dim\u001B[0m\u001B[1;33m=\u001B[0m\u001B[1;36m5\u001B[0m\u001B[1;33m,\u001B[0m \u001B[0mn_layers\u001B[0m\u001B[1;33m=\u001B[0m\u001B[1;36m4\u001B[0m\u001B[1;33m,\u001B[0m \u001B[0mnetwork_type\u001B[0m\u001B[1;33m=\u001B[0m\u001B[1;34m'GATConv'\u001B[0m\u001B[1;33m,\u001B[0m \u001B[0mnum_heads\u001B[0m\u001B[1;33m=\u001B[0m\u001B[1;36m3\u001B[0m\u001B[1;33m)\u001B[0m\u001B[1;33m\u001B[0m\u001B[1;33m\u001B[0m\u001B[0m\n\u001B[0m\u001B[0;32m      4\u001B[0m \u001B[1;33m\u001B[0m\u001B[0m\n",
      "\u001B[1;32m~\\OneDrive - University of Cambridge\\Year_1\\Pietro\\multi-step-framework\\multi_step\\multi_step.py\u001B[0m in \u001B[0;36mtrain\u001B[1;34m(self, numObjectives, numObjectiveSamples, preferenceEncodeDim, hyperparameterGeneratorDim, epochs, h_dim, n_layers, network_type, **kwargs)\u001B[0m\n\u001B[0;32m    230\u001B[0m         \u001B[1;32mfor\u001B[0m \u001B[0mobjectiveWeightings\u001B[0m \u001B[1;32min\u001B[0m \u001B[0mtf\u001B[0m\u001B[1;33m.\u001B[0m\u001B[0mlinalg\u001B[0m\u001B[1;33m.\u001B[0m\u001B[0mnormalize\u001B[0m\u001B[1;33m(\u001B[0m\u001B[0mtf\u001B[0m\u001B[1;33m.\u001B[0m\u001B[0mrandom\u001B[0m\u001B[1;33m.\u001B[0m\u001B[0muniform\u001B[0m\u001B[1;33m(\u001B[0m\u001B[0mshape\u001B[0m\u001B[1;33m=\u001B[0m\u001B[1;33m[\u001B[0m\u001B[0mnumObjectiveSamples\u001B[0m\u001B[1;33m,\u001B[0m\u001B[0mself\u001B[0m\u001B[1;33m.\u001B[0m\u001B[0mnumObjectives\u001B[0m\u001B[1;33m]\u001B[0m\u001B[1;33m,\u001B[0m \u001B[0mmaxval\u001B[0m\u001B[1;33m=\u001B[0m\u001B[1;36m1\u001B[0m\u001B[1;33m)\u001B[0m\u001B[1;33m,\u001B[0m \u001B[0mord\u001B[0m\u001B[1;33m=\u001B[0m\u001B[1;36m1\u001B[0m\u001B[1;33m,\u001B[0m \u001B[0maxis\u001B[0m\u001B[1;33m=\u001B[0m\u001B[1;36m1\u001B[0m\u001B[1;33m)\u001B[0m\u001B[1;33m[\u001B[0m\u001B[1;36m0\u001B[0m\u001B[1;33m]\u001B[0m\u001B[1;33m:\u001B[0m\u001B[1;33m\u001B[0m\u001B[1;33m\u001B[0m\u001B[0m\n\u001B[0;32m    231\u001B[0m             \u001B[1;32mfor\u001B[0m \u001B[0mepoch\u001B[0m \u001B[1;32min\u001B[0m \u001B[0mrange\u001B[0m\u001B[1;33m(\u001B[0m\u001B[0mepochs\u001B[0m\u001B[1;33m)\u001B[0m\u001B[1;33m:\u001B[0m\u001B[1;33m\u001B[0m\u001B[1;33m\u001B[0m\u001B[0m\n\u001B[1;32m--> 232\u001B[1;33m                 \u001B[0mloss\u001B[0m \u001B[1;33m=\u001B[0m \u001B[0mself\u001B[0m\u001B[1;33m.\u001B[0m\u001B[0mepoch\u001B[0m\u001B[1;33m(\u001B[0m\u001B[0mtf\u001B[0m\u001B[1;33m.\u001B[0m\u001B[0mexpand_dims\u001B[0m\u001B[1;33m(\u001B[0m\u001B[0mobjectiveWeightings\u001B[0m\u001B[1;33m,\u001B[0m \u001B[1;36m0\u001B[0m\u001B[1;33m)\u001B[0m\u001B[1;33m,\u001B[0m \u001B[0mtrainableVariables\u001B[0m\u001B[1;33m)\u001B[0m\u001B[1;33m\u001B[0m\u001B[1;33m\u001B[0m\u001B[0m\n\u001B[0m\u001B[0;32m    233\u001B[0m                 \u001B[1;32mif\u001B[0m \u001B[0mepoch\u001B[0m \u001B[1;33m%\u001B[0m \u001B[1;36m10\u001B[0m \u001B[1;33m==\u001B[0m \u001B[1;36m0\u001B[0m\u001B[1;33m:\u001B[0m\u001B[1;33m\u001B[0m\u001B[1;33m\u001B[0m\u001B[0m\n\u001B[0;32m    234\u001B[0m                     \u001B[0mprint\u001B[0m\u001B[1;33m(\u001B[0m\u001B[1;34m'Weightings: {}, Epoch: {}, Loss: {}'\u001B[0m\u001B[1;33m.\u001B[0m\u001B[0mformat\u001B[0m\u001B[1;33m(\u001B[0m\u001B[0mobjectiveWeightings\u001B[0m\u001B[1;33m.\u001B[0m\u001B[0mnumpy\u001B[0m\u001B[1;33m(\u001B[0m\u001B[1;33m)\u001B[0m\u001B[1;33m,\u001B[0m\u001B[0mepoch\u001B[0m\u001B[1;33m,\u001B[0m\u001B[0mloss\u001B[0m\u001B[1;33m)\u001B[0m\u001B[1;33m)\u001B[0m\u001B[1;33m\u001B[0m\u001B[1;33m\u001B[0m\u001B[0m\n",
      "\u001B[1;32m~\\OneDrive - University of Cambridge\\Year_1\\Pietro\\multi-step-framework\\multi_step\\multi_step.py\u001B[0m in \u001B[0;36mepoch\u001B[1;34m(self, objectiveWeightings, trainableVariables)\u001B[0m\n\u001B[0;32m    189\u001B[0m                 \u001B[0mh_inputs\u001B[0m \u001B[1;33m=\u001B[0m \u001B[0mtf\u001B[0m\u001B[1;33m.\u001B[0m\u001B[0mconcat\u001B[0m\u001B[1;33m(\u001B[0m\u001B[1;33m[\u001B[0m\u001B[0mh_inputs\u001B[0m\u001B[1;33m,\u001B[0m \u001B[0mself\u001B[0m\u001B[1;33m.\u001B[0m\u001B[0mstageGraph\u001B[0m\u001B[1;33m.\u001B[0m\u001B[0mstageEncoders\u001B[0m\u001B[1;33m[\u001B[0m\u001B[0mstageID\u001B[0m\u001B[1;33m]\u001B[0m\u001B[1;33m(\u001B[0m\u001B[0mtf\u001B[0m\u001B[1;33m.\u001B[0m\u001B[0mexpand_dims\u001B[0m\u001B[1;33m(\u001B[0m\u001B[0mself\u001B[0m\u001B[1;33m.\u001B[0m\u001B[0mstageGraph\u001B[0m\u001B[1;33m.\u001B[0m\u001B[0mstageInputs\u001B[0m\u001B[1;33m[\u001B[0m\u001B[0mstageID\u001B[0m\u001B[1;33m]\u001B[0m\u001B[1;33m,\u001B[0m \u001B[1;36m0\u001B[0m\u001B[1;33m)\u001B[0m\u001B[1;33m)\u001B[0m\u001B[1;33m]\u001B[0m\u001B[1;33m,\u001B[0m \u001B[0maxis\u001B[0m\u001B[1;33m=\u001B[0m\u001B[1;36m0\u001B[0m\u001B[1;33m)\u001B[0m\u001B[1;33m\u001B[0m\u001B[1;33m\u001B[0m\u001B[0m\n\u001B[0;32m    190\u001B[0m             \u001B[0mh_inputs\u001B[0m \u001B[1;33m=\u001B[0m \u001B[0mtf\u001B[0m\u001B[1;33m.\u001B[0m\u001B[0mconcat\u001B[0m\u001B[1;33m(\u001B[0m\u001B[1;33m[\u001B[0m\u001B[0mh_inputs\u001B[0m\u001B[1;33m,\u001B[0m\u001B[0mtf\u001B[0m\u001B[1;33m.\u001B[0m\u001B[0mzeros\u001B[0m\u001B[1;33m(\u001B[0m\u001B[1;33m[\u001B[0m\u001B[0mself\u001B[0m\u001B[1;33m.\u001B[0m\u001B[0mnumObjectives\u001B[0m\u001B[1;33m,\u001B[0m \u001B[0mself\u001B[0m\u001B[1;33m.\u001B[0m\u001B[0mh_dim\u001B[0m\u001B[1;33m]\u001B[0m\u001B[1;33m)\u001B[0m\u001B[1;33m]\u001B[0m\u001B[1;33m,\u001B[0m \u001B[0maxis\u001B[0m\u001B[1;33m=\u001B[0m\u001B[1;36m0\u001B[0m\u001B[1;33m)\u001B[0m\u001B[1;33m\u001B[0m\u001B[1;33m\u001B[0m\u001B[0m\n\u001B[1;32m--> 191\u001B[1;33m             \u001B[0mh\u001B[0m \u001B[1;33m=\u001B[0m \u001B[0mself\u001B[0m\u001B[1;33m.\u001B[0m\u001B[0mmultiNet\u001B[0m\u001B[1;33m(\u001B[0m\u001B[0mh_inputs\u001B[0m\u001B[1;33m,\u001B[0m \u001B[0mself\u001B[0m\u001B[1;33m.\u001B[0m\u001B[0mstageGraph\u001B[0m\u001B[1;33m)\u001B[0m\u001B[1;33m\u001B[0m\u001B[1;33m\u001B[0m\u001B[0m\n\u001B[0m\u001B[0;32m    192\u001B[0m             \u001B[1;32mfor\u001B[0m \u001B[0mstageID\u001B[0m \u001B[1;32min\u001B[0m \u001B[0mself\u001B[0m\u001B[1;33m.\u001B[0m\u001B[0mstageGraph\u001B[0m\u001B[1;33m.\u001B[0m\u001B[0mstageIDs\u001B[0m\u001B[1;33m:\u001B[0m\u001B[1;33m\u001B[0m\u001B[1;33m\u001B[0m\u001B[0m\n\u001B[0;32m    193\u001B[0m                 unscaledStageGeneratedInputs = tf.squeeze(self.stageGraph.stageDecoders[stageID](\n",
      "\u001B[1;32m~\\AppData\\Roaming\\Python\\Python38\\site-packages\\tensorflow\\python\\keras\\engine\\base_layer.py\u001B[0m in \u001B[0;36m__call__\u001B[1;34m(self, *args, **kwargs)\u001B[0m\n\u001B[0;32m   1010\u001B[0m         with autocast_variable.enable_auto_cast_variables(\n\u001B[0;32m   1011\u001B[0m             self._compute_dtype_object):\n\u001B[1;32m-> 1012\u001B[1;33m           \u001B[0moutputs\u001B[0m \u001B[1;33m=\u001B[0m \u001B[0mcall_fn\u001B[0m\u001B[1;33m(\u001B[0m\u001B[0minputs\u001B[0m\u001B[1;33m,\u001B[0m \u001B[1;33m*\u001B[0m\u001B[0margs\u001B[0m\u001B[1;33m,\u001B[0m \u001B[1;33m**\u001B[0m\u001B[0mkwargs\u001B[0m\u001B[1;33m)\u001B[0m\u001B[1;33m\u001B[0m\u001B[1;33m\u001B[0m\u001B[0m\n\u001B[0m\u001B[0;32m   1013\u001B[0m \u001B[1;33m\u001B[0m\u001B[0m\n\u001B[0;32m   1014\u001B[0m         \u001B[1;32mif\u001B[0m \u001B[0mself\u001B[0m\u001B[1;33m.\u001B[0m\u001B[0m_activity_regularizer\u001B[0m\u001B[1;33m:\u001B[0m\u001B[1;33m\u001B[0m\u001B[1;33m\u001B[0m\u001B[0m\n",
      "\u001B[1;32m~\\OneDrive - University of Cambridge\\Year_1\\Pietro\\multi-step-framework\\multi_step\\models.py\u001B[0m in \u001B[0;36mcall\u001B[1;34m(self, h_inputs, stageGraph)\u001B[0m\n\u001B[0;32m     34\u001B[0m         \u001B[0mh\u001B[0m \u001B[1;33m=\u001B[0m \u001B[0mtf\u001B[0m\u001B[1;33m.\u001B[0m\u001B[0mconcat\u001B[0m\u001B[1;33m(\u001B[0m\u001B[1;33m[\u001B[0m\u001B[0mh_inputs\u001B[0m\u001B[1;33m,\u001B[0m \u001B[0mstageGraph\u001B[0m\u001B[1;33m.\u001B[0m\u001B[0mndata\u001B[0m\u001B[1;33m[\u001B[0m\u001B[1;34m'objectives'\u001B[0m\u001B[1;33m]\u001B[0m\u001B[1;33m]\u001B[0m\u001B[1;33m,\u001B[0m \u001B[1;36m1\u001B[0m\u001B[1;33m)\u001B[0m\u001B[1;33m\u001B[0m\u001B[1;33m\u001B[0m\u001B[0m\n\u001B[0;32m     35\u001B[0m         \u001B[1;32mfor\u001B[0m \u001B[0mindex\u001B[0m\u001B[1;33m,\u001B[0m \u001B[0mlayer\u001B[0m \u001B[1;32min\u001B[0m \u001B[0menumerate\u001B[0m\u001B[1;33m(\u001B[0m\u001B[0mself\u001B[0m\u001B[1;33m.\u001B[0m\u001B[0mtypeLayer\u001B[0m\u001B[1;33m)\u001B[0m\u001B[1;33m:\u001B[0m\u001B[1;33m\u001B[0m\u001B[1;33m\u001B[0m\u001B[0m\n\u001B[1;32m---> 36\u001B[1;33m             \u001B[0mh\u001B[0m \u001B[1;33m=\u001B[0m \u001B[0mlayer\u001B[0m\u001B[1;33m(\u001B[0m\u001B[0mstageGraph\u001B[0m\u001B[1;33m,\u001B[0m \u001B[0mh\u001B[0m\u001B[1;33m)\u001B[0m\u001B[1;33m\u001B[0m\u001B[1;33m\u001B[0m\u001B[0m\n\u001B[0m\u001B[0;32m     37\u001B[0m             \u001B[1;32mif\u001B[0m \u001B[0mself\u001B[0m\u001B[1;33m.\u001B[0m\u001B[0mtypeLayer\u001B[0m\u001B[1;33m[\u001B[0m\u001B[1;36m0\u001B[0m\u001B[1;33m]\u001B[0m\u001B[1;33m.\u001B[0m\u001B[0mname\u001B[0m \u001B[1;33m==\u001B[0m \u001B[1;34m'gat_conv'\u001B[0m\u001B[1;33m:\u001B[0m\u001B[1;33m\u001B[0m\u001B[1;33m\u001B[0m\u001B[0m\n\u001B[0;32m     38\u001B[0m                 \u001B[0mh\u001B[0m \u001B[1;33m=\u001B[0m \u001B[0mtf\u001B[0m\u001B[1;33m.\u001B[0m\u001B[0mreduce_mean\u001B[0m\u001B[1;33m(\u001B[0m\u001B[0mh\u001B[0m\u001B[1;33m,\u001B[0m \u001B[0maxis\u001B[0m\u001B[1;33m=\u001B[0m\u001B[1;36m1\u001B[0m\u001B[1;33m)\u001B[0m\u001B[1;33m\u001B[0m\u001B[1;33m\u001B[0m\u001B[0m\n",
      "\u001B[1;32m~\\AppData\\Roaming\\Python\\Python38\\site-packages\\tensorflow\\python\\keras\\engine\\base_layer.py\u001B[0m in \u001B[0;36m__call__\u001B[1;34m(self, *args, **kwargs)\u001B[0m\n\u001B[0;32m   1010\u001B[0m         with autocast_variable.enable_auto_cast_variables(\n\u001B[0;32m   1011\u001B[0m             self._compute_dtype_object):\n\u001B[1;32m-> 1012\u001B[1;33m           \u001B[0moutputs\u001B[0m \u001B[1;33m=\u001B[0m \u001B[0mcall_fn\u001B[0m\u001B[1;33m(\u001B[0m\u001B[0minputs\u001B[0m\u001B[1;33m,\u001B[0m \u001B[1;33m*\u001B[0m\u001B[0margs\u001B[0m\u001B[1;33m,\u001B[0m \u001B[1;33m**\u001B[0m\u001B[0mkwargs\u001B[0m\u001B[1;33m)\u001B[0m\u001B[1;33m\u001B[0m\u001B[1;33m\u001B[0m\u001B[0m\n\u001B[0m\u001B[0;32m   1013\u001B[0m \u001B[1;33m\u001B[0m\u001B[0m\n\u001B[0;32m   1014\u001B[0m         \u001B[1;32mif\u001B[0m \u001B[0mself\u001B[0m\u001B[1;33m.\u001B[0m\u001B[0m_activity_regularizer\u001B[0m\u001B[1;33m:\u001B[0m\u001B[1;33m\u001B[0m\u001B[1;33m\u001B[0m\u001B[0m\n",
      "\u001B[1;32mc:\\users\\geeso\\onedrive - university of cambridge\\year_1\\pietro\\multi-step-framework\\venv\\lib\\site-packages\\dgl\\nn\\tensorflow\\conv\\gatconv.py\u001B[0m in \u001B[0;36mcall\u001B[1;34m(self, graph, feat, get_attention)\u001B[0m\n\u001B[0;32m    275\u001B[0m             \u001B[0me\u001B[0m \u001B[1;33m=\u001B[0m \u001B[0mself\u001B[0m\u001B[1;33m.\u001B[0m\u001B[0mleaky_relu\u001B[0m\u001B[1;33m(\u001B[0m\u001B[0mgraph\u001B[0m\u001B[1;33m.\u001B[0m\u001B[0medata\u001B[0m\u001B[1;33m.\u001B[0m\u001B[0mpop\u001B[0m\u001B[1;33m(\u001B[0m\u001B[1;34m'e'\u001B[0m\u001B[1;33m)\u001B[0m\u001B[1;33m)\u001B[0m\u001B[1;33m\u001B[0m\u001B[1;33m\u001B[0m\u001B[0m\n\u001B[0;32m    276\u001B[0m             \u001B[1;31m# compute softmax\u001B[0m\u001B[1;33m\u001B[0m\u001B[1;33m\u001B[0m\u001B[1;33m\u001B[0m\u001B[0m\n\u001B[1;32m--> 277\u001B[1;33m             \u001B[0mgraph\u001B[0m\u001B[1;33m.\u001B[0m\u001B[0medata\u001B[0m\u001B[1;33m[\u001B[0m\u001B[1;34m'a'\u001B[0m\u001B[1;33m]\u001B[0m \u001B[1;33m=\u001B[0m \u001B[0mself\u001B[0m\u001B[1;33m.\u001B[0m\u001B[0mattn_drop\u001B[0m\u001B[1;33m(\u001B[0m\u001B[0medge_softmax\u001B[0m\u001B[1;33m(\u001B[0m\u001B[0mgraph\u001B[0m\u001B[1;33m,\u001B[0m \u001B[0me\u001B[0m\u001B[1;33m)\u001B[0m\u001B[1;33m)\u001B[0m\u001B[1;33m\u001B[0m\u001B[1;33m\u001B[0m\u001B[0m\n\u001B[0m\u001B[0;32m    278\u001B[0m             \u001B[1;31m# message passing\u001B[0m\u001B[1;33m\u001B[0m\u001B[1;33m\u001B[0m\u001B[1;33m\u001B[0m\u001B[0m\n\u001B[0;32m    279\u001B[0m             graph.update_all(fn.u_mul_e('ft', 'a', 'm'),\n",
      "\u001B[1;32mc:\\users\\geeso\\onedrive - university of cambridge\\year_1\\pietro\\multi-step-framework\\venv\\lib\\site-packages\\dgl\\ops\\edge_softmax.py\u001B[0m in \u001B[0;36medge_softmax\u001B[1;34m(graph, logits, eids, norm_by)\u001B[0m\n\u001B[0;32m    106\u001B[0m     \u001B[1;32mif\u001B[0m \u001B[1;32mnot\u001B[0m \u001B[0mis_all\u001B[0m\u001B[1;33m(\u001B[0m\u001B[0meids\u001B[0m\u001B[1;33m)\u001B[0m\u001B[1;33m:\u001B[0m\u001B[1;33m\u001B[0m\u001B[1;33m\u001B[0m\u001B[0m\n\u001B[0;32m    107\u001B[0m         \u001B[0meids\u001B[0m \u001B[1;33m=\u001B[0m \u001B[0mastype\u001B[0m\u001B[1;33m(\u001B[0m\u001B[0meids\u001B[0m\u001B[1;33m,\u001B[0m \u001B[0mgraph\u001B[0m\u001B[1;33m.\u001B[0m\u001B[0midtype\u001B[0m\u001B[1;33m)\u001B[0m\u001B[1;33m\u001B[0m\u001B[1;33m\u001B[0m\u001B[0m\n\u001B[1;32m--> 108\u001B[1;33m     return edge_softmax_internal(graph._graph, logits,\n\u001B[0m\u001B[0;32m    109\u001B[0m                                  eids=eids, norm_by=norm_by)\n",
      "\u001B[1;32mc:\\users\\geeso\\onedrive - university of cambridge\\year_1\\pietro\\multi-step-framework\\venv\\lib\\site-packages\\dgl\\backend\\tensorflow\\sparse.py\u001B[0m in \u001B[0;36medge_softmax\u001B[1;34m(gidx, logits, eids, norm_by)\u001B[0m\n\u001B[0;32m    253\u001B[0m     \u001B[1;32mdef\u001B[0m \u001B[0m_lambda\u001B[0m\u001B[1;33m(\u001B[0m\u001B[0mlogits\u001B[0m\u001B[1;33m)\u001B[0m\u001B[1;33m:\u001B[0m\u001B[1;33m\u001B[0m\u001B[1;33m\u001B[0m\u001B[0m\n\u001B[0;32m    254\u001B[0m         \u001B[1;32mreturn\u001B[0m \u001B[0medge_softmax_real\u001B[0m\u001B[1;33m(\u001B[0m\u001B[0mgidx\u001B[0m\u001B[1;33m,\u001B[0m \u001B[0mlogits\u001B[0m\u001B[1;33m,\u001B[0m \u001B[0meids\u001B[0m\u001B[1;33m,\u001B[0m \u001B[0mnorm_by\u001B[0m\u001B[1;33m)\u001B[0m\u001B[1;33m\u001B[0m\u001B[1;33m\u001B[0m\u001B[0m\n\u001B[1;32m--> 255\u001B[1;33m     \u001B[1;32mreturn\u001B[0m \u001B[0m_lambda\u001B[0m\u001B[1;33m(\u001B[0m\u001B[0mlogits\u001B[0m\u001B[1;33m)\u001B[0m\u001B[1;33m\u001B[0m\u001B[1;33m\u001B[0m\u001B[0m\n\u001B[0m\u001B[0;32m    256\u001B[0m \u001B[1;33m\u001B[0m\u001B[0m\n\u001B[0;32m    257\u001B[0m \u001B[1;33m\u001B[0m\u001B[0m\n",
      "\u001B[1;32m~\\AppData\\Roaming\\Python\\Python38\\site-packages\\tensorflow\\python\\ops\\custom_gradient.py\u001B[0m in \u001B[0;36m__call__\u001B[1;34m(self, *a, **k)\u001B[0m\n\u001B[0;32m    259\u001B[0m \u001B[1;33m\u001B[0m\u001B[0m\n\u001B[0;32m    260\u001B[0m   \u001B[1;32mdef\u001B[0m \u001B[0m__call__\u001B[0m\u001B[1;33m(\u001B[0m\u001B[0mself\u001B[0m\u001B[1;33m,\u001B[0m \u001B[1;33m*\u001B[0m\u001B[0ma\u001B[0m\u001B[1;33m,\u001B[0m \u001B[1;33m**\u001B[0m\u001B[0mk\u001B[0m\u001B[1;33m)\u001B[0m\u001B[1;33m:\u001B[0m\u001B[1;33m\u001B[0m\u001B[1;33m\u001B[0m\u001B[0m\n\u001B[1;32m--> 261\u001B[1;33m     \u001B[1;32mreturn\u001B[0m \u001B[0mself\u001B[0m\u001B[1;33m.\u001B[0m\u001B[0m_d\u001B[0m\u001B[1;33m(\u001B[0m\u001B[0mself\u001B[0m\u001B[1;33m.\u001B[0m\u001B[0m_f\u001B[0m\u001B[1;33m,\u001B[0m \u001B[0ma\u001B[0m\u001B[1;33m,\u001B[0m \u001B[0mk\u001B[0m\u001B[1;33m)\u001B[0m\u001B[1;33m\u001B[0m\u001B[1;33m\u001B[0m\u001B[0m\n\u001B[0m\u001B[0;32m    262\u001B[0m \u001B[1;33m\u001B[0m\u001B[0m\n\u001B[0;32m    263\u001B[0m \u001B[1;33m\u001B[0m\u001B[0m\n",
      "\u001B[1;32m~\\AppData\\Roaming\\Python\\Python38\\site-packages\\tensorflow\\python\\ops\\custom_gradient.py\u001B[0m in \u001B[0;36mdecorated\u001B[1;34m(wrapped, args, kwargs)\u001B[0m\n\u001B[0;32m    213\u001B[0m \u001B[1;33m\u001B[0m\u001B[0m\n\u001B[0;32m    214\u001B[0m     \u001B[1;32mif\u001B[0m \u001B[0mcontext\u001B[0m\u001B[1;33m.\u001B[0m\u001B[0mexecuting_eagerly\u001B[0m\u001B[1;33m(\u001B[0m\u001B[1;33m)\u001B[0m\u001B[1;33m:\u001B[0m\u001B[1;33m\u001B[0m\u001B[1;33m\u001B[0m\u001B[0m\n\u001B[1;32m--> 215\u001B[1;33m       \u001B[1;32mreturn\u001B[0m \u001B[0m_eager_mode_decorator\u001B[0m\u001B[1;33m(\u001B[0m\u001B[0mwrapped\u001B[0m\u001B[1;33m,\u001B[0m \u001B[0margs\u001B[0m\u001B[1;33m,\u001B[0m \u001B[0mkwargs\u001B[0m\u001B[1;33m)\u001B[0m\u001B[1;33m\u001B[0m\u001B[1;33m\u001B[0m\u001B[0m\n\u001B[0m\u001B[0;32m    216\u001B[0m     \u001B[1;32melse\u001B[0m\u001B[1;33m:\u001B[0m\u001B[1;33m\u001B[0m\u001B[1;33m\u001B[0m\u001B[0m\n\u001B[0;32m    217\u001B[0m       \u001B[1;32mreturn\u001B[0m \u001B[0m_graph_mode_decorator\u001B[0m\u001B[1;33m(\u001B[0m\u001B[0mwrapped\u001B[0m\u001B[1;33m,\u001B[0m \u001B[0margs\u001B[0m\u001B[1;33m,\u001B[0m \u001B[0mkwargs\u001B[0m\u001B[1;33m)\u001B[0m\u001B[1;33m\u001B[0m\u001B[1;33m\u001B[0m\u001B[0m\n",
      "\u001B[1;32m~\\AppData\\Roaming\\Python\\Python38\\site-packages\\tensorflow\\python\\ops\\custom_gradient.py\u001B[0m in \u001B[0;36m_eager_mode_decorator\u001B[1;34m(f, args, kwargs)\u001B[0m\n\u001B[0;32m    436\u001B[0m   \u001B[1;34m\"\"\"Implement custom gradient decorator for eager mode.\"\"\"\u001B[0m\u001B[1;33m\u001B[0m\u001B[1;33m\u001B[0m\u001B[0m\n\u001B[0;32m    437\u001B[0m   \u001B[1;32mwith\u001B[0m \u001B[0mtape_lib\u001B[0m\u001B[1;33m.\u001B[0m\u001B[0mVariableWatcher\u001B[0m\u001B[1;33m(\u001B[0m\u001B[1;33m)\u001B[0m \u001B[1;32mas\u001B[0m \u001B[0mvariable_watcher\u001B[0m\u001B[1;33m:\u001B[0m\u001B[1;33m\u001B[0m\u001B[1;33m\u001B[0m\u001B[0m\n\u001B[1;32m--> 438\u001B[1;33m     \u001B[0mresult\u001B[0m\u001B[1;33m,\u001B[0m \u001B[0mgrad_fn\u001B[0m \u001B[1;33m=\u001B[0m \u001B[0mf\u001B[0m\u001B[1;33m(\u001B[0m\u001B[1;33m*\u001B[0m\u001B[0margs\u001B[0m\u001B[1;33m,\u001B[0m \u001B[1;33m**\u001B[0m\u001B[0mkwargs\u001B[0m\u001B[1;33m)\u001B[0m\u001B[1;33m\u001B[0m\u001B[1;33m\u001B[0m\u001B[0m\n\u001B[0m\u001B[0;32m    439\u001B[0m   \u001B[0margs\u001B[0m \u001B[1;33m=\u001B[0m \u001B[0mnest\u001B[0m\u001B[1;33m.\u001B[0m\u001B[0mflatten\u001B[0m\u001B[1;33m(\u001B[0m\u001B[0margs\u001B[0m\u001B[1;33m)\u001B[0m\u001B[1;33m\u001B[0m\u001B[1;33m\u001B[0m\u001B[0m\n\u001B[0;32m    440\u001B[0m   \u001B[0mall_inputs\u001B[0m \u001B[1;33m=\u001B[0m \u001B[0mlist\u001B[0m\u001B[1;33m(\u001B[0m\u001B[0margs\u001B[0m\u001B[1;33m)\u001B[0m \u001B[1;33m+\u001B[0m \u001B[0mlist\u001B[0m\u001B[1;33m(\u001B[0m\u001B[0mkwargs\u001B[0m\u001B[1;33m.\u001B[0m\u001B[0mvalues\u001B[0m\u001B[1;33m(\u001B[0m\u001B[1;33m)\u001B[0m\u001B[1;33m)\u001B[0m\u001B[1;33m\u001B[0m\u001B[1;33m\u001B[0m\u001B[0m\n",
      "\u001B[1;32mc:\\users\\geeso\\onedrive - university of cambridge\\year_1\\pietro\\multi-step-framework\\venv\\lib\\site-packages\\dgl\\backend\\tensorflow\\sparse.py\u001B[0m in \u001B[0;36m_lambda\u001B[1;34m(logits)\u001B[0m\n\u001B[0;32m    252\u001B[0m     \u001B[1;33m@\u001B[0m\u001B[0mtf\u001B[0m\u001B[1;33m.\u001B[0m\u001B[0mcustom_gradient\u001B[0m\u001B[1;33m\u001B[0m\u001B[1;33m\u001B[0m\u001B[0m\n\u001B[0;32m    253\u001B[0m     \u001B[1;32mdef\u001B[0m \u001B[0m_lambda\u001B[0m\u001B[1;33m(\u001B[0m\u001B[0mlogits\u001B[0m\u001B[1;33m)\u001B[0m\u001B[1;33m:\u001B[0m\u001B[1;33m\u001B[0m\u001B[1;33m\u001B[0m\u001B[0m\n\u001B[1;32m--> 254\u001B[1;33m         \u001B[1;32mreturn\u001B[0m \u001B[0medge_softmax_real\u001B[0m\u001B[1;33m(\u001B[0m\u001B[0mgidx\u001B[0m\u001B[1;33m,\u001B[0m \u001B[0mlogits\u001B[0m\u001B[1;33m,\u001B[0m \u001B[0meids\u001B[0m\u001B[1;33m,\u001B[0m \u001B[0mnorm_by\u001B[0m\u001B[1;33m)\u001B[0m\u001B[1;33m\u001B[0m\u001B[1;33m\u001B[0m\u001B[0m\n\u001B[0m\u001B[0;32m    255\u001B[0m     \u001B[1;32mreturn\u001B[0m \u001B[0m_lambda\u001B[0m\u001B[1;33m(\u001B[0m\u001B[0mlogits\u001B[0m\u001B[1;33m)\u001B[0m\u001B[1;33m\u001B[0m\u001B[1;33m\u001B[0m\u001B[0m\n\u001B[0;32m    256\u001B[0m \u001B[1;33m\u001B[0m\u001B[0m\n",
      "\u001B[1;32mc:\\users\\geeso\\onedrive - university of cambridge\\year_1\\pietro\\multi-step-framework\\venv\\lib\\site-packages\\dgl\\backend\\tensorflow\\sparse.py\u001B[0m in \u001B[0;36medge_softmax_real\u001B[1;34m(gidx, score, eids, norm_by)\u001B[0m\n\u001B[0;32m    237\u001B[0m     \u001B[0mscore_max\u001B[0m \u001B[1;33m=\u001B[0m \u001B[0m_gspmm\u001B[0m\u001B[1;33m(\u001B[0m\u001B[0mgidx\u001B[0m\u001B[1;33m,\u001B[0m \u001B[1;34m'copy_rhs'\u001B[0m\u001B[1;33m,\u001B[0m \u001B[1;34m'max'\u001B[0m\u001B[1;33m,\u001B[0m \u001B[1;32mNone\u001B[0m\u001B[1;33m,\u001B[0m \u001B[0mscore\u001B[0m\u001B[1;33m)\u001B[0m\u001B[1;33m[\u001B[0m\u001B[1;36m0\u001B[0m\u001B[1;33m]\u001B[0m\u001B[1;33m\u001B[0m\u001B[1;33m\u001B[0m\u001B[0m\n\u001B[0;32m    238\u001B[0m     \u001B[0mscore\u001B[0m \u001B[1;33m=\u001B[0m \u001B[0mtf\u001B[0m\u001B[1;33m.\u001B[0m\u001B[0mmath\u001B[0m\u001B[1;33m.\u001B[0m\u001B[0mexp\u001B[0m\u001B[1;33m(\u001B[0m\u001B[0m_gsddmm\u001B[0m\u001B[1;33m(\u001B[0m\u001B[0mgidx\u001B[0m\u001B[1;33m,\u001B[0m \u001B[1;34m'sub'\u001B[0m\u001B[1;33m,\u001B[0m \u001B[0mscore\u001B[0m\u001B[1;33m,\u001B[0m \u001B[0mscore_max\u001B[0m\u001B[1;33m,\u001B[0m \u001B[1;34m'e'\u001B[0m\u001B[1;33m,\u001B[0m \u001B[1;34m'v'\u001B[0m\u001B[1;33m)\u001B[0m\u001B[1;33m)\u001B[0m\u001B[1;33m\u001B[0m\u001B[1;33m\u001B[0m\u001B[0m\n\u001B[1;32m--> 239\u001B[1;33m     \u001B[0mscore_sum\u001B[0m \u001B[1;33m=\u001B[0m \u001B[0m_gspmm\u001B[0m\u001B[1;33m(\u001B[0m\u001B[0mgidx\u001B[0m\u001B[1;33m,\u001B[0m \u001B[1;34m'copy_rhs'\u001B[0m\u001B[1;33m,\u001B[0m \u001B[1;34m'sum'\u001B[0m\u001B[1;33m,\u001B[0m \u001B[1;32mNone\u001B[0m\u001B[1;33m,\u001B[0m \u001B[0mscore\u001B[0m\u001B[1;33m)\u001B[0m\u001B[1;33m[\u001B[0m\u001B[1;36m0\u001B[0m\u001B[1;33m]\u001B[0m\u001B[1;33m\u001B[0m\u001B[1;33m\u001B[0m\u001B[0m\n\u001B[0m\u001B[0;32m    240\u001B[0m     \u001B[0mout\u001B[0m \u001B[1;33m=\u001B[0m \u001B[0m_gsddmm\u001B[0m\u001B[1;33m(\u001B[0m\u001B[0mgidx\u001B[0m\u001B[1;33m,\u001B[0m \u001B[1;34m'div'\u001B[0m\u001B[1;33m,\u001B[0m \u001B[0mscore\u001B[0m\u001B[1;33m,\u001B[0m \u001B[0mscore_sum\u001B[0m\u001B[1;33m,\u001B[0m \u001B[1;34m'e'\u001B[0m\u001B[1;33m,\u001B[0m \u001B[1;34m'v'\u001B[0m\u001B[1;33m)\u001B[0m\u001B[1;33m\u001B[0m\u001B[1;33m\u001B[0m\u001B[0m\n\u001B[0;32m    241\u001B[0m \u001B[1;33m\u001B[0m\u001B[0m\n",
      "\u001B[1;32mc:\\users\\geeso\\onedrive - university of cambridge\\year_1\\pietro\\multi-step-framework\\venv\\lib\\site-packages\\dgl\\sparse.py\u001B[0m in \u001B[0;36m_gspmm\u001B[1;34m(gidx, op, reduce_op, u, e)\u001B[0m\n\u001B[0;32m    155\u001B[0m     \u001B[0marg_e_nd\u001B[0m \u001B[1;33m=\u001B[0m \u001B[0mto_dgl_nd_for_write\u001B[0m\u001B[1;33m(\u001B[0m\u001B[0marg_e\u001B[0m\u001B[1;33m)\u001B[0m\u001B[1;33m\u001B[0m\u001B[1;33m\u001B[0m\u001B[0m\n\u001B[0;32m    156\u001B[0m     \u001B[1;32mif\u001B[0m \u001B[0mgidx\u001B[0m\u001B[1;33m.\u001B[0m\u001B[0mnumber_of_edges\u001B[0m\u001B[1;33m(\u001B[0m\u001B[1;36m0\u001B[0m\u001B[1;33m)\u001B[0m \u001B[1;33m>\u001B[0m \u001B[1;36m0\u001B[0m\u001B[1;33m:\u001B[0m\u001B[1;33m\u001B[0m\u001B[1;33m\u001B[0m\u001B[0m\n\u001B[1;32m--> 157\u001B[1;33m         _CAPI_DGLKernelSpMM(gidx, op, reduce_op,\n\u001B[0m\u001B[0;32m    158\u001B[0m                             \u001B[0mto_dgl_nd\u001B[0m\u001B[1;33m(\u001B[0m\u001B[0mu\u001B[0m \u001B[1;32mif\u001B[0m \u001B[0muse_u\u001B[0m \u001B[1;32melse\u001B[0m \u001B[1;32mNone\u001B[0m\u001B[1;33m)\u001B[0m\u001B[1;33m,\u001B[0m\u001B[1;33m\u001B[0m\u001B[1;33m\u001B[0m\u001B[0m\n\u001B[0;32m    159\u001B[0m                             \u001B[0mto_dgl_nd\u001B[0m\u001B[1;33m(\u001B[0m\u001B[0me\u001B[0m \u001B[1;32mif\u001B[0m \u001B[0muse_e\u001B[0m \u001B[1;32melse\u001B[0m \u001B[1;32mNone\u001B[0m\u001B[1;33m)\u001B[0m\u001B[1;33m,\u001B[0m\u001B[1;33m\u001B[0m\u001B[1;33m\u001B[0m\u001B[0m\n",
      "\u001B[1;32mc:\\users\\geeso\\onedrive - university of cambridge\\year_1\\pietro\\multi-step-framework\\venv\\lib\\site-packages\\dgl\\_ffi\\_ctypes\\function.py\u001B[0m in \u001B[0;36m__call__\u001B[1;34m(self, *args)\u001B[0m\n\u001B[0;32m    186\u001B[0m         \u001B[0mret_val\u001B[0m \u001B[1;33m=\u001B[0m \u001B[0mDGLValue\u001B[0m\u001B[1;33m(\u001B[0m\u001B[1;33m)\u001B[0m\u001B[1;33m\u001B[0m\u001B[1;33m\u001B[0m\u001B[0m\n\u001B[0;32m    187\u001B[0m         \u001B[0mret_tcode\u001B[0m \u001B[1;33m=\u001B[0m \u001B[0mctypes\u001B[0m\u001B[1;33m.\u001B[0m\u001B[0mc_int\u001B[0m\u001B[1;33m(\u001B[0m\u001B[1;33m)\u001B[0m\u001B[1;33m\u001B[0m\u001B[1;33m\u001B[0m\u001B[0m\n\u001B[1;32m--> 188\u001B[1;33m         check_call(_LIB.DGLFuncCall(\n\u001B[0m\u001B[0;32m    189\u001B[0m             \u001B[0mself\u001B[0m\u001B[1;33m.\u001B[0m\u001B[0mhandle\u001B[0m\u001B[1;33m,\u001B[0m \u001B[0mvalues\u001B[0m\u001B[1;33m,\u001B[0m \u001B[0mtcodes\u001B[0m\u001B[1;33m,\u001B[0m \u001B[0mctypes\u001B[0m\u001B[1;33m.\u001B[0m\u001B[0mc_int\u001B[0m\u001B[1;33m(\u001B[0m\u001B[0mnum_args\u001B[0m\u001B[1;33m)\u001B[0m\u001B[1;33m,\u001B[0m\u001B[1;33m\u001B[0m\u001B[1;33m\u001B[0m\u001B[0m\n\u001B[0;32m    190\u001B[0m             ctypes.byref(ret_val), ctypes.byref(ret_tcode)))\n",
      "\u001B[1;31mKeyboardInterrupt\u001B[0m: "
     ]
    }
   ],
   "source": [
    "# Optimise the process\n",
    "# numObjectiveSamples, preferenceCodeDim, hyperparameterGeneratorDim, epochs=5, h_dim=5, n_layers=4, network_type='GATConv', **kwargs\n",
    "multi_step_graph.train(4, 10, 100, epochs=100, h_dim=5, n_layers=4, network_type='GATConv', num_heads=3)"
   ],
   "metadata": {
    "collapsed": false,
    "pycharm": {
     "name": "#%%\n"
    }
   }
  },
  {
   "cell_type": "code",
   "execution_count": null,
   "outputs": [],
   "source": [
    "\n"
   ],
   "metadata": {
    "collapsed": false,
    "pycharm": {
     "name": "#%%\n",
     "is_executing": true
    }
   }
  }
 ],
 "metadata": {
  "kernelspec": {
   "name": "python3",
   "language": "python",
   "display_name": "Python 3"
  },
  "language_info": {
   "codemirror_mode": {
    "name": "ipython",
    "version": 2
   },
   "file_extension": ".py",
   "mimetype": "text/x-python",
   "name": "python",
   "nbconvert_exporter": "python",
   "pygments_lexer": "ipython2",
   "version": "2.7.6"
  }
 },
 "nbformat": 4,
 "nbformat_minor": 0
}