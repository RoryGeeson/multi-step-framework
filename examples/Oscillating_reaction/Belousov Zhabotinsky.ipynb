{
 "cells": [
  {
   "cell_type": "code",
   "execution_count": null,
   "metadata": {
    "collapsed": true
   },
   "outputs": [],
   "source": [
    "# https://chem.libretexts.org/Bookshelves/Physical_and_Theoretical_Chemistry_Textbook_Maps/Map%3A_Physical_Chemistry_for_the_Biosciences_(Chang)/09%3A_Chemical_Kinetics/9.11%3A_Oscillating_Reactions\n",
    "\n",
    "import scipy"
   ]
  },
  {
   "cell_type": "markdown",
   "source": [
    "The following cell is used to define the ODEs for the Belousov-Zhabotinsky\n",
    "reactions.\n",
    "\n",
    "The essential reactions taking place are (note: unbalanced and only \n",
    "including species of interest):\n",
    "\n",
    "\\begin{align}\n",
    "    BrO_3^- + Br^- &\\xrightarrow{k_1} HBrO_2 + HOBr \\\\\n",
    "    HBrO_2 + Br^- &\\xrightarrow{k_2} 2 HOBr \\\\\n",
    "    BrO_3^- + HBrO_2 &\\xrightarrow{k_3} 2HBrO_2 + 2Ce^{4+} \\\\\n",
    "    2HBrO_2 &\\xrightarrow{k_4} BrO_3^- + HOBr \\\\\n",
    "    Ce^{4+} &\\xrightarrow{k_5} fBr\n",
    "\\end{align}\n",
    "\n",
    "Set some variables to be used for calculations:\n",
    "\n",
    "$x$ = [HBrO$_2$], $y$ = [Br$^-$], z = [Ce$^{4+}$]\n",
    "\n",
    "Assume [BrO$_3^-$] constant $a$\n",
    "\n",
    "\\begin{align}\n",
    "    \\frac{dx}{dt} &= k_1ay - k_2xy + k_3ax - k_4x^2 \\\\\n",
    "    \\frac{dy}{dt} &= -k_1ay - k_2xy + fK-5z \\\\\n",
    "    \\frac{dz}{dt} &= 2k_3ax - k_5z \\\\\n",
    "\\end{align}"
   ],
   "metadata": {
    "collapsed": false,
    "pycharm": {
     "name": "#%% md\n"
    }
   }
  },
  {
   "cell_type": "code",
   "execution_count": null,
   "outputs": [],
   "source": [
    "def odes(t, var, a, f, k):\n",
    "    dxdt = k[0]*a*var[1] - k[1]*var[0]*var[1] + k[2]*a*var[0] - k[3]*var[0]**2\n",
    "    dydt = -k[0]*a*var[1] - k[1]*var[0]*var[1] + f*k[4]*var[2]\n",
    "    dzdt = 2*k[2]*a*var[0] - k[4]*var[2]\n",
    "    return [dxdt, dydt, dzdt]"
   ],
   "metadata": {
    "collapsed": false,
    "pycharm": {
     "name": "#%%\n"
    }
   }
  },
  {
   "cell_type": "markdown",
   "source": [
    "Now it's time to solve the ODEs!"
   ],
   "metadata": {
    "collapsed": false,
    "pycharm": {
     "name": "#%% md\n"
    }
   }
  },
  {
   "cell_type": "code",
   "execution_count": null,
   "outputs": [],
   "source": [
    "a = \n",
    "f = \n",
    "k = []\n",
    "scipy.integrate.solve_ivp(odes, [,], [,], args=(a, f, k))\n"
   ],
   "metadata": {
    "collapsed": false,
    "pycharm": {
     "name": "#%%\n"
    }
   }
  }
 ],
 "metadata": {
  "kernelspec": {
   "display_name": "Python 3",
   "language": "python",
   "name": "python3"
  },
  "language_info": {
   "codemirror_mode": {
    "name": "ipython",
    "version": 2
   },
   "file_extension": ".py",
   "mimetype": "text/x-python",
   "name": "python",
   "nbconvert_exporter": "python",
   "pygments_lexer": "ipython2",
   "version": "2.7.6"
  },
  "pycharm": {
   "stem_cell": {
    "cell_type": "raw",
    "source": [],
    "metadata": {
     "collapsed": false
    }
   }
  }
 },
 "nbformat": 4,
 "nbformat_minor": 0
}