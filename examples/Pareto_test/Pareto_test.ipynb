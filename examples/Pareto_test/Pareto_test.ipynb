{
 "cells": [
  {
   "cell_type": "code",
   "execution_count": 1,
   "outputs": [
    {
     "name": "stdout",
     "output_type": "stream",
     "text": [
      "Setting the default backend to \"tensorflow\". You can change it in the ~/.dgl/config.json file or export the DGLBACKEND environment variable.  Valid options are: pytorch, mxnet, tensorflow (all lowercase)\n"
     ]
    },
    {
     "name": "stderr",
     "output_type": "stream",
     "text": [
      "Using backend: tensorflow\n"
     ]
    }
   ],
   "source": [
    "import numpy as np\n",
    "from multi_step import multi_step, utils\n",
    "import gpflow\n",
    "import tensorflow as tf\n",
    "import matplotlib.pyplot as plt\n",
    "gpflow.config.set_default_float(\"float32\")"
   ],
   "metadata": {
    "collapsed": false,
    "pycharm": {
     "name": "#%%\n"
    }
   }
  },
  {
   "cell_type": "code",
   "execution_count": 2,
   "outputs": [],
   "source": [
    "# class multi_step_minimal()"
   ],
   "metadata": {
    "collapsed": false,
    "pycharm": {
     "name": "#%%\n"
    }
   }
  },
  {
   "cell_type": "code",
   "execution_count": 3,
   "outputs": [],
   "source": [
    "#Schaffer Function 1\n",
    "class SchafferFunc1():\n",
    "    def __init__(self):\n",
    "        self.name = 'SchafferFunc1'\n",
    "\n",
    "    def evaluateModel(self, input):\n",
    "        # print('input: ',input)\n",
    "        return tf.squeeze(input)\n",
    "\n",
    "SFunc = SchafferFunc1()"
   ],
   "metadata": {
    "collapsed": false,
    "pycharm": {
     "name": "#%%\n"
    }
   }
  },
  {
   "cell_type": "code",
   "execution_count": 4,
   "metadata": {
    "collapsed": true
   },
   "outputs": [],
   "source": [
    "# Define the stage input ranges\n",
    "stage1Ranges = [[-10,10]]"
   ]
  },
  {
   "cell_type": "code",
   "execution_count": 5,
   "outputs": [],
   "source": [
    "# Generate the multi_step class\n",
    "multi_step_graph = multi_step.multi_step_graph('adagrad', learning_rate=0.015, training='sobol', eps=1e-4)"
   ],
   "metadata": {
    "collapsed": false,
    "pycharm": {
     "name": "#%%\n"
    }
   }
  },
  {
   "cell_type": "code",
   "execution_count": 6,
   "outputs": [
    {
     "name": "stderr",
     "output_type": "stream",
     "text": [
      "c:\\users\\geeso\\virtualenvironments\\multi-step-framework\\lib\\site-packages\\dgl\\base.py:45: DGLWarning: Recommend creating graphs by `dgl.graph(data)` instead of `dgl.DGLGraph(data)`.\n",
      "  return warnings.warn(message, category=category, stacklevel=1)\n"
     ]
    }
   ],
   "source": [
    "# Load the models into the framework\n",
    "\n",
    "#Define the stages\n",
    "# stageID, stageModel, conditionRanges, followingStages (followingStageID, feedingVariables)\n",
    "stage1 = utils.stage(0, SFunc, stage1Ranges, outputDimension=1)\n",
    "\n",
    "stages = [stage1]\n",
    "\n",
    "multi_step_graph.loadModels(stages)"
   ],
   "metadata": {
    "collapsed": false,
    "pycharm": {
     "name": "#%%\n"
    }
   }
  },
  {
   "cell_type": "code",
   "execution_count": 7,
   "outputs": [],
   "source": [
    "# Define the objective functions\n",
    "\n",
    "def objectiveFunction1(var1):\n",
    "    return -var1**2\n",
    "\n",
    "def objectiveFunction2(var1):\n",
    "    return -(var1-2)**2\n",
    "\n",
    "# Define the objective objects including the objective functions and the IDs of relevant variables/outputs\n",
    "# Define objective variables with form: [stage, 'input'/'output', stage variable]\n",
    "objective1 = utils.objective(objectiveFunction2, [[stage1,'outputs',0]])\n",
    "objective2 = utils.objective(objectiveFunction1, [[stage1,'outputs',0]])\n",
    "\n",
    "objectives = [objective1, objective2]"
   ],
   "metadata": {
    "collapsed": false,
    "pycharm": {
     "name": "#%%\n"
    }
   }
  },
  {
   "cell_type": "code",
   "execution_count": 8,
   "outputs": [],
   "source": [
    "# Define the objectives for the framework\n",
    "multi_step_graph.defineObjectives(objectives)"
   ],
   "metadata": {
    "collapsed": false,
    "pycharm": {
     "name": "#%%\n"
    }
   }
  },
  {
   "cell_type": "code",
   "execution_count": 9,
   "outputs": [
    {
     "name": "stdout",
     "output_type": "stream",
     "text": [
      "Starting training\n",
      "Inputs:  [{0: array([7.5])}, {0: array([-2.5])}, {0: array([-5.])}, {0: array([5.])}, {0: array([0.])}]\n",
      "WARNING:tensorflow:Calling GradientTape.gradient on a persistent tape inside its context is significantly less efficient than calling it outside the context (it causes the gradient ops to be recorded on the tape, leading to increased CPU and memory usage). Only call GradientTape.gradient inside the context if you actually want to trace the gradient in order to compute higher order derivatives.\n",
      "Weightings: [0.1 0.9], Epoch: 0, Loss: 0.032099947333335876, Objective values: [-3.9976499e+00 -3.4530822e-07]\n",
      "Weightings: [0.1 0.9], Epoch: 5, Loss: 1.516801118850708, Objective values: [-2.2894042  -0.23709328]\n"
     ]
    },
    {
     "name": "stderr",
     "output_type": "stream",
     "text": [
      "c:\\users\\geeso\\virtualenvironments\\multi-step-framework\\lib\\site-packages\\cvxpy\\reductions\\solvers\\solving_chain.py:167: UserWarning: You are solving a parameterized problem that is not DPP. Because the problem is not DPP, subsequent solves will not be faster than the first one. For more information, see the documentation on Discplined Parametrized Programming, at\n",
      "\thttps://www.cvxpy.org/tutorial/advanced/index.html#disciplined-parametrized-programming\n",
      "  warnings.warn(dpp_error_msg)\n"
     ]
    },
    {
     "name": "stdout",
     "output_type": "stream",
     "text": [
      "Weightings: [0.1 0.9], Epoch: 10, Loss: 1.493459701538086, Objective values: [-2.2597897  -0.24675103]\n",
      "Weightings: [0.1 0.9], Epoch: 15, Loss: 1.493459701538086, Objective values: [-2.2597897  -0.24675103]\n",
      "Weightings: [0.1 0.9], Epoch: 0, Loss: 1.4924236536026, Objective values: [-2.261336   -0.24624026]\n",
      "Weightings: [0.1 0.9], Epoch: 5, Loss: 1.4924237728118896, Objective values: [-2.261336   -0.24624032]\n",
      "Weightings: [0.1 0.9], Epoch: 10, Loss: 1.4924237728118896, Objective values: [-2.261336   -0.24624032]\n",
      "Weightings: [0.1 0.9], Epoch: 15, Loss: 1.4924237728118896, Objective values: [-2.261336   -0.24624032]\n",
      "Weightings: [0.1 0.9], Epoch: 0, Loss: 1.4932430982589722, Objective values: [-2.260113   -0.24664421]\n",
      "Weightings: [0.1 0.9], Epoch: 5, Loss: 1.4932430982589722, Objective values: [-2.260113   -0.24664421]\n",
      "Weightings: [0.1 0.9], Epoch: 10, Loss: 1.4932430982589722, Objective values: [-2.260113   -0.24664421]\n",
      "Weightings: [0.1 0.9], Epoch: 15, Loss: 1.4932430982589722, Objective values: [-2.260113   -0.24664421]\n",
      "Weightings: [0.1 0.9], Epoch: 0, Loss: 1.4925537109375, Objective values: [-2.2611418  -0.24630438]\n",
      "Weightings: [0.1 0.9], Epoch: 5, Loss: 1.4925537109375, Objective values: [-2.2611418  -0.24630438]\n",
      "Weightings: [0.1 0.9], Epoch: 10, Loss: 1.4925537109375, Objective values: [-2.2611418  -0.24630438]\n",
      "Weightings: [0.1 0.9], Epoch: 15, Loss: 1.4925537109375, Objective values: [-2.2611418  -0.24630438]\n",
      "Weightings: [0.1 0.9], Epoch: 0, Loss: 1.4920357465744019, Objective values: [-2.2619147  -0.24604934]\n",
      "Weightings: [0.1 0.9], Epoch: 5, Loss: 1.4920357465744019, Objective values: [-2.2619147  -0.24604934]\n",
      "Weightings: [0.1 0.9], Epoch: 10, Loss: 1.4920357465744019, Objective values: [-2.2619147  -0.24604934]\n",
      "Weightings: [0.1 0.9], Epoch: 15, Loss: 1.4920357465744019, Objective values: [-2.2619147  -0.24604934]\n",
      "Weightings: [0.3 0.7], Epoch: 0, Loss: 2.509274959564209, Objective values: [-2.2610621  -0.24633065]\n",
      "Weightings: [0.3 0.7], Epoch: 5, Loss: 1.9169496297836304, Objective values: [-1.4490799  -0.63397056]\n",
      "Weightings: [0.3 0.7], Epoch: 10, Loss: 1.9169496297836304, Objective values: [-1.4490799  -0.63397056]\n",
      "Weightings: [0.3 0.7], Epoch: 15, Loss: 1.9169496297836304, Objective values: [-1.4490799  -0.63397056]\n",
      "Weightings: [0.3 0.7], Epoch: 0, Loss: 1.9166042804718018, Objective values: [-1.4500991  -0.63329667]\n",
      "Weightings: [0.3 0.7], Epoch: 5, Loss: 1.9166042804718018, Objective values: [-1.4500991  -0.63329667]\n",
      "Weightings: [0.3 0.7], Epoch: 10, Loss: 1.9166042804718018, Objective values: [-1.4500991  -0.63329667]\n",
      "Weightings: [0.3 0.7], Epoch: 15, Loss: 1.9166042804718018, Objective values: [-1.4500991  -0.63329667]\n",
      "Weightings: [0.3 0.7], Epoch: 0, Loss: 1.9168776273727417, Objective values: [-1.4492925 -0.6338299]\n",
      "Weightings: [0.3 0.7], Epoch: 5, Loss: 1.9168776273727417, Objective values: [-1.4492925 -0.6338299]\n",
      "Weightings: [0.3 0.7], Epoch: 10, Loss: 1.9168776273727417, Objective values: [-1.4492925 -0.6338299]\n",
      "Weightings: [0.3 0.7], Epoch: 15, Loss: 1.9168776273727417, Objective values: [-1.4492925 -0.6338299]\n",
      "Weightings: [0.3 0.7], Epoch: 0, Loss: 1.9166476726531982, Objective values: [-1.4499714  -0.63338107]\n",
      "Weightings: [0.3 0.7], Epoch: 5, Loss: 1.9166476726531982, Objective values: [-1.4499714  -0.63338107]\n",
      "Weightings: [0.3 0.7], Epoch: 10, Loss: 1.9166476726531982, Objective values: [-1.4499714  -0.63338107]\n",
      "Weightings: [0.3 0.7], Epoch: 15, Loss: 1.9166476726531982, Objective values: [-1.4499714  -0.63338107]\n",
      "Weightings: [0.3 0.7], Epoch: 0, Loss: 1.9164745807647705, Objective values: [-1.450481  -0.6330443]\n",
      "Weightings: [0.3 0.7], Epoch: 5, Loss: 1.9164745807647705, Objective values: [-1.450481  -0.6330443]\n",
      "Weightings: [0.3 0.7], Epoch: 10, Loss: 1.9164745807647705, Objective values: [-1.450481  -0.6330443]\n",
      "Weightings: [0.3 0.7], Epoch: 15, Loss: 1.9164745807647705, Objective values: [-1.450481  -0.6330443]\n",
      "Weightings: [0.5 0.5], Epoch: 0, Loss: 2.2275333404541016, Objective values: [-1.4497136 -0.6335515]\n",
      "Weightings: [0.5 0.5], Epoch: 5, Loss: 1.9999353885650635, Objective values: [-1.0113852 -0.9886791]\n",
      "Weightings: [0.5 0.5], Epoch: 10, Loss: 1.9999353885650635, Objective values: [-1.0113852 -0.9886791]\n",
      "Weightings: [0.5 0.5], Epoch: 15, Loss: 1.9999353885650635, Objective values: [-1.0113852 -0.9886791]\n",
      "Weightings: [0.5 0.5], Epoch: 0, Loss: 1.9999266862869263, Objective values: [-1.0121505  -0.98792285]\n",
      "Weightings: [0.5 0.5], Epoch: 5, Loss: 1.9999266862869263, Objective values: [-1.0121505  -0.98792285]\n",
      "Weightings: [0.5 0.5], Epoch: 10, Loss: 1.9999266862869263, Objective values: [-1.0121505  -0.98792285]\n",
      "Weightings: [0.5 0.5], Epoch: 15, Loss: 1.9999266862869263, Objective values: [-1.0121505  -0.98792285]\n",
      "Weightings: [0.5 0.5], Epoch: 0, Loss: 1.9999337196350098, Objective values: [-1.0115447 -0.9885216]\n",
      "Weightings: [0.5 0.5], Epoch: 5, Loss: 1.9999337196350098, Objective values: [-1.0115447 -0.9885216]\n",
      "Weightings: [0.5 0.5], Epoch: 10, Loss: 1.9999337196350098, Objective values: [-1.0115447 -0.9885216]\n",
      "Weightings: [0.5 0.5], Epoch: 15, Loss: 1.9999337196350098, Objective values: [-1.0115447 -0.9885216]\n",
      "Weightings: [0.5 0.5], Epoch: 0, Loss: 1.9999277591705322, Objective values: [-1.012055  -0.9880172]\n",
      "Weightings: [0.5 0.5], Epoch: 5, Loss: 1.9999277591705322, Objective values: [-1.012055  -0.9880172]\n",
      "Weightings: [0.5 0.5], Epoch: 10, Loss: 1.9999277591705322, Objective values: [-1.012055  -0.9880172]\n",
      "Weightings: [0.5 0.5], Epoch: 15, Loss: 1.9999277591705322, Objective values: [-1.012055  -0.9880172]\n",
      "Weightings: [0.5 0.5], Epoch: 0, Loss: 1.9999232292175293, Objective values: [-1.0124376  -0.98763937]\n",
      "Weightings: [0.5 0.5], Epoch: 5, Loss: 1.9999232292175293, Objective values: [-1.0124376  -0.98763937]\n",
      "Weightings: [0.5 0.5], Epoch: 10, Loss: 1.9999232292175293, Objective values: [-1.0124376  -0.98763937]\n",
      "Weightings: [0.5 0.5], Epoch: 15, Loss: 1.9999232292175293, Objective values: [-1.0124376  -0.98763937]\n",
      "Weightings: [0.7 0.3], Epoch: 0, Loss: 2.007678508758545, Objective values: [-1.0106757 -0.989381 ]\n",
      "Weightings: [0.7 0.3], Epoch: 5, Loss: 1.9159655570983887, Objective values: [-0.63205487 -1.4519798 ]\n",
      "Weightings: [0.7 0.3], Epoch: 10, Loss: 1.9159655570983887, Objective values: [-0.63205487 -1.4519798 ]\n",
      "Weightings: [0.7 0.3], Epoch: 15, Loss: 1.9159655570983887, Objective values: [-0.63205487 -1.4519798 ]\n",
      "Weightings: [0.7 0.3], Epoch: 0, Loss: 1.916969656944275, Objective values: [-0.63400966 -1.4490207 ]\n",
      "Weightings: [0.7 0.3], Epoch: 5, Loss: 1.916969656944275, Objective values: [-0.63400966 -1.4490207 ]\n",
      "Weightings: [0.7 0.3], Epoch: 10, Loss: 1.916969656944275, Objective values: [-0.63400966 -1.4490207 ]\n",
      "Weightings: [0.7 0.3], Epoch: 15, Loss: 1.916969656944275, Objective values: [-0.63400966 -1.4490207 ]\n",
      "Weightings: [0.7 0.3], Epoch: 0, Loss: 1.9161748886108398, Objective values: [-0.63246155 -1.4513636 ]\n",
      "Weightings: [0.7 0.3], Epoch: 5, Loss: 1.9161748886108398, Objective values: [-0.63246155 -1.4513636 ]\n",
      "Weightings: [0.7 0.3], Epoch: 10, Loss: 1.9161748886108398, Objective values: [-0.63246155 -1.4513636 ]\n",
      "Weightings: [0.7 0.3], Epoch: 15, Loss: 1.9161748886108398, Objective values: [-0.63246155 -1.4513636 ]\n",
      "Weightings: [0.7 0.3], Epoch: 0, Loss: 1.9168446063995361, Objective values: [-0.6337656 -1.4493898]\n",
      "Weightings: [0.7 0.3], Epoch: 5, Loss: 1.9168446063995361, Objective values: [-0.6337656 -1.4493898]\n",
      "Weightings: [0.7 0.3], Epoch: 10, Loss: 1.9168446063995361, Objective values: [-0.6337656 -1.4493898]\n",
      "Weightings: [0.7 0.3], Epoch: 15, Loss: 1.9168446063995361, Objective values: [-0.6337656 -1.4493898]\n",
      "Weightings: [0.7 0.3], Epoch: 0, Loss: 1.9173446893692017, Objective values: [-0.63474345 -1.447912  ]\n",
      "Weightings: [0.7 0.3], Epoch: 5, Loss: 1.9173446893692017, Objective values: [-0.63474345 -1.447912  ]\n",
      "Weightings: [0.7 0.3], Epoch: 10, Loss: 1.9173446893692017, Objective values: [-0.63474345 -1.447912  ]\n",
      "Weightings: [0.7 0.3], Epoch: 15, Loss: 1.9173446893692017, Objective values: [-0.63474345 -1.447912  ]\n",
      "Weightings: [0.9 0.1], Epoch: 0, Loss: 1.6427345275878906, Objective values: [-0.6293007 -1.4561616]\n",
      "Weightings: [0.9 0.1], Epoch: 5, Loss: 1.5044344663619995, Objective values: [-0.25222713 -2.2433383 ]\n",
      "Weightings: [0.9 0.1], Epoch: 10, Loss: 1.5044344663619995, Objective values: [-0.25222713 -2.2433383 ]\n",
      "Weightings: [0.9 0.1], Epoch: 15, Loss: 1.5044344663619995, Objective values: [-0.25222713 -2.2433383 ]\n",
      "Weightings: [0.9 0.1], Epoch: 0, Loss: 1.4833269119262695, Objective values: [-0.2653839 -2.204767 ]\n",
      "Weightings: [0.9 0.1], Epoch: 5, Loss: 1.508699893951416, Objective values: [-0.2543881 -2.236912 ]\n",
      "Weightings: [0.9 0.1], Epoch: 10, Loss: 1.508699893951416, Objective values: [-0.2543881 -2.236912 ]\n",
      "Weightings: [0.9 0.1], Epoch: 15, Loss: 1.508699893951416, Objective values: [-0.2543881 -2.236912 ]\n",
      "Weightings: [0.9 0.1], Epoch: 0, Loss: 1.5076842308044434, Objective values: [-0.24384308 -2.2686243 ]\n",
      "Weightings: [0.9 0.1], Epoch: 5, Loss: 1.4976115226745605, Objective values: [-0.24880861 -2.2535799 ]\n",
      "Weightings: [0.9 0.1], Epoch: 10, Loss: 1.4976115226745605, Objective values: [-0.24880861 -2.2535799 ]\n",
      "Weightings: [0.9 0.1], Epoch: 15, Loss: 1.4976115226745605, Objective values: [-0.24880861 -2.2535799 ]\n",
      "Weightings: [0.9 0.1], Epoch: 0, Loss: 1.4915015697479248, Objective values: [-0.25743434 -2.2279148 ]\n",
      "Weightings: [0.9 0.1], Epoch: 5, Loss: 1.5040725469589233, Objective values: [-0.25204468 -2.2438827 ]\n",
      "Weightings: [0.9 0.1], Epoch: 10, Loss: 1.5040725469589233, Objective values: [-0.25204468 -2.2438827 ]\n",
      "Weightings: [0.9 0.1], Epoch: 15, Loss: 1.5040725469589233, Objective values: [-0.25204468 -2.2438827 ]\n",
      "Weightings: [0.9 0.1], Epoch: 0, Loss: 1.4901726245880127, Objective values: [-0.2586673 -2.2242935]\n",
      "Weightings: [0.9 0.1], Epoch: 5, Loss: 1.5050801038742065, Objective values: [-0.25255305 -2.2423668 ]\n",
      "Weightings: [0.9 0.1], Epoch: 10, Loss: 1.5050801038742065, Objective values: [-0.25255305 -2.2423668 ]\n",
      "Weightings: [0.9 0.1], Epoch: 15, Loss: 1.5050801038742065, Objective values: [-0.25255305 -2.2423668 ]\n"
     ]
    }
   ],
   "source": [
    "# Train\n",
    "# numObjectiveSamples, numStartSamples, preferenceCodeDim, hyperparameterGeneratorDim, epochs=5, h_dim=5, n_layers=4, network_type='GATConv', **kwargs\n",
    "# inputs = multi_step_graph.train(10, 20, 350, epochs=20, h_dim=20, n_layers=4, network_type='GATConv', num_heads=4)\n",
    "inputs, losses = multi_step_graph.train(5, 5, 15, 50, epochs=20, h_dim=5, n_layers=5, network_type='GATConv', num_heads=1)#, activation=tf.keras.activations.tanh)"
   ],
   "metadata": {
    "collapsed": false,
    "pycharm": {
     "name": "#%%\n"
    }
   }
  },
  {
   "cell_type": "code",
   "execution_count": 10,
   "outputs": [
    {
     "name": "stdout",
     "output_type": "stream",
     "text": [
      "tf.Tensor([9.568317], shape=(1,), dtype=float32)\n",
      "[<tf.Tensor: shape=(1,), dtype=float32, numpy=array([1.5036536], dtype=float32)>]\n",
      "[-0.2463597 -2.2609742]\n"
     ]
    }
   ],
   "source": [
    "# Get optimised inputs based on desired objective weightings\n",
    "generatedInputs, objectiveValues = multi_step_graph.getConditions([0.5,0.5])\n",
    "print(generatedInputs)\n",
    "print(objectiveValues)"
   ],
   "metadata": {
    "collapsed": false,
    "pycharm": {
     "name": "#%%\n"
    }
   }
  },
  {
   "cell_type": "code",
   "execution_count": 11,
   "outputs": [
    {
     "name": "stdout",
     "output_type": "stream",
     "text": [
      "tf.Tensor([-0.08353043], shape=(1,), dtype=float32)\n",
      "tf.Tensor([-3.7475371], shape=(1,), dtype=float32)\n",
      "tf.Tensor([3.2799768], shape=(1,), dtype=float32)\n",
      "tf.Tensor([-3.028431], shape=(1,), dtype=float32)\n",
      "tf.Tensor([6.7824974], shape=(1,), dtype=float32)\n",
      "tf.Tensor([6.8828926], shape=(1,), dtype=float32)\n",
      "tf.Tensor([8.837988], shape=(1,), dtype=float32)\n",
      "tf.Tensor([0.59947014], shape=(1,), dtype=float32)\n",
      "tf.Tensor([1.6831875], shape=(1,), dtype=float32)\n",
      "tf.Tensor([7.2129536], shape=(1,), dtype=float32)\n",
      "tf.Tensor([-3.5862255], shape=(1,), dtype=float32)\n",
      "tf.Tensor([7.893276], shape=(1,), dtype=float32)\n",
      "tf.Tensor([8.8542], shape=(1,), dtype=float32)\n",
      "[1.4968336 1.4991398 1.4972223 1.4982821 1.4999582 1.4999932 1.5025136\n",
      " 1.496696  1.4967427 1.5021722 1.5009308 1.5094471 1.5164726]\n",
      "[[-0.25317645 -2.2405107 ]\n",
      " [-0.25086096 -2.24742   ]\n",
      " [-0.2527854  -2.2416747 ]\n",
      " [-0.25172088 -2.2448492 ]\n",
      " [-0.25004184 -2.2498746 ]\n",
      " [-0.2500068  -2.2499797 ]\n",
      " [-0.24749267 -2.2575474 ]\n",
      " [-0.2533149  -2.240099  ]\n",
      " [-0.25326788 -2.240239  ]\n",
      " [-0.24783249 -2.2565215 ]\n",
      " [-0.24907008 -2.2527933 ]\n",
      " [-0.24064215 -2.2784305 ]\n",
      " [-0.23379877 -2.299689  ]]\n"
     ]
    }
   ],
   "source": [
    "# Create plot of objectives with different weightings\n",
    "weightings = np.arange(0.2,0.8,0.05)\n",
    "inputsList = []\n",
    "objectiveValuesList = []\n",
    "for weighting in weightings:\n",
    "    generatedInputs, objectiveValues = multi_step_graph.getConditions([weighting,1-weighting])\n",
    "    inputsList.append(generatedInputs)\n",
    "    objectiveValuesList.append(objectiveValues)\n",
    "inputsArray = np.squeeze(np.array(inputsList))\n",
    "objectiveValuesArray = np.squeeze(np.array(objectiveValuesList))\n",
    "\n",
    "print(inputsArray)\n",
    "print(objectiveValuesArray)"
   ],
   "metadata": {
    "collapsed": false,
    "pycharm": {
     "name": "#%%\n"
    }
   }
  },
  {
   "cell_type": "code",
   "execution_count": 12,
   "outputs": [
    {
     "data": {
      "text/plain": "<Figure size 864x432 with 1 Axes>",
      "image/png": "[encoded data removed]"
     },
     "metadata": {
      "needs_background": "light"
     },
     "output_type": "display_data"
    }
   ],
   "source": [
    "pareto = plt.figure(figsize=(12, 6))\n",
    "ax = pareto.add_axes([0.1, 0.1, 0.8, 0.8])\n",
    "ax.scatter(objectiveValuesArray[:,0]*(-1),objectiveValuesArray[:,1]*(-1), c=weightings, cmap='gray')\n",
    "# ax.set_xscale('log')\n",
    "ax.set_xlabel('Objective 1')\n",
    "ax.set_ylabel('Objective 2')\n",
    "pareto.savefig('././figures/pareto_Pareto_test.pdf')"
   ],
   "metadata": {
    "collapsed": false,
    "pycharm": {
     "name": "#%%\n"
    }
   }
  },
  {
   "cell_type": "code",
   "execution_count": 13,
   "outputs": [
    {
     "data": {
      "text/plain": "<Figure size 864x432 with 1 Axes>",
      "image/png": "[encoded data removed]"
     },
     "metadata": {
      "needs_background": "light"
     },
     "output_type": "display_data"
    }
   ],
   "source": [
    "loss_fig = plt.figure(figsize=(12, 6))\n",
    "ax = loss_fig.add_axes([0.1, 0.1, 0.8, 0.8])\n",
    "ax.scatter(range(len(losses)),losses)\n",
    "ax.set_yscale('log')\n",
    "ax.set_xlabel('Training Step')\n",
    "ax.set_ylabel('Loss')\n",
    "loss_fig.savefig('././figures/losses.pdf')"
   ],
   "metadata": {
    "collapsed": false,
    "pycharm": {
     "name": "#%%\n"
    }
   }
  },
  {
   "cell_type": "code",
   "execution_count": 14,
   "outputs": [
    {
     "data": {
      "text/plain": "<Figure size 864x432 with 1 Axes>",
      "image/png": "[encoded data removed]"
     },
     "metadata": {
      "needs_background": "light"
     },
     "output_type": "display_data"
    }
   ],
   "source": [
    "weights = multi_step_graph.multiHyperNet.trainable_weights\n",
    "weightsArray = np.concatenate([weight.numpy().flatten() for weight in weights],axis=0)\n",
    "weight_fig = plt.figure(figsize=(12, 6))\n",
    "ax = weight_fig.add_axes([0.1, 0.1, 0.8, 0.8])\n",
    "ax.hist(weightsArray, bins=200)\n",
    "# ax.scatter(range(len(losses)),losses)\n",
    "# ax.set_yscale('log')\n",
    "ax.set_xlabel('Weight Value')\n",
    "ax.set_ylabel('Count')\n",
    "weight_fig.savefig('././figures/weights.pdf')"
   ],
   "metadata": {
    "collapsed": false,
    "pycharm": {
     "name": "#%%\n"
    }
   }
  },
  {
   "cell_type": "code",
   "execution_count": 15,
   "outputs": [
    {
     "data": {
      "text/plain": "<Figure size 864x432 with 1 Axes>",
      "image/png": "[encoded data removed]"
     },
     "metadata": {
      "needs_background": "light"
     },
     "output_type": "display_data"
    }
   ],
   "source": [
    "weights = [multi_step_graph.multiNet.layers[0].attn_l,multi_step_graph.multiNet.layers[0].attn_r,multi_step_graph.multiNet.layers[0].fc.kernel]\n",
    "weightsArray = np.concatenate([weight.numpy().flatten() for weight in weights],axis=0)\n",
    "weightNet_fig = plt.figure(figsize=(12, 6))\n",
    "ax = weightNet_fig.add_axes([0.1, 0.1, 0.8, 0.8])\n",
    "ax.hist(weightsArray, bins=50)\n",
    "# ax.scatter(range(len(losses)),losses)\n",
    "# ax.set_yscale('log')\n",
    "ax.set_xlabel('Weight Value')\n",
    "ax.set_ylabel('Count')\n",
    "weightNet_fig.savefig('././figures/main_net_weights.pdf')"
   ],
   "metadata": {
    "collapsed": false,
    "pycharm": {
     "name": "#%%\n"
    }
   }
  },
  {
   "cell_type": "code",
   "execution_count": 15,
   "outputs": [],
   "source": [],
   "metadata": {
    "collapsed": false,
    "pycharm": {
     "name": "#%%\n"
    }
   }
  }
 ],
 "metadata": {
  "kernelspec": {
   "display_name": "Python 3",
   "language": "python",
   "name": "python3"
  },
  "language_info": {
   "codemirror_mode": {
    "name": "ipython",
    "version": 2
   },
   "file_extension": ".py",
   "mimetype": "text/x-python",
   "name": "python",
   "nbconvert_exporter": "python",
   "pygments_lexer": "ipython2",
   "version": "2.7.6"
  }
 },
 "nbformat": 4,
 "nbformat_minor": 0
}