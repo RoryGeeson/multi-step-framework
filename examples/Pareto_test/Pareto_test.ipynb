{
 "cells": [
  {
   "cell_type": "code",
   "execution_count": 1,
   "outputs": [
    {
     "name": "stdout",
     "output_type": "stream",
     "text": [
      "Setting the default backend to \"tensorflow\". You can change it in the ~/.dgl/config.json file or export the DGLBACKEND environment variable.  Valid options are: pytorch, mxnet, tensorflow (all lowercase)\n"
     ]
    },
    {
     "name": "stderr",
     "output_type": "stream",
     "text": [
      "Using backend: tensorflow\n"
     ]
    }
   ],
   "source": [
    "import numpy as np\n",
    "from multi_step import multi_step, utils\n",
    "import gpflow\n",
    "import tensorflow as tf\n",
    "import matplotlib.pyplot as plt\n",
    "gpflow.config.set_default_float(\"float32\")"
   ],
   "metadata": {
    "collapsed": false,
    "pycharm": {
     "name": "#%%\n"
    }
   }
  },
  {
   "cell_type": "code",
   "execution_count": 2,
   "outputs": [],
   "source": [
    "# class multi_step_minimal()"
   ],
   "metadata": {
    "collapsed": false,
    "pycharm": {
     "name": "#%%\n"
    }
   }
  },
  {
   "cell_type": "code",
   "execution_count": 3,
   "outputs": [],
   "source": [
    "#Schaffer Function 1\n",
    "class SchafferFunc1():\n",
    "    def __init__(self):\n",
    "        self.name = 'SchafferFunc1'\n",
    "\n",
    "    def evaluateModel(self, input):\n",
    "        # print('input: ',input)\n",
    "        return tf.squeeze(input)\n",
    "\n",
    "SFunc = SchafferFunc1()"
   ],
   "metadata": {
    "collapsed": false,
    "pycharm": {
     "name": "#%%\n"
    }
   }
  },
  {
   "cell_type": "code",
   "execution_count": 4,
   "metadata": {
    "collapsed": true
   },
   "outputs": [],
   "source": [
    "# Define the stage input ranges\n",
    "stage1Ranges = [[-10,10]]"
   ]
  },
  {
   "cell_type": "code",
   "execution_count": 5,
   "outputs": [],
   "source": [
    "# Generate the multi_step class\n",
    "multi_step_graph = multi_step.multi_step_graph('adagrad', learning_rate=0.05, training='sobol', eps=1e-4)"
   ],
   "metadata": {
    "collapsed": false,
    "pycharm": {
     "name": "#%%\n"
    }
   }
  },
  {
   "cell_type": "code",
   "execution_count": 6,
   "outputs": [
    {
     "name": "stderr",
     "output_type": "stream",
     "text": [
      "c:\\users\\geeso\\virtualenvironments\\multi-step-framework\\lib\\site-packages\\dgl\\base.py:45: DGLWarning: Recommend creating graphs by `dgl.graph(data)` instead of `dgl.DGLGraph(data)`.\n",
      "  return warnings.warn(message, category=category, stacklevel=1)\n"
     ]
    }
   ],
   "source": [
    "# Load the models into the framework\n",
    "\n",
    "#Define the stages\n",
    "# stageID, stageModel, conditionRanges, followingStages (followingStageID, feedingVariables)\n",
    "stage1 = utils.stage(0, SFunc, stage1Ranges, outputDimension=1)\n",
    "\n",
    "stages = [stage1]\n",
    "\n",
    "multi_step_graph.loadModels(stages)"
   ],
   "metadata": {
    "collapsed": false,
    "pycharm": {
     "name": "#%%\n"
    }
   }
  },
  {
   "cell_type": "code",
   "execution_count": 7,
   "outputs": [],
   "source": [
    "# Define the objective functions\n",
    "\n",
    "def objectiveFunction1(var1):\n",
    "    return -var1**2\n",
    "\n",
    "def objectiveFunction2(var1):\n",
    "    return -(var1-2)**2\n",
    "\n",
    "# Define the objective objects including the objective functions and the IDs of relevant variables/outputs\n",
    "# Define objective variables with form: [stage, 'input'/'output', stage variable]\n",
    "objective1 = utils.objective(objectiveFunction2, [[stage1,'outputs',0]])\n",
    "objective2 = utils.objective(objectiveFunction1, [[stage1,'outputs',0]])\n",
    "\n",
    "objectives = [objective1, objective2]"
   ],
   "metadata": {
    "collapsed": false,
    "pycharm": {
     "name": "#%%\n"
    }
   }
  },
  {
   "cell_type": "code",
   "execution_count": 8,
   "outputs": [],
   "source": [
    "# Define the objectives for the framework\n",
    "multi_step_graph.defineObjectives(objectives)"
   ],
   "metadata": {
    "collapsed": false,
    "pycharm": {
     "name": "#%%\n"
    }
   }
  },
  {
   "cell_type": "code",
   "execution_count": 9,
   "outputs": [
    {
     "name": "stdout",
     "output_type": "stream",
     "text": [
      "Starting training\n",
      "Inputs:  [{0: array([7.5])}, {0: array([-2.5])}, {0: array([-5.])}, {0: array([5.])}, {0: array([0.])}]\n",
      "dict: gat_conv, [<tf.Variable 'Variable:0' shape=(1, 1, 4) dtype=float32, numpy=\n",
      "array([[[ 1.3872156 , -0.5082911 ,  0.669307  ,  0.13189562]]],\n",
      "      dtype=float32)>, <tf.Variable 'Variable:0' shape=(1, 1, 4) dtype=float32, numpy=\n",
      "array([[[-0.25252393, -1.1763684 , -0.6777084 ,  0.597734  ]]],\n",
      "      dtype=float32)>, <tf.Variable 'gat_conv/dense_4/kernel:0' shape=(4, 4) dtype=float32, numpy=\n",
      "array([[ 1.016957  , -0.9549548 ,  0.6586365 , -1.33839   ],\n",
      "       [ 0.33956528,  0.2931005 ,  0.041669  ,  0.38530996],\n",
      "       [ 0.13121538,  0.11465744,  1.033926  ,  0.5135701 ],\n",
      "       [ 0.2576551 , -0.40558952,  0.6287094 , -0.63657635]],\n",
      "      dtype=float32)>] \n",
      "dict: gat_conv_1, [<tf.Variable 'Variable:0' shape=(1, 1, 4) dtype=float32, numpy=\n",
      "array([[[-0.8363781 ,  0.00233788,  0.14588039, -1.3769271 ]]],\n",
      "      dtype=float32)>, <tf.Variable 'Variable:0' shape=(1, 1, 4) dtype=float32, numpy=\n",
      "array([[[-0.6380479 ,  0.03815939, -1.0830518 ,  1.6992859 ]]],\n",
      "      dtype=float32)>, <tf.Variable 'gat_conv_1/dense_5/kernel:0' shape=(4, 4) dtype=float32, numpy=\n",
      "array([[ 0.8577453 , -0.425326  ,  0.37614152,  0.4577918 ],\n",
      "       [ 1.025895  , -0.09840142,  0.3386453 ,  1.327562  ],\n",
      "       [-0.15546453, -1.11207   , -0.8369639 ,  0.5749385 ],\n",
      "       [ 0.6286621 ,  0.8876469 ,  0.20476848, -0.10604515]],\n",
      "      dtype=float32)>] \n",
      "dict: gat_conv_2, [<tf.Variable 'Variable:0' shape=(1, 1, 4) dtype=float32, numpy=\n",
      "array([[[ 0.09916104, -1.03715   , -0.0505546 ,  0.8557755 ]]],\n",
      "      dtype=float32)>, <tf.Variable 'Variable:0' shape=(1, 1, 4) dtype=float32, numpy=\n",
      "array([[[-0.58044744,  0.0847668 , -0.00274037, -0.6126358 ]]],\n",
      "      dtype=float32)>, <tf.Variable 'gat_conv_2/dense_6/kernel:0' shape=(4, 4) dtype=float32, numpy=\n",
      "array([[ 0.03954004, -0.3073203 ,  0.36721697,  1.0155511 ],\n",
      "       [-0.81142163, -0.34159192, -0.10430574,  0.16767909],\n",
      "       [-0.77465206, -0.01908802,  0.82979006, -0.48878586],\n",
      "       [ 0.28295514, -1.3724196 ,  0.41241837, -0.05104227]],\n",
      "      dtype=float32)>] \n",
      "WARNING:tensorflow:Calling GradientTape.gradient on a persistent tape inside its context is significantly less efficient than calling it outside the context (it causes the gradient ops to be recorded on the tape, leading to increased CPU and memory usage). Only call GradientTape.gradient inside the context if you actually want to trace the gradient in order to compute higher order derivatives.\n",
      "Weightings: [0.1 0.9], Epoch: 0, Loss: 22.26582145690918, Objective values: [-11.132911 -28.479319]\n",
      "Weightings: [0.1 0.9], Epoch: 5, Loss: 1.0154159326702938e-06, Objective values: [-4.0028510e+00 -5.0770797e-07]\n",
      "Weightings: [0.1 0.9], Epoch: 10, Loss: 4.406475184737246e-11, Objective values: [-4.0000191e+00 -2.2032376e-11]\n",
      "Weightings: [0.1 0.9], Epoch: 15, Loss: -2.980232238769531e-07, Objective values: [-4.000000e+00 -5.551115e-15]\n",
      "Weightings: [0.1 0.9], Epoch: 0, Loss: 0.0015155236469581723, Objective values: [-4.110868e+00 -7.577618e-04]\n",
      "Weightings: [0.1 0.9], Epoch: 5, Loss: 0.00013749886420555413, Objective values: [-4.0332346e+00 -6.8749432e-05]\n",
      "Weightings: [0.1 0.9], Epoch: 10, Loss: 1.2354816135484725e-05, Objective values: [-4.0099483e+00 -6.1774081e-06]\n",
      "Weightings: [0.1 0.9], Epoch: 15, Loss: 1.106673153117299e-06, Objective values: [-4.002976e+00 -5.533366e-07]\n",
      "Weightings: [0.1 0.9], Epoch: 0, Loss: 0.7920053005218506, Objective values: [-3.8767867e+00 -9.6374605e-04]\n"
     ]
    },
    {
     "name": "stderr",
     "output_type": "stream",
     "text": [
      "c:\\users\\geeso\\virtualenvironments\\multi-step-framework\\lib\\site-packages\\cvxpy\\reductions\\solvers\\solving_chain.py:167: UserWarning: You are solving a parameterized problem that is not DPP. Because the problem is not DPP, subsequent solves will not be faster than the first one. For more information, see the documentation on Discplined Parametrized Programming, at\n",
      "\thttps://www.cvxpy.org/tutorial/advanced/index.html#disciplined-parametrized-programming\n",
      "  warnings.warn(dpp_error_msg)\n"
     ]
    },
    {
     "name": "stdout",
     "output_type": "stream",
     "text": [
      "Weightings: [0.1 0.9], Epoch: 5, Loss: 1.5050773620605469, Objective values: [-2.242371  -0.2525516]\n",
      "Weightings: [0.1 0.9], Epoch: 10, Loss: 1.5050773620605469, Objective values: [-2.242371  -0.2525516]\n",
      "Weightings: [0.1 0.9], Epoch: 15, Loss: 1.5050773620605469, Objective values: [-2.242371  -0.2525516]\n",
      "Weightings: [0.1 0.9], Epoch: 0, Loss: 1.9378328323364258, Objective values: [-2.954154   -0.07909296]\n",
      "Weightings: [0.1 0.9], Epoch: 5, Loss: 1.5120224952697754, Objective values: [-2.2786734  -0.24056324]\n",
      "Weightings: [0.1 0.9], Epoch: 10, Loss: 1.4902853965759277, Objective values: [-2.2645252  -0.24518943]\n",
      "Weightings: [0.1 0.9], Epoch: 15, Loss: 1.4902853965759277, Objective values: [-2.2645252  -0.24518943]\n",
      "Weightings: [0.1 0.9], Epoch: 0, Loss: 1.8980764150619507, Objective values: [-2.8804505 -0.0916945]\n",
      "Weightings: [0.1 0.9], Epoch: 5, Loss: 1.5526046752929688, Objective values: [-2.361479   -0.21463713]\n",
      "Weightings: [0.1 0.9], Epoch: 10, Loss: 1.5086827278137207, Objective values: [-2.270965   -0.24307641]\n",
      "Weightings: [0.1 0.9], Epoch: 15, Loss: 1.489916205406189, Objective values: [-2.2650757 -0.2450084]\n",
      "Weightings: [0.3 0.7], Epoch: 0, Loss: 2.222785472869873, Objective values: [-0.7621384 -1.2701168]\n",
      "Weightings: [0.3 0.7], Epoch: 5, Loss: 1.9140417575836182, Objective values: [-1.4576077 -0.6283508]\n",
      "Weightings: [0.3 0.7], Epoch: 10, Loss: 1.9140417575836182, Objective values: [-1.4576077 -0.6283508]\n",
      "Weightings: [0.3 0.7], Epoch: 15, Loss: 1.914041519165039, Objective values: [-1.4576077 -0.6283507]\n",
      "Weightings: [0.3 0.7], Epoch: 0, Loss: 2.412677049636841, Objective values: [-2.1444435 -0.2868761]\n",
      "Weightings: [0.3 0.7], Epoch: 5, Loss: 1.9356334209442139, Objective values: [-1.5217923 -0.5873546]\n",
      "Weightings: [0.3 0.7], Epoch: 10, Loss: 1.9080191850662231, Objective values: [-1.4748977 -0.617083 ]\n",
      "Weightings: [0.3 0.7], Epoch: 15, Loss: 1.9080191850662231, Objective values: [-1.4748977 -0.617083 ]\n",
      "Weightings: [0.3 0.7], Epoch: 0, Loss: 2.107357978820801, Objective values: [-0.8723779 -1.1363311]\n",
      "Weightings: [0.3 0.7], Epoch: 5, Loss: 1.9163895845413208, Objective values: [-1.4507312 -0.632879 ]\n",
      "Weightings: [0.3 0.7], Epoch: 10, Loss: 1.9163895845413208, Objective values: [-1.4507312 -0.632879 ]\n",
      "Weightings: [0.3 0.7], Epoch: 15, Loss: 1.9163895845413208, Objective values: [-1.4507312 -0.632879 ]\n",
      "Weightings: [0.3 0.7], Epoch: 0, Loss: 2.1074981689453125, Objective values: [-1.7929921  -0.43688586]\n",
      "Weightings: [0.3 0.7], Epoch: 5, Loss: 1.922020435333252, Objective values: [-1.4876957  -0.60885036]\n",
      "Weightings: [0.3 0.7], Epoch: 10, Loss: 1.9072328805923462, Objective values: [-1.47712    -0.61564684]\n",
      "Weightings: [0.3 0.7], Epoch: 15, Loss: 1.9072328805923462, Objective values: [-1.47712    -0.61564684]\n",
      "Weightings: [0.3 0.7], Epoch: 0, Loss: 2.0622456073760986, Objective values: [-1.7340373  -0.46672332]\n",
      "Weightings: [0.3 0.7], Epoch: 5, Loss: 1.9263520240783691, Objective values: [-1.4991426  -0.60156333]\n",
      "Weightings: [0.3 0.7], Epoch: 10, Loss: 1.9087040424346924, Objective values: [-1.4729558  -0.61834013]\n",
      "Weightings: [0.3 0.7], Epoch: 15, Loss: 1.9087040424346924, Objective values: [-1.4729558  -0.61834013]\n",
      "Weightings: [0.5 0.5], Epoch: 0, Loss: 1.999964952468872, Objective values: [-0.99164283 -1.0083922 ]\n",
      "Weightings: [0.5 0.5], Epoch: 5, Loss: 1.999964952468872, Objective values: [-0.99164283 -1.0083922 ]\n",
      "Weightings: [0.5 0.5], Epoch: 10, Loss: 1.999964952468872, Objective values: [-0.99164283 -1.0083922 ]\n",
      "Weightings: [0.5 0.5], Epoch: 15, Loss: 1.999964952468872, Objective values: [-0.9916426 -1.0083925]\n",
      "Weightings: [0.5 0.5], Epoch: 0, Loss: 2.153830051422119, Objective values: [-1.3573877 -0.6971085]\n",
      "Weightings: [0.5 0.5], Epoch: 5, Loss: 2.0006184577941895, Objective values: [-1.0204104 -0.9797958]\n",
      "Weightings: [0.5 0.5], Epoch: 10, Loss: 1.999936580657959, Objective values: [-1.0113064 -0.9887572]\n",
      "Weightings: [0.5 0.5], Epoch: 15, Loss: 1.999936580657959, Objective values: [-1.0113064 -0.9887572]\n",
      "Weightings: [0.5 0.5], Epoch: 0, Loss: 2.2409088611602783, Objective values: [-0.6231523 -1.4655524]\n",
      "Weightings: [0.5 0.5], Epoch: 5, Loss: 1.9999229907989502, Objective values: [-1.0124645  -0.98761284]\n",
      "Weightings: [0.5 0.5], Epoch: 10, Loss: 1.999922752380371, Objective values: [-1.0124645 -0.9876127]\n",
      "Weightings: [0.5 0.5], Epoch: 15, Loss: 1.999922752380371, Objective values: [-1.0124645 -0.9876127]\n",
      "Weightings: [0.5 0.5], Epoch: 0, Loss: 2.052220582962036, Objective values: [-1.1973141  -0.82044005]\n",
      "Weightings: [0.5 0.5], Epoch: 5, Loss: 1.9999115467071533, Objective values: [-1.0133404  -0.98674804]\n",
      "Weightings: [0.5 0.5], Epoch: 10, Loss: 1.9999115467071533, Objective values: [-1.0133404  -0.98674804]\n",
      "Weightings: [0.5 0.5], Epoch: 15, Loss: 1.9999115467071533, Objective values: [-1.0133404  -0.98674804]\n",
      "Weightings: [0.5 0.5], Epoch: 0, Loss: 2.037956953048706, Objective values: [-1.1666311  -0.84620327]\n",
      "Weightings: [0.5 0.5], Epoch: 5, Loss: 2.0007333755493164, Objective values: [-1.0222366 -0.978008 ]\n",
      "Weightings: [0.5 0.5], Epoch: 10, Loss: 1.9999501705169678, Objective values: [-1.0100037  -0.99004614]\n",
      "Weightings: [0.5 0.5], Epoch: 15, Loss: 1.9999501705169678, Objective values: [-1.0100037  -0.99004614]\n",
      "Weightings: [0.7 0.3], Epoch: 0, Loss: 1.898991346359253, Objective values: [-0.80545944 -1.2155638 ]\n",
      "Weightings: [0.7 0.3], Epoch: 5, Loss: 1.9419282674789429, Objective values: [-0.5785774 -1.5360063]\n",
      "Weightings: [0.7 0.3], Epoch: 10, Loss: 1.9184327125549316, Objective values: [-0.6368841 -1.4446834]\n",
      "Weightings: [0.7 0.3], Epoch: 15, Loss: 1.9184327125549316, Objective values: [-0.6368841 -1.4446834]\n",
      "Weightings: [0.7 0.3], Epoch: 0, Loss: 1.926574945449829, Objective values: [-0.8785744 -1.1292825]\n",
      "Weightings: [0.7 0.3], Epoch: 5, Loss: 1.9054757356643677, Objective values: [-0.6429469 -1.4355881]\n",
      "Weightings: [0.7 0.3], Epoch: 10, Loss: 1.9178273677825928, Objective values: [-0.63569105 -1.4464816 ]\n",
      "Weightings: [0.7 0.3], Epoch: 15, Loss: 1.9178273677825928, Objective values: [-0.63569105 -1.4464816 ]\n",
      "Weightings: [0.7 0.3], Epoch: 0, Loss: 2.227713108062744, Objective values: [-0.37062865 -1.9354575 ]\n",
      "Weightings: [0.7 0.3], Epoch: 5, Loss: 1.9159507751464844, Objective values: [-0.63202626 -1.4520231 ]\n",
      "Weightings: [0.7 0.3], Epoch: 10, Loss: 1.9159507751464844, Objective values: [-0.63202626 -1.4520231 ]\n",
      "Weightings: [0.7 0.3], Epoch: 15, Loss: 1.9159507751464844, Objective values: [-0.63202626 -1.4520231 ]\n",
      "Weightings: [0.7 0.3], Epoch: 0, Loss: 1.889378547668457, Objective values: [-0.7508529 -1.2847822]\n",
      "Weightings: [0.7 0.3], Epoch: 5, Loss: 1.9162075519561768, Objective values: [-0.63252485 -1.4512676 ]\n",
      "Weightings: [0.7 0.3], Epoch: 10, Loss: 1.9162075519561768, Objective values: [-0.63252485 -1.4512676 ]\n",
      "Weightings: [0.7 0.3], Epoch: 15, Loss: 1.9162075519561768, Objective values: [-0.63252485 -1.4512676 ]\n",
      "Weightings: [0.7 0.3], Epoch: 0, Loss: 1.888918161392212, Objective values: [-0.7436436 -1.2942528]\n",
      "Weightings: [0.7 0.3], Epoch: 5, Loss: 1.905003309249878, Objective values: [-0.64414364 -1.4338013 ]\n",
      "Weightings: [0.7 0.3], Epoch: 10, Loss: 1.9173017740249634, Objective values: [-0.63465965 -1.4480385 ]\n",
      "Weightings: [0.7 0.3], Epoch: 15, Loss: 1.9173017740249634, Objective values: [-0.63465965 -1.4480385 ]\n",
      "Weightings: [0.9 0.1], Epoch: 0, Loss: 1.4622868299484253, Objective values: [-0.2921314 -2.1301641]\n",
      "Weightings: [0.9 0.1], Epoch: 5, Loss: 1.5851480960845947, Objective values: [-0.19785735 -2.418611  ]\n",
      "Weightings: [0.9 0.1], Epoch: 10, Loss: 1.4684683084487915, Objective values: [-0.2829032 -2.1553574]\n",
      "Weightings: [0.9 0.1], Epoch: 15, Loss: 1.5181689262390137, Objective values: [-0.2361255 -2.2924156]\n",
      "Weightings: [0.9 0.1], Epoch: 0, Loss: 1.5221154689788818, Objective values: [-0.503659  -1.6649015]\n",
      "Weightings: [0.9 0.1], Epoch: 5, Loss: 1.4739129543304443, Objective values: [-0.27588776 -2.174887  ]\n",
      "Weightings: [0.9 0.1], Epoch: 10, Loss: 1.5099549293518066, Objective values: [-0.25502753 -2.2350175 ]\n",
      "Weightings: [0.9 0.1], Epoch: 15, Loss: 1.5099549293518066, Objective values: [-0.25502753 -2.2350175 ]\n",
      "Weightings: [0.9 0.1], Epoch: 0, Loss: 1.961997628211975, Objective values: [-0.03294522 -3.3069124 ]\n",
      "Weightings: [0.9 0.1], Epoch: 5, Loss: 1.501943588256836, Objective values: [-0.2509737 -2.2470827]\n",
      "Weightings: [0.9 0.1], Epoch: 10, Loss: 1.501943588256836, Objective values: [-0.2509737 -2.2470827]\n",
      "Weightings: [0.9 0.1], Epoch: 15, Loss: 1.501943588256836, Objective values: [-0.2509737 -2.2470827]\n",
      "Weightings: [0.9 0.1], Epoch: 0, Loss: 1.4461555480957031, Objective values: [-0.35993022 -1.9601629 ]\n",
      "Weightings: [0.9 0.1], Epoch: 5, Loss: 1.4881689548492432, Objective values: [-0.26056725 -2.2187357 ]\n",
      "Weightings: [0.9 0.1], Epoch: 10, Loss: 1.5077569484710693, Objective values: [-0.25390878 -2.2383344 ]\n",
      "Weightings: [0.9 0.1], Epoch: 15, Loss: 1.5077569484710693, Objective values: [-0.25390878 -2.2383344 ]\n",
      "Weightings: [0.9 0.1], Epoch: 0, Loss: 1.445838451385498, Objective values: [-0.35530633 -1.9710033 ]\n",
      "Weightings: [0.9 0.1], Epoch: 5, Loss: 1.4752492904663086, Objective values: [-0.27428615 -2.1793928 ]\n",
      "Weightings: [0.9 0.1], Epoch: 10, Loss: 1.4936156272888184, Objective values: [-0.25551465 -2.2335763 ]\n",
      "Weightings: [0.9 0.1], Epoch: 15, Loss: 1.5081325769424438, Objective values: [-0.25409958 -2.237768  ]\n"
     ]
    }
   ],
   "source": [
    "# Train\n",
    "# numObjectiveSamples, numStartSamples, preferenceCodeDim, hyperparameterGeneratorDim, epochs=5, h_dim=5, n_layers=4, network_type='GATConv', **kwargs\n",
    "# inputs = multi_step_graph.train(10, 20, 350, epochs=20, h_dim=20, n_layers=4, network_type='GATConv', num_heads=4)\n",
    "inputs, losses = multi_step_graph.train(5, 5, 5, 15, epochs=20, h_dim=3, n_layers=3, network_type='GATConv', num_heads=1)#, activation=tf.keras.activations.tanh)"
   ],
   "metadata": {
    "collapsed": false,
    "pycharm": {
     "name": "#%%\n"
    }
   }
  },
  {
   "cell_type": "code",
   "execution_count": 10,
   "outputs": [
    {
     "name": "stdout",
     "output_type": "stream",
     "text": [
      "tf.Tensor([-3.4776282], shape=(1,), dtype=float32)\n",
      "[<tf.Tensor: shape=(1,), dtype=float32, numpy=array([1.6357889], dtype=float32)>]\n",
      "[-0.13264972 -2.6758053 ]\n"
     ]
    }
   ],
   "source": [
    "# Get optimised inputs based on desired objective weightings\n",
    "generatedInputs, objectiveValues = multi_step_graph.getConditions([0.5,0.5])\n",
    "print(generatedInputs)\n",
    "print(objectiveValues)"
   ],
   "metadata": {
    "collapsed": false,
    "pycharm": {
     "name": "#%%\n"
    }
   }
  },
  {
   "cell_type": "code",
   "execution_count": 11,
   "outputs": [
    {
     "name": "stdout",
     "output_type": "stream",
     "text": [
      "tf.Tensor([7.239912], shape=(1,), dtype=float32)\n",
      "tf.Tensor([2.6459932], shape=(1,), dtype=float32)\n",
      "tf.Tensor([-6.2596297], shape=(1,), dtype=float32)\n",
      "tf.Tensor([9.064741], shape=(1,), dtype=float32)\n",
      "tf.Tensor([-3.3746648], shape=(1,), dtype=float32)\n",
      "tf.Tensor([-7.9537582], shape=(1,), dtype=float32)\n",
      "tf.Tensor([4.8239975], shape=(1,), dtype=float32)\n",
      "tf.Tensor([4.3769407], shape=(1,), dtype=float32)\n",
      "tf.Tensor([0.37567616], shape=(1,), dtype=float32)\n",
      "tf.Tensor([-0.01195908], shape=(1,), dtype=float32)\n",
      "tf.Tensor([-6.466565], shape=(1,), dtype=float32)\n",
      "tf.Tensor([-1.9527225], shape=(1,), dtype=float32)\n",
      "tf.Tensor([2.4748917], shape=(1,), dtype=float32)\n",
      "[1.9576793 1.5152335 2.084038  2.2275453 1.6446424 2.3591204 1.5935209\n",
      " 1.5637817 1.4918208 1.4943895 1.8622375 1.537016  1.5014293]\n",
      "[[-1.7910440e-03 -3.8325081e+00]\n",
      " [-2.3499854e-01 -2.2959325e+00]\n",
      " [-7.0623886e-03 -4.3432145e+00]\n",
      " [-5.1776845e-02 -4.9619579e+00]\n",
      " [-1.2627906e-01 -2.7048485e+00]\n",
      " [-1.2896743e-01 -5.5654488e+00]\n",
      " [-1.6522528e-01 -2.5393088e+00]\n",
      " [-1.9028637e-01 -2.4454134e+00]\n",
      " [-2.5824609e-01 -2.2255294e+00]\n",
      " [-2.5564194e-01 -2.2332001e+00]\n",
      " [-1.8978519e-02 -3.4679284e+00]\n",
      " [-2.1435416e-01 -2.3624182e+00]\n",
      " [-2.4857272e-01 -2.2542901e+00]]\n"
     ]
    }
   ],
   "source": [
    "# Create plot of objectives with different weightings\n",
    "weightings = np.arange(0.2,0.8,0.05)\n",
    "inputsList = []\n",
    "objectiveValuesList = []\n",
    "for weighting in weightings:\n",
    "    generatedInputs, objectiveValues = multi_step_graph.getConditions([weighting,1-weighting])\n",
    "    inputsList.append(generatedInputs)\n",
    "    objectiveValuesList.append(objectiveValues)\n",
    "inputsArray = np.squeeze(np.array(inputsList))\n",
    "objectiveValuesArray = np.squeeze(np.array(objectiveValuesList))\n",
    "\n",
    "print(inputsArray)\n",
    "print(objectiveValuesArray)"
   ],
   "metadata": {
    "collapsed": false,
    "pycharm": {
     "name": "#%%\n"
    }
   }
  },
  {
   "cell_type": "code",
   "execution_count": 12,
   "outputs": [
    {
     "data": {
      "text/plain": "<Figure size 864x432 with 1 Axes>",
      "image/png": "[encoded data removed]"
     },
     "metadata": {
      "needs_background": "light"
     },
     "output_type": "display_data"
    }
   ],
   "source": [
    "pareto = plt.figure(figsize=(12, 6))\n",
    "ax = pareto.add_axes([0.1, 0.1, 0.8, 0.8])\n",
    "ax.scatter(objectiveValuesArray[:,0]*(-1),objectiveValuesArray[:,1]*(-1), c=weightings, cmap='gray')\n",
    "# ax.set_xscale('log')\n",
    "ax.set_xlabel('Objective 1')\n",
    "ax.set_ylabel('Objective 2')\n",
    "pareto.savefig('././figures/pareto_Pareto_test.pdf')"
   ],
   "metadata": {
    "collapsed": false,
    "pycharm": {
     "name": "#%%\n"
    }
   }
  },
  {
   "cell_type": "code",
   "execution_count": 13,
   "outputs": [
    {
     "data": {
      "text/plain": "<Figure size 864x432 with 1 Axes>",
      "image/png": "[encoded data removed]"
     },
     "metadata": {
      "needs_background": "light"
     },
     "output_type": "display_data"
    }
   ],
   "source": [
    "loss_fig = plt.figure(figsize=(12, 6))\n",
    "ax = loss_fig.add_axes([0.1, 0.1, 0.8, 0.8])\n",
    "ax.scatter(range(len(losses)),losses)\n",
    "ax.set_yscale('log')\n",
    "ax.set_xlabel('Training Step')\n",
    "ax.set_ylabel('Loss')\n",
    "loss_fig.savefig('././figures/losses.pdf')"
   ],
   "metadata": {
    "collapsed": false,
    "pycharm": {
     "name": "#%%\n"
    }
   }
  },
  {
   "cell_type": "code",
   "execution_count": 14,
   "outputs": [
    {
     "data": {
      "text/plain": "<Figure size 864x432 with 1 Axes>",
      "image/png": "[encoded data removed]"
     },
     "metadata": {
      "needs_background": "light"
     },
     "output_type": "display_data"
    }
   ],
   "source": [
    "weights = multi_step_graph.multiHyperNet.trainable_weights\n",
    "weightsArray = np.concatenate([weight.numpy().flatten() for weight in weights],axis=0)\n",
    "weight_fig = plt.figure(figsize=(12, 6))\n",
    "ax = weight_fig.add_axes([0.1, 0.1, 0.8, 0.8])\n",
    "ax.hist(weightsArray, bins=200)\n",
    "# ax.scatter(range(len(losses)),losses)\n",
    "# ax.set_yscale('log')\n",
    "ax.set_xlabel('Weight Value')\n",
    "ax.set_ylabel('Count')\n",
    "weight_fig.savefig('././figures/weights.pdf')"
   ],
   "metadata": {
    "collapsed": false,
    "pycharm": {
     "name": "#%%\n"
    }
   }
  },
  {
   "cell_type": "code",
   "execution_count": 15,
   "outputs": [
    {
     "data": {
      "text/plain": "<Figure size 864x432 with 1 Axes>",
      "image/png": "[encoded data removed]"
     },
     "metadata": {
      "needs_background": "light"
     },
     "output_type": "display_data"
    }
   ],
   "source": [
    "weights = [multi_step_graph.multiNet.layers[0].attn_l,multi_step_graph.multiNet.layers[0].attn_r,multi_step_graph.multiNet.layers[0].fc.kernel]\n",
    "weightsArray = np.concatenate([weight.numpy().flatten() for weight in weights],axis=0)\n",
    "weightNet_fig = plt.figure(figsize=(12, 6))\n",
    "ax = weightNet_fig.add_axes([0.1, 0.1, 0.8, 0.8])\n",
    "ax.hist(weightsArray, bins=50)\n",
    "# ax.scatter(range(len(losses)),losses)\n",
    "# ax.set_yscale('log')\n",
    "ax.set_xlabel('Weight Value')\n",
    "ax.set_ylabel('Count')\n",
    "weightNet_fig.savefig('././figures/main_net_weights.pdf')"
   ],
   "metadata": {
    "collapsed": false,
    "pycharm": {
     "name": "#%%\n"
    }
   }
  },
  {
   "cell_type": "code",
   "execution_count": 15,
   "outputs": [],
   "source": [],
   "metadata": {
    "collapsed": false,
    "pycharm": {
     "name": "#%%\n"
    }
   }
  }
 ],
 "metadata": {
  "kernelspec": {
   "display_name": "Python 3",
   "language": "python",
   "name": "python3"
  },
  "language_info": {
   "codemirror_mode": {
    "name": "ipython",
    "version": 2
   },
   "file_extension": ".py",
   "mimetype": "text/x-python",
   "name": "python",
   "nbconvert_exporter": "python",
   "pygments_lexer": "ipython2",
   "version": "2.7.6"
  }
 },
 "nbformat": 4,
 "nbformat_minor": 0
}