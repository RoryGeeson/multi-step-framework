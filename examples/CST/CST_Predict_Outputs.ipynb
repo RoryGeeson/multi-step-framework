{
 "cells": [
  {
   "cell_type": "code",
   "execution_count": 73,
   "metadata": {
    "collapsed": true
   },
   "outputs": [],
   "source": [
    "import pandas as pd\n",
    "import numpy as np\n",
    "import sobol_seq as sob\n",
    "from multi_step import multi_step_single_objective, utils\n",
    "import gpflow\n",
    "import tensorflow as tf\n",
    "import matplotlib.pyplot as plt\n",
    "gpflow.config.set_default_float(\"float32\")"
   ]
  },
  {
   "cell_type": "code",
   "execution_count": 74,
   "outputs": [],
   "source": [
    "plotGP = False\n",
    "useSavedModels = False"
   ],
   "metadata": {
    "collapsed": false,
    "pycharm": {
     "name": "#%%\n"
    }
   }
  },
  {
   "cell_type": "code",
   "execution_count": 75,
   "outputs": [],
   "source": [
    "def GPPlotter(stage, data, xdim, stageVar, stageOutputVar):\n",
    "    ## generate indices for sampling\n",
    "    xx = data.to_numpy(dtype=np.float32)[:,:xdim]\n",
    "    sortedInd = np.argsort(xx[:,stageVar])\n",
    "    ind = np.unique(np.random.randint(xx.shape[0], size=15))\n",
    "\n",
    "    ## obtain the test points for prediction\n",
    "    xx = xx[sortedInd[ind]]\n",
    "    yy = data.to_numpy(dtype=np.float32)[sortedInd[ind],xdim:]\n",
    "\n",
    "    ## predict mean and variance of latent GP at test points\n",
    "    try:\n",
    "        mean, var = stage.model.predict_f(Xnew=xx)\n",
    "    except:\n",
    "        xx = tf.convert_to_tensor(xx)\n",
    "        mean, var = stage.model.predict_f_compiled(Xnew=xx)\n",
    "\n",
    "    ## generate 10 samples from posterior\n",
    "    tf.random.set_seed(1)  # for reproducibility\n",
    "    try:\n",
    "        samples = stage.model.predict_f_samples(Xnew=xx, num_samples=10)\n",
    "    except:\n",
    "        samples = stage.model.predict_f_samples_compiled(Xnew=xx, num_samples=10)\n",
    "    # samples = samples\n",
    "\n",
    "    ## plot\n",
    "    plt.figure(figsize=(12, 6))\n",
    "    plt.plot(xx[:,stageVar], yy[:,stageOutputVar], \"kx\", mew=2)\n",
    "    plt.plot(xx[:,stageVar], mean[:,stageOutputVar], \"C0\", lw=2)\n",
    "    plt.fill_between(\n",
    "        xx[:, stageVar],\n",
    "        mean[:, stageOutputVar] - 1.96 * np.sqrt(var[:, stageOutputVar]),\n",
    "        mean[:, stageOutputVar] + 1.96 * np.sqrt(var[:, stageOutputVar]),\n",
    "        color=\"C0\",\n",
    "        alpha=0.2,\n",
    "    )\n",
    "\n",
    "    plt.plot(xx[:,stageVar], samples[:, :, stageOutputVar].numpy().T, \"C0\", linewidth=0.5)"
   ],
   "metadata": {
    "collapsed": false,
    "pycharm": {
     "name": "#%%\n"
    }
   }
  },
  {
   "cell_type": "code",
   "execution_count": 76,
   "outputs": [],
   "source": [
    "# Define the stage input ranges\n",
    "\n",
    "#'T','R','Ch2so4','a-pinene','3-carene','b-pinene','time'\n",
    "stage1Ranges = [[70,110],[0.15,0.35],[4,7],[0.4,0.8],[0,0.35],[0.05,0.4],[0.1,270]]\n",
    "#'a-terpinene','g-terpinene','terpinolene','T','Q_liq','Q_gas','radical_initiator','time'\n",
    "stage2Ranges = [[0,2],[0,2],[0,2],[80,150],[0.1,5],[5,120],[0,2],[0,240]]\n",
    "# 'out_11','out_12','out_13','out_14','out_2','ox','T'\n",
    "stage3Ranges = [[0,1],[0,3],[0,2],[0,2],[0,1],[0,21],[100,150]]"
   ],
   "metadata": {
    "collapsed": false,
    "pycharm": {
     "name": "#%%\n"
    }
   }
  },
  {
   "cell_type": "code",
   "execution_count": 77,
   "outputs": [],
   "source": [
    "def Stage_3(inputs):\n",
    "    out_3 = 71.05*(1-np.exp(-0.1657 * inputs[:,5]))*(1-np.exp(-0.2*(inputs[:,6]-100)))\n",
    "    out_4 = 1.04 * out_3/100 * ( (inputs[:,3] + inputs[:,4]/100 * (inputs[:,0]+inputs[:,1]+inputs[:,2])) )\n",
    "    return out_4\n",
    "\n",
    "def sobolSequenceConditions(condition_ranges, num_points):\n",
    "    \"\"\"\"\"\"\n",
    "    dimensions = len(condition_ranges)\n",
    "    sobol_sequence = sob.i4_sobol_generate(dimensions, num_points)\n",
    "    lower_bounds = np.array([condition[0] for condition in condition_ranges])\n",
    "    upper_bounds = np.array([condition[1] for condition in condition_ranges])\n",
    "    ranges = upper_bounds - lower_bounds\n",
    "    offset = np.tile(lower_bounds,(num_points,1))\n",
    "    conditions = sobol_sequence * ranges + offset\n",
    "    return np.array(conditions)\n",
    "\n",
    "# ('out_11','out_12','out_13','out_14','out_2','ox','T')\n",
    "stage_3_inputs = sobolSequenceConditions(stage3Ranges,20)\n",
    "stage_3_outputs = Stage_3(stage_3_inputs)"
   ],
   "metadata": {
    "collapsed": false,
    "pycharm": {
     "name": "#%%\n"
    }
   }
  },
  {
   "cell_type": "code",
   "execution_count": 78,
   "outputs": [],
   "source": [
    "data_s1 = pd.read_csv('data/Stage_1.csv')\n",
    "data_s2 = pd.read_csv('data/Stage_2.csv')\n",
    "data_s3 = pd.DataFrame(np.concatenate((stage_3_inputs,np.expand_dims(stage_3_outputs,1)),axis=1),\n",
    "          columns=['out_11','out_12','out_13','out_14','out_2','ox','T','out_3'])"
   ],
   "metadata": {
    "collapsed": false,
    "pycharm": {
     "name": "#%%\n"
    }
   }
  },
  {
   "cell_type": "code",
   "execution_count": 79,
   "outputs": [],
   "source": [
    "def fit_stage(data, inputHeaders, outputHeaders):\n",
    "    X = data[inputHeaders]\n",
    "    Y = data[outputHeaders]\n",
    "    kernel = gpflow.kernels.Matern52()\n",
    "    gp = gpflow.models.GPR(data=(X,Y), kernel=kernel)\n",
    "    # gpflow.utilities.print_summary(gp)\n",
    "    opt = gpflow.optimizers.Scipy()\n",
    "    optLogs = opt.minimize(gp.training_loss, gp.trainable_variables, options=dict(maxiter=1000))\n",
    "    return gp"
   ],
   "metadata": {
    "collapsed": false,
    "pycharm": {
     "name": "#%%\n"
    }
   }
  },
  {
   "cell_type": "code",
   "execution_count": 80,
   "outputs": [],
   "source": [
    "# Fit the stages\n",
    "if not useSavedModels:\n",
    "    data_s1 = data_s1[['T','R','Ch2so4','a-pinene','3-carene','b-pinene','time','alpha-terpinene-output',\n",
    "                       'gamma-terpinene-output','terpinolene-output','p-cymene-output']]\n",
    "    stage1Model = fit_stage(data_s1, inputHeaders=['T','R','Ch2so4','a-pinene','3-carene','b-pinene','time'],\n",
    "                            outputHeaders=['alpha-terpinene-output','gamma-terpinene-output','terpinolene-output','p-cymene-output'])\n",
    "    data_s2 = data_s2[['a-terpinene','g-terpinene','terpinolene','T','Q_liq','Q_gas','radical_initiator','time','Y2']]\n",
    "    stage2Model = fit_stage(data_s2, inputHeaders=['a-terpinene','g-terpinene','terpinolene','T','Q_liq','Q_gas','radical_initiator','time'],\n",
    "                            outputHeaders=['Y2'])\n",
    "    data_s3 = data_s3[['out_11','out_12','out_13','out_14','out_2','ox','T','out_3']]\n",
    "    stage3Model = fit_stage(data_s3, inputHeaders=['out_11','out_12','out_13','out_14','out_2','ox','T'],\n",
    "                            outputHeaders=['out_3'])"
   ],
   "metadata": {
    "collapsed": false,
    "pycharm": {
     "name": "#%%\n"
    }
   }
  },
  {
   "cell_type": "code",
   "execution_count": 81,
   "outputs": [],
   "source": [
    "# Save the models\n",
    "\n",
    "# if not useSavedModels:\n",
    "#     stage1Model.predict_f_compiled = tf.function(stage1Model.predict_f, input_signature=[tf.TensorSpec(shape=[None, 7], dtype=tf.float32)])\n",
    "#     # stage1Model.predict_f_samples_compiled = tf.function(stage1Model.predict_f_samples,\n",
    "#     #                                                      input_signature=[tf.TensorSpec(shape=[None, 1], dtype=tf.float32),\n",
    "#     #                                                                       tf.TensorSpec(shape=1, dtype=tf.float32),\n",
    "#     #                                                                       tf.TensorSpec(shape=1, dtype=tf.bool),\n",
    "#     #                                                                       tf.TensorSpec(shape=1, dtype=tf.bool)])\n",
    "#     stage1Model.predict_f_samples_compiled = tf.function(stage1Model.predict_f_samples)\n",
    "#     stage2Model.predict_f_compiled = tf.function(stage2Model.predict_f, input_signature=[tf.TensorSpec(shape=[None, 8], dtype=tf.float32)])\n",
    "#     # stage2Model.predict_f_samples_compiled = tf.function(stage2Model.predict_f_samples, input_signature=[tf.TensorSpec(shape=[None, 1], dtype=tf.float32),\n",
    "#     #                                                                       tf.TensorSpec(shape=1, dtype=tf.float32),\n",
    "#     #                                                                       tf.TensorSpec(shape=1, dtype=tf.bool),\n",
    "#     #                                                                       tf.TensorSpec(shape=1, dtype=tf.bool)])\n",
    "#     stage2Model.predict_f_samples_compiled = tf.function(stage2Model.predict_f_samples)\n",
    "#     stage3Model.predict_f_compiled = tf.function(stage3Model.predict_f, input_signature=[tf.TensorSpec(shape=[None, 7], dtype=tf.float32)])\n",
    "#     # stage3Model.predict_f_samples_compiled = tf.function(stage3Model.predict_f_samples, input_signature=[tf.TensorSpec(shape=[None, 1], dtype=tf.float32),\n",
    "#     #                                                                       tf.TensorSpec(shape=1, dtype=tf.float32),\n",
    "#     #                                                                       tf.TensorSpec(shape=1, dtype=tf.bool),\n",
    "#     #                                                                       tf.TensorSpec(shape=1, dtype=tf.bool)])\n",
    "#     stage3Model.predict_f_samples_compiled = tf.function(stage3Model.predict_f_samples)\n",
    "#\n",
    "#     save_dir = './GPModels/'\n",
    "#     tf.saved_model.save(stage1Model, save_dir+'Model1/')\n",
    "#     tf.saved_model.save(stage2Model, save_dir+'Model2/')\n",
    "#     tf.saved_model.save(stage3Model, save_dir+'Model3/')"
   ],
   "metadata": {
    "collapsed": false,
    "pycharm": {
     "name": "#%%\n"
    }
   }
  },
  {
   "cell_type": "code",
   "execution_count": 82,
   "outputs": [],
   "source": [
    "# Load saved models\n",
    "\n",
    "save_dir = './GPModels/'\n",
    "if useSavedModels:\n",
    "    stage1Model = tf.saved_model.load(save_dir+'Model1/')\n",
    "    stage2Model = tf.saved_model.load(save_dir+'Model2/')\n",
    "    stage3Model = tf.saved_model.load(save_dir+'Model3/')"
   ],
   "metadata": {
    "collapsed": false,
    "pycharm": {
     "name": "#%%\n"
    }
   }
  },
  {
   "cell_type": "code",
   "execution_count": 83,
   "outputs": [],
   "source": [
    "# Generate the multi_step class\n",
    "multi_step_graph = multi_step_single_objective.multi_step_output_prediction('adagrad', learning_rate=0.005, training='sobol')"
   ],
   "metadata": {
    "collapsed": false,
    "pycharm": {
     "name": "#%%\n"
    }
   }
  },
  {
   "cell_type": "code",
   "execution_count": 84,
   "outputs": [
    {
     "name": "stderr",
     "output_type": "stream",
     "text": [
      "c:\\users\\geeso\\virtualenvironments\\multi-step-framework\\lib\\site-packages\\dgl\\base.py:45: DGLWarning: Recommend creating graphs by `dgl.graph(data)` instead of `dgl.DGLGraph(data)`.\n",
      "  return warnings.warn(message, category=category, stacklevel=1)\n"
     ]
    }
   ],
   "source": [
    "# Load the models into the framework\n",
    "\n",
    "#Define the stages\n",
    "# stageID, stageModel, conditionRanges, followingStages (followingStageID, feedingVariables)\n",
    "stage1 = utils.stage(0, stage1Model, stage1Ranges, outputDimension=9, followingStages=[[1, [0,1,2]], [2, [0,1,2,3]]])\n",
    "stage2 = utils.stage(1, stage2Model, stage2Ranges[3:], outputDimension=1, followingStages=[[2,[0]]])\n",
    "stage3 = utils.stage(2, stage3Model, stage3Ranges[5:], outputDimension=1)\n",
    "\n",
    "stages = [stage1, stage2, stage3]\n",
    "\n",
    "multi_step_graph.loadModels(stages)"
   ],
   "metadata": {
    "collapsed": false,
    "pycharm": {
     "name": "#%%\n"
    }
   }
  },
  {
   "cell_type": "code",
   "execution_count": 85,
   "outputs": [],
   "source": [
    "if plotGP == True:\n",
    "    # print('Stage 1')\n",
    "    # GPPlotter(stage1,data_s1,7,2,0)\n",
    "    # # GPPlotter(stage2,data_s2,8,0,0)\n",
    "    # print('Stage 3')\n",
    "    # GPPlotter(stage3,data_s3,7,5,0)\n",
    "    # print('Stage 2')\n",
    "    # for i in range(8):\n",
    "    #     GPPlotter(stage2,data_s2,8,i,0)\n",
    "    print('Stage 3')\n",
    "    for i in range(7):\n",
    "        GPPlotter(stage3,data_s3,7,i,0)"
   ],
   "metadata": {
    "collapsed": false,
    "pycharm": {
     "name": "#%%\n"
    }
   }
  },
  {
   "cell_type": "code",
   "execution_count": 86,
   "outputs": [],
   "source": [
    "# Define the objective functions\n",
    "\n",
    "def objectiveFunction1(var1):\n",
    "    return var1 * 10\n",
    "\n",
    "def objectiveFunction2(*args):\n",
    "    # stage1: 'T','R','Ch2so4','a-pinene','3-carene','b-pinene','time'\n",
    "    # stage2: 'T','Q_liq','Q_gas','radical_initiator','time'\n",
    "    # stage3: 'ox','T'\n",
    "\n",
    "    materialUnitCosts = tf.constant([1.0,1.0,1.0,1.0,1.0,1.0])\n",
    "    materialIndices = [2,3,4,5,10,12]\n",
    "    timeCostConstant = 0.1\n",
    "    heatingCostConstant = 0.1\n",
    "\n",
    "    # materialAmounts = tf.concat([*args[2:6],args[10],args[12]], axis=0)\n",
    "    # materialAmounts = tf.constant(args[2:6]+[args[10]]+[args[12]])\n",
    "\n",
    "    # materialCosts = tf.tensordot(materialAmounts, materialUnitCosts, axes=1)\n",
    "    # materialCosts = tf.reduce_sum(materialAmounts)\n",
    "    for count, index in enumerate(materialIndices):\n",
    "        try:\n",
    "            materialCosts += materialUnitCosts[count] * args[index]\n",
    "        except:\n",
    "            materialCosts = materialUnitCosts[index] * args[index]\n",
    "    timeCosts = (args[6] + args[11]) * timeCostConstant\n",
    "    heatingCosts = (args[0] + args[7] + args[13]) * heatingCostConstant\n",
    "    # print('Time: {}, Heat: {}, Materials: {}'.format(timeCosts,heatingCosts,materialCosts))\n",
    "    return -(timeCosts + heatingCosts + materialCosts)\n",
    "\n",
    "def objectiveFunction(*args):\n",
    "    return objectiveFunction1(args[0]) - objectiveFunction2(*args[1:])\n",
    "\n",
    "# Define the objective objects including the objective functions and the IDs of relevant variables/outputs\n",
    "# Define objective variables with form: [stage, 'input'/'output', stage variable]\n",
    "# objective1 = utils.objective(objectiveFunction1, [[stage3,'outputs',0]])\n",
    "# objective2 = utils.objective(objectiveFunction2,[\n",
    "#     [stage1,'inputs',0],[stage1,'inputs',1],[stage1,'inputs',2],[stage1,'inputs',3],[stage1,'inputs',4],[stage1,'inputs',5],[stage1,'inputs',6],\n",
    "#     [stage2,'inputs',3],[stage2,'inputs',4],[stage2,'inputs',5],[stage2,'inputs',6],[stage2,'inputs',7],\n",
    "#     [stage3,'inputs',5],[stage3,'inputs',6]\n",
    "# ])\n",
    "objective0 = utils.objective(objectiveFunction,[\n",
    "    [stage3,'outputs',0],\n",
    "    [stage1,'inputs',0],[stage1,'inputs',1],[stage1,'inputs',2],[stage1,'inputs',3],[stage1,'inputs',4],[stage1,'inputs',5],[stage1,'inputs',6],\n",
    "    [stage2,'inputs',3],[stage2,'inputs',4],[stage2,'inputs',5],[stage2,'inputs',6],[stage2,'inputs',7],\n",
    "    [stage3,'inputs',5],[stage3,'inputs',6]\n",
    "])\n",
    "\n",
    "# objectives = [objective1, objective2]\n",
    "objectives = [objective0]\n",
    "# objectives = [objective1]"
   ],
   "metadata": {
    "collapsed": false,
    "pycharm": {
     "name": "#%%\n"
    }
   }
  },
  {
   "cell_type": "code",
   "execution_count": 87,
   "outputs": [],
   "source": [
    "# Define the objectives for the framework\n",
    "multi_step_graph.defineObjectives(objectives)"
   ],
   "metadata": {
    "collapsed": false,
    "pycharm": {
     "name": "#%%\n"
    }
   }
  },
  {
   "cell_type": "code",
   "execution_count": 88,
   "outputs": [
    {
     "name": "stdout",
     "output_type": "stream",
     "text": [
      "Starting training\n",
      "Mean:  77.10458\n",
      "Range:  46.727955\n",
      "Epoch: 0, Loss: 0.0922001451253891\n",
      "Epoch: 1, Loss: 0.06206758692860603\n",
      "Epoch: 2, Loss: 0.05765598267316818\n",
      "Epoch: 3, Loss: 0.05495673790574074\n",
      "Epoch: 4, Loss: 0.053212154656648636\n",
      "Epoch: 5, Loss: 0.05263273045420647\n",
      "Epoch: 6, Loss: 0.05121121555566788\n",
      "Epoch: 7, Loss: 0.05004318058490753\n",
      "Epoch: 8, Loss: 0.04877303168177605\n",
      "Epoch: 9, Loss: 0.0481841079890728\n",
      "Epoch: 10, Loss: 0.04784483090043068\n",
      "Epoch: 11, Loss: 0.047224514186382294\n",
      "Epoch: 12, Loss: 0.04689556732773781\n",
      "Epoch: 13, Loss: 0.04660242423415184\n",
      "Epoch: 14, Loss: 0.045842256397008896\n",
      "Epoch: 15, Loss: 0.0457632876932621\n",
      "Epoch: 16, Loss: 0.044882941991090775\n",
      "Epoch: 17, Loss: 0.044520530849695206\n",
      "Epoch: 18, Loss: 0.043347496539354324\n",
      "Epoch: 19, Loss: 0.04174431413412094\n",
      "Epoch: 20, Loss: 0.041304443031549454\n",
      "Epoch: 21, Loss: 0.040281686931848526\n",
      "Epoch: 22, Loss: 0.0392899364233017\n",
      "Epoch: 23, Loss: 0.038602862507104874\n",
      "Epoch: 24, Loss: 0.03842863067984581\n",
      "Epoch: 25, Loss: 0.03721461072564125\n",
      "Epoch: 26, Loss: 0.03642350807785988\n",
      "Epoch: 27, Loss: 0.035643402487039566\n",
      "Epoch: 28, Loss: 0.0355997197329998\n",
      "Epoch: 29, Loss: 0.03516335040330887\n",
      "Epoch: 30, Loss: 0.03567778319120407\n",
      "Epoch: 31, Loss: 0.03451630100607872\n",
      "Epoch: 32, Loss: 0.03458927944302559\n",
      "Epoch: 33, Loss: 0.03385205566883087\n",
      "Epoch: 34, Loss: 0.0340578593313694\n",
      "Epoch: 35, Loss: 0.033333636820316315\n",
      "Epoch: 36, Loss: 0.033201493322849274\n",
      "Epoch: 37, Loss: 0.03308888524770737\n",
      "Epoch: 38, Loss: 0.03323288634419441\n",
      "Epoch: 39, Loss: 0.032484132796525955\n",
      "Epoch: 40, Loss: 0.03278559818863869\n",
      "Epoch: 41, Loss: 0.032094307243824005\n",
      "Epoch: 42, Loss: 0.03206668794155121\n",
      "Epoch: 43, Loss: 0.03184956684708595\n",
      "Epoch: 44, Loss: 0.03162449225783348\n",
      "Epoch: 45, Loss: 0.03151223435997963\n",
      "Epoch: 46, Loss: 0.03129892796278\n",
      "Epoch: 47, Loss: 0.031220817938447\n",
      "Epoch: 48, Loss: 0.031357284635305405\n",
      "Epoch: 49, Loss: 0.03079254738986492\n",
      "Epoch: 50, Loss: 0.030733076855540276\n",
      "Epoch: 51, Loss: 0.030511103570461273\n",
      "Epoch: 52, Loss: 0.030350498855113983\n",
      "Epoch: 53, Loss: 0.030291764065623283\n",
      "Epoch: 54, Loss: 0.030114345252513885\n",
      "Epoch: 55, Loss: 0.029960276558995247\n",
      "Epoch: 56, Loss: 0.030170921236276627\n",
      "Epoch: 57, Loss: 0.029623031616210938\n",
      "Epoch: 58, Loss: 0.029651867225766182\n",
      "Epoch: 59, Loss: 0.029390182346105576\n",
      "Epoch: 60, Loss: 0.029309185221791267\n",
      "Epoch: 61, Loss: 0.0291652400046587\n",
      "Epoch: 62, Loss: 0.029137803241610527\n",
      "Epoch: 63, Loss: 0.02886359952390194\n",
      "Epoch: 64, Loss: 0.028833385556936264\n",
      "Epoch: 65, Loss: 0.028736034408211708\n",
      "Epoch: 66, Loss: 0.028699778020381927\n",
      "Epoch: 67, Loss: 0.02843867987394333\n",
      "Epoch: 68, Loss: 0.02831449545919895\n",
      "Epoch: 69, Loss: 0.028300177305936813\n",
      "Epoch: 70, Loss: 0.028269287198781967\n",
      "Epoch: 71, Loss: 0.028204869478940964\n",
      "Epoch: 72, Loss: 0.027963249012827873\n",
      "Epoch: 73, Loss: 0.027851033955812454\n",
      "Epoch: 74, Loss: 0.02783413976430893\n",
      "Epoch: 75, Loss: 0.028091076761484146\n",
      "Epoch: 76, Loss: 0.027658827602863312\n",
      "Epoch: 77, Loss: 0.027543822303414345\n",
      "Epoch: 78, Loss: 0.027446838095784187\n",
      "Epoch: 79, Loss: 0.02738031931221485\n",
      "Epoch: 80, Loss: 0.02743680216372013\n",
      "Epoch: 81, Loss: 0.027333948761224747\n",
      "Epoch: 82, Loss: 0.02725653164088726\n",
      "Epoch: 83, Loss: 0.027096549049019814\n",
      "Epoch: 84, Loss: 0.027006952092051506\n",
      "Epoch: 85, Loss: 0.026946289464831352\n",
      "Epoch: 86, Loss: 0.0270063653588295\n",
      "Epoch: 87, Loss: 0.02685152366757393\n",
      "Epoch: 88, Loss: 0.026832472532987595\n",
      "Epoch: 89, Loss: 0.026688991114497185\n",
      "Epoch: 90, Loss: 0.026607204228639603\n",
      "Epoch: 91, Loss: 0.026532776653766632\n",
      "Epoch: 92, Loss: 0.026461394503712654\n",
      "Epoch: 93, Loss: 0.026414595544338226\n",
      "Epoch: 94, Loss: 0.026474587619304657\n",
      "Epoch: 95, Loss: 0.02637329138815403\n",
      "Epoch: 96, Loss: 0.026315869763493538\n",
      "Epoch: 97, Loss: 0.02617613784968853\n",
      "Epoch: 98, Loss: 0.02609274908900261\n",
      "Epoch: 99, Loss: 0.026018718257546425\n",
      "Epoch: 100, Loss: 0.025948133319616318\n",
      "Epoch: 101, Loss: 0.025879690423607826\n",
      "Epoch: 102, Loss: 0.025813056156039238\n",
      "Epoch: 103, Loss: 0.0257702823728323\n",
      "Epoch: 104, Loss: 0.025771576911211014\n",
      "Epoch: 105, Loss: 0.025710660964250565\n",
      "Epoch: 106, Loss: 0.025761166587471962\n",
      "Epoch: 107, Loss: 0.025571512058377266\n",
      "Epoch: 108, Loss: 0.025486771017313004\n",
      "Epoch: 109, Loss: 0.025419941172003746\n",
      "Epoch: 110, Loss: 0.025359133258461952\n",
      "Epoch: 111, Loss: 0.025334211066365242\n",
      "Epoch: 112, Loss: 0.02533363737165928\n",
      "Epoch: 113, Loss: 0.025228211656212807\n",
      "Epoch: 114, Loss: 0.025160809978842735\n",
      "Epoch: 115, Loss: 0.02510189823806286\n",
      "Epoch: 116, Loss: 0.025046052411198616\n",
      "Epoch: 117, Loss: 0.024991663172841072\n",
      "Epoch: 118, Loss: 0.02493828535079956\n",
      "Epoch: 119, Loss: 0.024948446080088615\n",
      "Epoch: 120, Loss: 0.02522321231663227\n",
      "Epoch: 121, Loss: 0.024922076612710953\n",
      "Epoch: 122, Loss: 0.023877520114183426\n",
      "Epoch: 123, Loss: 0.023548392578959465\n",
      "Epoch: 124, Loss: 0.023406557738780975\n",
      "Epoch: 125, Loss: 0.023159271106123924\n",
      "Epoch: 126, Loss: 0.0230984129011631\n",
      "Epoch: 127, Loss: 0.022800831124186516\n",
      "Epoch: 128, Loss: 0.022829024121165276\n",
      "Epoch: 129, Loss: 0.02248271554708481\n",
      "Epoch: 130, Loss: 0.023127613589167595\n",
      "Epoch: 131, Loss: 0.022431140765547752\n",
      "Epoch: 132, Loss: 0.022196482867002487\n",
      "Epoch: 133, Loss: 0.022056128829717636\n",
      "Epoch: 134, Loss: 0.021962590515613556\n",
      "Epoch: 135, Loss: 0.02188553288578987\n",
      "Epoch: 136, Loss: 0.021817391738295555\n",
      "Epoch: 137, Loss: 0.021754484623670578\n",
      "Epoch: 138, Loss: 0.02169407345354557\n",
      "Epoch: 139, Loss: 0.021664030849933624\n",
      "Epoch: 140, Loss: 0.022131741046905518\n",
      "Epoch: 141, Loss: 0.02174028940498829\n",
      "Epoch: 142, Loss: 0.021580686792731285\n",
      "Epoch: 143, Loss: 0.021472563967108727\n",
      "Epoch: 144, Loss: 0.021396994590759277\n",
      "Epoch: 145, Loss: 0.021332822740077972\n",
      "Epoch: 146, Loss: 0.02127513475716114\n",
      "Epoch: 147, Loss: 0.021220920607447624\n",
      "Epoch: 148, Loss: 0.02116907387971878\n",
      "Epoch: 149, Loss: 0.021118970587849617\n",
      "Epoch: 150, Loss: 0.02107030525803566\n",
      "Epoch: 151, Loss: 0.02104412205517292\n",
      "Epoch: 152, Loss: 0.02112581953406334\n",
      "Epoch: 153, Loss: 0.02101834863424301\n",
      "Epoch: 154, Loss: 0.020948000252246857\n",
      "Epoch: 155, Loss: 0.020889712497591972\n",
      "Epoch: 156, Loss: 0.020839039236307144\n",
      "Epoch: 157, Loss: 0.020791789516806602\n",
      "Epoch: 158, Loss: 0.020746763795614243\n",
      "Epoch: 159, Loss: 0.020703153684735298\n",
      "Epoch: 160, Loss: 0.020660636946558952\n",
      "Epoch: 161, Loss: 0.02061900682747364\n",
      "Epoch: 162, Loss: 0.020578157156705856\n",
      "Epoch: 163, Loss: 0.020538009703159332\n",
      "Epoch: 164, Loss: 0.02049931325018406\n",
      "Epoch: 165, Loss: 0.02051255851984024\n",
      "Epoch: 166, Loss: 0.020453067496418953\n",
      "Epoch: 167, Loss: 0.020405681803822517\n",
      "Epoch: 168, Loss: 0.02036292664706707\n",
      "Epoch: 169, Loss: 0.020323194563388824\n",
      "Epoch: 170, Loss: 0.020290520042181015\n",
      "Epoch: 171, Loss: 0.020393069833517075\n",
      "Epoch: 172, Loss: 0.020296629518270493\n",
      "Epoch: 173, Loss: 0.020234692841768265\n",
      "Epoch: 174, Loss: 0.020183784887194633\n",
      "Epoch: 175, Loss: 0.0201409924775362\n",
      "Epoch: 176, Loss: 0.02010158635675907\n",
      "Epoch: 177, Loss: 0.020064521580934525\n",
      "Epoch: 178, Loss: 0.020028751343488693\n",
      "Epoch: 179, Loss: 0.019993947818875313\n",
      "Epoch: 180, Loss: 0.019959842786192894\n",
      "Epoch: 181, Loss: 0.019926337525248528\n",
      "Epoch: 182, Loss: 0.01989334262907505\n",
      "Epoch: 183, Loss: 0.019868753850460052\n",
      "Epoch: 184, Loss: 0.0198751799762249\n",
      "Epoch: 185, Loss: 0.01982591487467289\n",
      "Epoch: 186, Loss: 0.019786007702350616\n",
      "Epoch: 187, Loss: 0.019749876111745834\n",
      "Epoch: 188, Loss: 0.019716423004865646\n",
      "Epoch: 189, Loss: 0.01968434639275074\n",
      "Epoch: 190, Loss: 0.019653288647532463\n",
      "Epoch: 191, Loss: 0.019643735140562057\n",
      "Epoch: 192, Loss: 0.019648399204015732\n",
      "Epoch: 193, Loss: 0.019597627222537994\n",
      "Epoch: 194, Loss: 0.019558094441890717\n",
      "Epoch: 195, Loss: 0.01952286623418331\n",
      "Epoch: 196, Loss: 0.01949087344110012\n",
      "Epoch: 197, Loss: 0.019466908648610115\n",
      "Epoch: 198, Loss: 0.019488101825118065\n",
      "Epoch: 199, Loss: 0.01944817416369915\n",
      "Epoch: 200, Loss: 0.019700730219483376\n",
      "Epoch: 201, Loss: 0.019597703590989113\n",
      "Epoch: 202, Loss: 0.020535025745630264\n",
      "Epoch: 203, Loss: 0.019803553819656372\n",
      "Epoch: 204, Loss: 0.020037489011883736\n",
      "Epoch: 205, Loss: 0.019530339166522026\n",
      "Epoch: 206, Loss: 0.01936504989862442\n",
      "Epoch: 207, Loss: 0.019276032224297523\n",
      "Epoch: 208, Loss: 0.019227003678679466\n",
      "Epoch: 209, Loss: 0.0191905926913023\n",
      "Epoch: 210, Loss: 0.019159939140081406\n",
      "Epoch: 211, Loss: 0.01913171261548996\n",
      "Epoch: 212, Loss: 0.019104795530438423\n",
      "Epoch: 213, Loss: 0.01907866634428501\n",
      "Epoch: 214, Loss: 0.01905311830341816\n",
      "Epoch: 215, Loss: 0.019028019160032272\n",
      "Epoch: 216, Loss: 0.01900331862270832\n",
      "Epoch: 217, Loss: 0.018978962674736977\n",
      "Epoch: 218, Loss: 0.018954934552311897\n",
      "Epoch: 219, Loss: 0.018931934610009193\n",
      "Epoch: 220, Loss: 0.01893974281847477\n",
      "Epoch: 221, Loss: 0.01890225149691105\n",
      "Epoch: 222, Loss: 0.018873270601034164\n",
      "Epoch: 223, Loss: 0.018847720697522163\n",
      "Epoch: 224, Loss: 0.018823828548192978\n",
      "Epoch: 225, Loss: 0.0188007652759552\n",
      "Epoch: 226, Loss: 0.018778210505843163\n",
      "Epoch: 227, Loss: 0.018764277920126915\n",
      "Epoch: 228, Loss: 0.018767906352877617\n",
      "Epoch: 229, Loss: 0.018731217831373215\n",
      "Epoch: 230, Loss: 0.018703263252973557\n",
      "Epoch: 231, Loss: 0.018678801134228706\n",
      "Epoch: 232, Loss: 0.018656160682439804\n",
      "Epoch: 233, Loss: 0.018634429201483727\n",
      "Epoch: 234, Loss: 0.01861509680747986\n",
      "Epoch: 235, Loss: 0.018619509413838387\n",
      "Epoch: 236, Loss: 0.018587656319141388\n",
      "Epoch: 237, Loss: 0.01856226660311222\n",
      "Epoch: 238, Loss: 0.01853957585990429\n",
      "Epoch: 239, Loss: 0.01851833052933216\n",
      "Epoch: 240, Loss: 0.018497832119464874\n",
      "Epoch: 241, Loss: 0.01847918890416622\n",
      "Epoch: 242, Loss: 0.01848333328962326\n",
      "Epoch: 243, Loss: 0.018453355878591537\n",
      "Epoch: 244, Loss: 0.01842936873435974\n",
      "Epoch: 245, Loss: 0.018407875671982765\n",
      "Epoch: 246, Loss: 0.018387744203209877\n",
      "Epoch: 247, Loss: 0.018368326127529144\n",
      "Epoch: 248, Loss: 0.018349356949329376\n",
      "Epoch: 249, Loss: 0.018340252339839935\n"
     ]
    }
   ],
   "source": [
    "# Train\n",
    "# numStartSamples, epochs=5, h_dim=5, n_layers=4, network_type='GATConv', **kwargs\n",
    "mean, objectiveRange, losses = multi_step_graph.train(30, epochs=250, h_dim=40, n_layers=1, network_type='GATConv', num_heads=3)#, activation=tf.keras.activations.relu)"
   ],
   "metadata": {
    "collapsed": false,
    "pycharm": {
     "name": "#%%\n"
    }
   }
  },
  {
   "cell_type": "code",
   "execution_count": 89,
   "outputs": [
    {
     "name": "stdout",
     "output_type": "stream",
     "text": [
      "30\n"
     ]
    }
   ],
   "source": [
    "Actual, predicted = multi_step_graph.get_results(30, mean, objectiveRange)"
   ],
   "metadata": {
    "collapsed": false,
    "pycharm": {
     "name": "#%%\n"
    }
   }
  },
  {
   "cell_type": "code",
   "execution_count": 90,
   "outputs": [
    {
     "name": "stdout",
     "output_type": "stream",
     "text": [
      "[93.916046 85.81681  74.282745 80.11402  67.72221  70.818794 60.373085\n",
      " 54.825817 97.48707  68.5358   85.71585  86.21852  66.131386 75.65757\n",
      " 58.89397  62.107758 87.52198  93.559845 69.64762  76.04464  98.24412\n",
      " 58.10551  85.93267  81.711075 75.2481   78.58667  61.82939  81.60385\n",
      " 69.2594   80.7337  ]\n",
      "[[70.42336  82.43902  70.91248  63.89554  70.530304 77.51876  65.131195\n",
      "  70.684494 82.43902  67.65092  82.43902  82.43902  64.02798  67.74791\n",
      "  60.0356   63.770622 75.88432  80.48226  76.719826 82.43902  82.43902\n",
      "  54.61274  80.94704  79.287476 82.43902  76.287834 68.548134 82.43902\n",
      "  73.18308  82.43902 ]]\n"
     ]
    }
   ],
   "source": [
    "print(Actual)\n",
    "print(predicted)"
   ],
   "metadata": {
    "collapsed": false,
    "pycharm": {
     "name": "#%%\n"
    }
   }
  },
  {
   "cell_type": "code",
   "execution_count": 91,
   "outputs": [
    {
     "data": {
      "text/plain": "<Figure size 864x432 with 1 Axes>",
      "image/png": "[encoded data removed]"
     },
     "metadata": {
      "needs_background": "light"
     },
     "output_type": "display_data"
    }
   ],
   "source": [
    "pareto = plt.figure(figsize=(12, 6))\n",
    "ax = pareto.add_axes([0.1, 0.1, 0.8, 0.8])\n",
    "ax.scatter(Actual,predicted)\n",
    "# ax.set_xscale('log')\n",
    "ax.set_xlabel('Actual Objective Value')\n",
    "ax.set_ylabel('Predicted Objective Value')\n",
    "pareto.savefig('././figures/predicted.pdf')"
   ],
   "metadata": {
    "collapsed": false,
    "pycharm": {
     "name": "#%%\n"
    }
   }
  },
  {
   "cell_type": "code",
   "execution_count": 92,
   "outputs": [
    {
     "data": {
      "text/plain": "<Figure size 864x432 with 1 Axes>",
      "image/png": "[encoded data removed]"
     },
     "metadata": {
      "needs_background": "light"
     },
     "output_type": "display_data"
    }
   ],
   "source": [
    "loss_fig = plt.figure(figsize=(12, 6))\n",
    "ax = loss_fig.add_axes([0.1, 0.1, 0.8, 0.8])\n",
    "ax.scatter(range(len(losses)),losses)\n",
    "ax.set_yscale('log')\n",
    "ax.set_xlabel('Epoch')\n",
    "ax.set_ylabel('Loss')\n",
    "loss_fig.savefig('././figures/losses.pdf')"
   ],
   "metadata": {
    "collapsed": false,
    "pycharm": {
     "name": "#%%\n"
    }
   }
  },
  {
   "cell_type": "code",
   "execution_count": 92,
   "outputs": [],
   "source": [],
   "metadata": {
    "collapsed": false,
    "pycharm": {
     "name": "#%%"
    }
   }
  }
 ],
 "metadata": {
  "kernelspec": {
   "display_name": "Python 3",
   "language": "python",
   "name": "python3"
  },
  "language_info": {
   "codemirror_mode": {
    "name": "ipython",
    "version": 2
   },
   "file_extension": ".py",
   "mimetype": "text/x-python",
   "name": "python",
   "nbconvert_exporter": "python",
   "pygments_lexer": "ipython2",
   "version": "2.7.6"
  }
 },
 "nbformat": 4,
 "nbformat_minor": 0
}